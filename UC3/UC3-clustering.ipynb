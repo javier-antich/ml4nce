{
 "cells": [
  {
   "cell_type": "markdown",
   "id": "xs8t2_aS2eK4",
   "metadata": {
    "id": "xs8t2_aS2eK4"
   },
   "source": [
    "# Connection to drive and path definition"
   ]
  },
  {
   "cell_type": "code",
   "execution_count": 1,
   "id": "tRFF14OYh2Ws",
   "metadata": {
    "id": "tRFF14OYh2Ws"
   },
   "outputs": [],
   "source": [
    "import sys\n",
    "sys.path.insert(0, '/home/gpaasch/ml4nce')\n",
    "path_files ='/home/gpaasch/ml4nce/UC3/'"
   ]
  },
  {
   "cell_type": "markdown",
   "id": "OVqOBg_g2iZc",
   "metadata": {
    "id": "OVqOBg_g2iZc"
   },
   "source": [
    "# Import libraries"
   ]
  },
  {
   "cell_type": "code",
   "execution_count": 2,
   "id": "5bcc0754",
   "metadata": {
    "id": "5bcc0754"
   },
   "outputs": [
    {
     "name": "stderr",
     "output_type": "stream",
     "text": [
      "2024-05-25 09:40:30.278006: I tensorflow/core/platform/cpu_feature_guard.cc:210] This TensorFlow binary is optimized to use available CPU instructions in performance-critical operations.\n",
      "To enable the following instructions: AVX2 FMA, in other operations, rebuild TensorFlow with the appropriate compiler flags.\n",
      "2024-05-25 09:40:30.879589: W tensorflow/compiler/tf2tensorrt/utils/py_utils.cc:38] TF-TRT Warning: Could not find TensorRT\n"
     ]
    }
   ],
   "source": [
    "from prophet import Prophet\n",
    "import pandas as pd\n",
    "import numpy as np\n",
    "import matplotlib.pyplot as plt\n",
    "import seaborn as sns\n",
    "from sklearn.metrics import mean_absolute_error,mean_absolute_percentage_error\n",
    "import time\n",
    "from calendar import timegm, monthrange\n",
    "from datetime import datetime, timedelta\n",
    "import math\n",
    "from SANDS import sands\n",
    "from sklearn.preprocessing import MinMaxScaler, StandardScaler\n",
    "import tensorflow as tf\n",
    "from tensorflow import keras\n",
    "from os import listdir\n",
    "from os.path import isfile, join\n",
    "from tensorflow.keras import layers\n",
    "from tensorflow.keras.layers import Embedding, LSTM, Dense, Bidirectional\n",
    "from tensorflow.keras.preprocessing.text import Tokenizer\n",
    "from tensorflow.keras.models import Sequential\n",
    "from tensorflow.keras.optimizers import Adam\n",
    "from tensorflow.keras.callbacks import ModelCheckpoint\n",
    "from tensorflow.keras.metrics import CategoricalAccuracy,Accuracy,BinaryAccuracy\n",
    "\n",
    "\n",
    "from sklearn.ensemble import IsolationForest\n",
    "from sklearn.cluster import DBSCAN\n",
    "from sklearn.neighbors import NearestNeighbors\n",
    "from sklearn.cluster import KMeans\n",
    "from sklearn.cluster import AgglomerativeClustering\n",
    "from scipy.cluster.hierarchy import dendrogram, linkage, fcluster, cophenet"
   ]
  },
  {
   "cell_type": "markdown",
   "id": "uHndIvGM2mWO",
   "metadata": {
    "id": "uHndIvGM2mWO"
   },
   "source": [
    "# Data generation"
   ]
  },
  {
   "cell_type": "markdown",
   "id": "dEBvqSlb2ql9",
   "metadata": {
    "id": "dEBvqSlb2ql9"
   },
   "source": [
    "Run the next four cells if you want to generate new data. Otherwise skip them and load the saved data file"
   ]
  },
  {
   "cell_type": "code",
   "execution_count": 3,
   "id": "49f6e483",
   "metadata": {
    "id": "49f6e483"
   },
   "outputs": [],
   "source": [
    "parameters1 = {\n",
    "        'time_delta':5\n",
    "    }"
   ]
  },
  {
   "cell_type": "code",
   "execution_count": 4,
   "id": "iqUSed6pFLiX",
   "metadata": {
    "id": "iqUSed6pFLiX"
   },
   "outputs": [],
   "source": [
    "device_filter = {\n",
    "    'vendor':'Versa'\n",
    "}"
   ]
  },
  {
   "cell_type": "code",
   "execution_count": 5,
   "id": "f79b760e",
   "metadata": {
    "id": "f79b760e"
   },
   "outputs": [],
   "source": [
    "metric_df = sands.generate_device_metric_time_range(datetime.now(),datetime.now()+timedelta(minutes=4),parameters1,\"none\",['mem_utilization','cpu_utilization'],device_filter)\n"
   ]
  },
  {
   "cell_type": "code",
   "execution_count": 6,
   "id": "Q8KyVu6RJgiJ",
   "metadata": {
    "id": "Q8KyVu6RJgiJ"
   },
   "outputs": [],
   "source": [
    "metric_df.to_csv(join(path_files,'mem_and_cpu_utilization_sdwan_metric.csv'))"
   ]
  },
  {
   "cell_type": "markdown",
   "id": "0bV_vNVg2wEk",
   "metadata": {
    "id": "0bV_vNVg2wEk"
   },
   "source": [
    "Run the next cell to load saved dataset"
   ]
  },
  {
   "cell_type": "code",
   "execution_count": 7,
   "id": "4iu-zhHcJuib",
   "metadata": {
    "id": "4iu-zhHcJuib"
   },
   "outputs": [],
   "source": [
    "metric_df=pd.read_csv(join(path_files,'mem_and_cpu_utilization_sdwan_metric.csv'),index_col=0)"
   ]
  },
  {
   "cell_type": "code",
   "execution_count": 9,
   "id": "819b6b01",
   "metadata": {
    "colab": {
     "base_uri": "https://localhost:8080/",
     "height": 423
    },
    "executionInfo": {
     "elapsed": 8,
     "status": "ok",
     "timestamp": 1671119276551,
     "user": {
      "displayName": "Javier Antich",
      "userId": "07400792213044689039"
     },
     "user_tz": -60
    },
    "id": "819b6b01",
    "outputId": "6ece34ff-65d5-4073-cb70-ab6ea9b6165f"
   },
   "outputs": [
    {
     "data": {
      "text/html": [
       "<div>\n",
       "<style scoped>\n",
       "    .dataframe tbody tr th:only-of-type {\n",
       "        vertical-align: middle;\n",
       "    }\n",
       "\n",
       "    .dataframe tbody tr th {\n",
       "        vertical-align: top;\n",
       "    }\n",
       "\n",
       "    .dataframe thead th {\n",
       "        text-align: right;\n",
       "    }\n",
       "</style>\n",
       "<table border=\"1\" class=\"dataframe\">\n",
       "  <thead>\n",
       "    <tr style=\"text-align: right;\">\n",
       "      <th></th>\n",
       "      <th>timestamp</th>\n",
       "      <th>cpu_utilization</th>\n",
       "      <th>device_name</th>\n",
       "      <th>vendor</th>\n",
       "      <th>model</th>\n",
       "      <th>os</th>\n",
       "      <th>version</th>\n",
       "      <th>hw_revision</th>\n",
       "      <th>role</th>\n",
       "      <th>ip_address</th>\n",
       "      <th>mem_utilization</th>\n",
       "    </tr>\n",
       "  </thead>\n",
       "  <tbody>\n",
       "    <tr>\n",
       "      <th>0</th>\n",
       "      <td>1716630032</td>\n",
       "      <td>NaN</td>\n",
       "      <td>E-1-1</td>\n",
       "      <td>Versa</td>\n",
       "      <td>versa_1</td>\n",
       "      <td>VOS</td>\n",
       "      <td>21.1.0</td>\n",
       "      <td>hw-versa-0001</td>\n",
       "      <td>vedge_hub</td>\n",
       "      <td>10.3.1.1</td>\n",
       "      <td>34.0</td>\n",
       "    </tr>\n",
       "    <tr>\n",
       "      <th>1</th>\n",
       "      <td>1716630032</td>\n",
       "      <td>30.0</td>\n",
       "      <td>E-1-1</td>\n",
       "      <td>Versa</td>\n",
       "      <td>versa_1</td>\n",
       "      <td>VOS</td>\n",
       "      <td>21.1.0</td>\n",
       "      <td>hw-versa-0001</td>\n",
       "      <td>vedge_hub</td>\n",
       "      <td>10.3.1.1</td>\n",
       "      <td>NaN</td>\n",
       "    </tr>\n",
       "    <tr>\n",
       "      <th>2</th>\n",
       "      <td>1716630032</td>\n",
       "      <td>NaN</td>\n",
       "      <td>E-1-2</td>\n",
       "      <td>Versa</td>\n",
       "      <td>versa_1</td>\n",
       "      <td>VOS</td>\n",
       "      <td>21.1.0</td>\n",
       "      <td>hw-versa-0001</td>\n",
       "      <td>vedge_hub</td>\n",
       "      <td>10.3.1.2</td>\n",
       "      <td>34.0</td>\n",
       "    </tr>\n",
       "    <tr>\n",
       "      <th>3</th>\n",
       "      <td>1716630032</td>\n",
       "      <td>31.0</td>\n",
       "      <td>E-1-2</td>\n",
       "      <td>Versa</td>\n",
       "      <td>versa_1</td>\n",
       "      <td>VOS</td>\n",
       "      <td>21.1.0</td>\n",
       "      <td>hw-versa-0001</td>\n",
       "      <td>vedge_hub</td>\n",
       "      <td>10.3.1.2</td>\n",
       "      <td>NaN</td>\n",
       "    </tr>\n",
       "    <tr>\n",
       "      <th>4</th>\n",
       "      <td>1716630032</td>\n",
       "      <td>NaN</td>\n",
       "      <td>E-2-1</td>\n",
       "      <td>Versa</td>\n",
       "      <td>versa_1</td>\n",
       "      <td>VOS</td>\n",
       "      <td>21.1.0</td>\n",
       "      <td>hw-versa-0001</td>\n",
       "      <td>vedge_branch</td>\n",
       "      <td>10.3.2.1</td>\n",
       "      <td>32.0</td>\n",
       "    </tr>\n",
       "    <tr>\n",
       "      <th>...</th>\n",
       "      <td>...</td>\n",
       "      <td>...</td>\n",
       "      <td>...</td>\n",
       "      <td>...</td>\n",
       "      <td>...</td>\n",
       "      <td>...</td>\n",
       "      <td>...</td>\n",
       "      <td>...</td>\n",
       "      <td>...</td>\n",
       "      <td>...</td>\n",
       "      <td>...</td>\n",
       "    </tr>\n",
       "    <tr>\n",
       "      <th>395</th>\n",
       "      <td>1716630032</td>\n",
       "      <td>10.0</td>\n",
       "      <td>E-99-2</td>\n",
       "      <td>Versa</td>\n",
       "      <td>versa_2</td>\n",
       "      <td>VOS</td>\n",
       "      <td>21.1.1</td>\n",
       "      <td>hw-versa-0001</td>\n",
       "      <td>vedge_branch</td>\n",
       "      <td>10.3.99.2</td>\n",
       "      <td>NaN</td>\n",
       "    </tr>\n",
       "    <tr>\n",
       "      <th>396</th>\n",
       "      <td>1716630032</td>\n",
       "      <td>NaN</td>\n",
       "      <td>E-100-1</td>\n",
       "      <td>Versa</td>\n",
       "      <td>versa_2</td>\n",
       "      <td>VOS</td>\n",
       "      <td>21.1.0</td>\n",
       "      <td>hw-versa-0002</td>\n",
       "      <td>vedge_hub</td>\n",
       "      <td>10.3.100.1</td>\n",
       "      <td>78.0</td>\n",
       "    </tr>\n",
       "    <tr>\n",
       "      <th>397</th>\n",
       "      <td>1716630032</td>\n",
       "      <td>34.0</td>\n",
       "      <td>E-100-1</td>\n",
       "      <td>Versa</td>\n",
       "      <td>versa_2</td>\n",
       "      <td>VOS</td>\n",
       "      <td>21.1.0</td>\n",
       "      <td>hw-versa-0002</td>\n",
       "      <td>vedge_hub</td>\n",
       "      <td>10.3.100.1</td>\n",
       "      <td>NaN</td>\n",
       "    </tr>\n",
       "    <tr>\n",
       "      <th>398</th>\n",
       "      <td>1716630032</td>\n",
       "      <td>NaN</td>\n",
       "      <td>E-100-2</td>\n",
       "      <td>Versa</td>\n",
       "      <td>versa_2</td>\n",
       "      <td>VOS</td>\n",
       "      <td>21.1.0</td>\n",
       "      <td>hw-versa-0002</td>\n",
       "      <td>vedge_hub</td>\n",
       "      <td>10.3.100.2</td>\n",
       "      <td>78.0</td>\n",
       "    </tr>\n",
       "    <tr>\n",
       "      <th>399</th>\n",
       "      <td>1716630032</td>\n",
       "      <td>32.0</td>\n",
       "      <td>E-100-2</td>\n",
       "      <td>Versa</td>\n",
       "      <td>versa_2</td>\n",
       "      <td>VOS</td>\n",
       "      <td>21.1.0</td>\n",
       "      <td>hw-versa-0002</td>\n",
       "      <td>vedge_hub</td>\n",
       "      <td>10.3.100.2</td>\n",
       "      <td>NaN</td>\n",
       "    </tr>\n",
       "  </tbody>\n",
       "</table>\n",
       "<p>400 rows × 11 columns</p>\n",
       "</div>"
      ],
      "text/plain": [
       "      timestamp  cpu_utilization device_name vendor    model   os version  \\\n",
       "0    1716630032              NaN       E-1-1  Versa  versa_1  VOS  21.1.0   \n",
       "1    1716630032             30.0       E-1-1  Versa  versa_1  VOS  21.1.0   \n",
       "2    1716630032              NaN       E-1-2  Versa  versa_1  VOS  21.1.0   \n",
       "3    1716630032             31.0       E-1-2  Versa  versa_1  VOS  21.1.0   \n",
       "4    1716630032              NaN       E-2-1  Versa  versa_1  VOS  21.1.0   \n",
       "..          ...              ...         ...    ...      ...  ...     ...   \n",
       "395  1716630032             10.0      E-99-2  Versa  versa_2  VOS  21.1.1   \n",
       "396  1716630032              NaN     E-100-1  Versa  versa_2  VOS  21.1.0   \n",
       "397  1716630032             34.0     E-100-1  Versa  versa_2  VOS  21.1.0   \n",
       "398  1716630032              NaN     E-100-2  Versa  versa_2  VOS  21.1.0   \n",
       "399  1716630032             32.0     E-100-2  Versa  versa_2  VOS  21.1.0   \n",
       "\n",
       "       hw_revision          role  ip_address  mem_utilization  \n",
       "0    hw-versa-0001     vedge_hub    10.3.1.1             34.0  \n",
       "1    hw-versa-0001     vedge_hub    10.3.1.1              NaN  \n",
       "2    hw-versa-0001     vedge_hub    10.3.1.2             34.0  \n",
       "3    hw-versa-0001     vedge_hub    10.3.1.2              NaN  \n",
       "4    hw-versa-0001  vedge_branch    10.3.2.1             32.0  \n",
       "..             ...           ...         ...              ...  \n",
       "395  hw-versa-0001  vedge_branch   10.3.99.2              NaN  \n",
       "396  hw-versa-0002     vedge_hub  10.3.100.1             78.0  \n",
       "397  hw-versa-0002     vedge_hub  10.3.100.1              NaN  \n",
       "398  hw-versa-0002     vedge_hub  10.3.100.2             78.0  \n",
       "399  hw-versa-0002     vedge_hub  10.3.100.2              NaN  \n",
       "\n",
       "[400 rows x 11 columns]"
      ]
     },
     "execution_count": 9,
     "metadata": {},
     "output_type": "execute_result"
    }
   ],
   "source": [
    "metric_df"
   ]
  },
  {
   "cell_type": "markdown",
   "id": "k0A2CBqa21Zm",
   "metadata": {
    "id": "k0A2CBqa21Zm"
   },
   "source": [
    "# Data preparation"
   ]
  },
  {
   "cell_type": "code",
   "execution_count": 10,
   "id": "2wjDI8T3SneD",
   "metadata": {
    "id": "2wjDI8T3SneD"
   },
   "outputs": [],
   "source": [
    "metric_df = metric_df.fillna(0)"
   ]
  },
  {
   "cell_type": "code",
   "execution_count": 11,
   "id": "E0nUI5gESxqu",
   "metadata": {
    "colab": {
     "base_uri": "https://localhost:8080/",
     "height": 423
    },
    "executionInfo": {
     "elapsed": 4,
     "status": "ok",
     "timestamp": 1671122982229,
     "user": {
      "displayName": "Javier Antich",
      "userId": "07400792213044689039"
     },
     "user_tz": -60
    },
    "id": "E0nUI5gESxqu",
    "outputId": "50d29475-309b-4483-f97a-d5fe89a6f2d6"
   },
   "outputs": [
    {
     "data": {
      "text/html": [
       "<div>\n",
       "<style scoped>\n",
       "    .dataframe tbody tr th:only-of-type {\n",
       "        vertical-align: middle;\n",
       "    }\n",
       "\n",
       "    .dataframe tbody tr th {\n",
       "        vertical-align: top;\n",
       "    }\n",
       "\n",
       "    .dataframe thead th {\n",
       "        text-align: right;\n",
       "    }\n",
       "</style>\n",
       "<table border=\"1\" class=\"dataframe\">\n",
       "  <thead>\n",
       "    <tr style=\"text-align: right;\">\n",
       "      <th></th>\n",
       "      <th>timestamp</th>\n",
       "      <th>cpu_utilization</th>\n",
       "      <th>device_name</th>\n",
       "      <th>vendor</th>\n",
       "      <th>model</th>\n",
       "      <th>os</th>\n",
       "      <th>version</th>\n",
       "      <th>hw_revision</th>\n",
       "      <th>role</th>\n",
       "      <th>ip_address</th>\n",
       "      <th>mem_utilization</th>\n",
       "    </tr>\n",
       "  </thead>\n",
       "  <tbody>\n",
       "    <tr>\n",
       "      <th>0</th>\n",
       "      <td>1716630032</td>\n",
       "      <td>0.0</td>\n",
       "      <td>E-1-1</td>\n",
       "      <td>Versa</td>\n",
       "      <td>versa_1</td>\n",
       "      <td>VOS</td>\n",
       "      <td>21.1.0</td>\n",
       "      <td>hw-versa-0001</td>\n",
       "      <td>vedge_hub</td>\n",
       "      <td>10.3.1.1</td>\n",
       "      <td>34.0</td>\n",
       "    </tr>\n",
       "    <tr>\n",
       "      <th>1</th>\n",
       "      <td>1716630032</td>\n",
       "      <td>30.0</td>\n",
       "      <td>E-1-1</td>\n",
       "      <td>Versa</td>\n",
       "      <td>versa_1</td>\n",
       "      <td>VOS</td>\n",
       "      <td>21.1.0</td>\n",
       "      <td>hw-versa-0001</td>\n",
       "      <td>vedge_hub</td>\n",
       "      <td>10.3.1.1</td>\n",
       "      <td>0.0</td>\n",
       "    </tr>\n",
       "    <tr>\n",
       "      <th>2</th>\n",
       "      <td>1716630032</td>\n",
       "      <td>0.0</td>\n",
       "      <td>E-1-2</td>\n",
       "      <td>Versa</td>\n",
       "      <td>versa_1</td>\n",
       "      <td>VOS</td>\n",
       "      <td>21.1.0</td>\n",
       "      <td>hw-versa-0001</td>\n",
       "      <td>vedge_hub</td>\n",
       "      <td>10.3.1.2</td>\n",
       "      <td>34.0</td>\n",
       "    </tr>\n",
       "    <tr>\n",
       "      <th>3</th>\n",
       "      <td>1716630032</td>\n",
       "      <td>31.0</td>\n",
       "      <td>E-1-2</td>\n",
       "      <td>Versa</td>\n",
       "      <td>versa_1</td>\n",
       "      <td>VOS</td>\n",
       "      <td>21.1.0</td>\n",
       "      <td>hw-versa-0001</td>\n",
       "      <td>vedge_hub</td>\n",
       "      <td>10.3.1.2</td>\n",
       "      <td>0.0</td>\n",
       "    </tr>\n",
       "    <tr>\n",
       "      <th>4</th>\n",
       "      <td>1716630032</td>\n",
       "      <td>0.0</td>\n",
       "      <td>E-2-1</td>\n",
       "      <td>Versa</td>\n",
       "      <td>versa_1</td>\n",
       "      <td>VOS</td>\n",
       "      <td>21.1.0</td>\n",
       "      <td>hw-versa-0001</td>\n",
       "      <td>vedge_branch</td>\n",
       "      <td>10.3.2.1</td>\n",
       "      <td>32.0</td>\n",
       "    </tr>\n",
       "    <tr>\n",
       "      <th>...</th>\n",
       "      <td>...</td>\n",
       "      <td>...</td>\n",
       "      <td>...</td>\n",
       "      <td>...</td>\n",
       "      <td>...</td>\n",
       "      <td>...</td>\n",
       "      <td>...</td>\n",
       "      <td>...</td>\n",
       "      <td>...</td>\n",
       "      <td>...</td>\n",
       "      <td>...</td>\n",
       "    </tr>\n",
       "    <tr>\n",
       "      <th>395</th>\n",
       "      <td>1716630032</td>\n",
       "      <td>10.0</td>\n",
       "      <td>E-99-2</td>\n",
       "      <td>Versa</td>\n",
       "      <td>versa_2</td>\n",
       "      <td>VOS</td>\n",
       "      <td>21.1.1</td>\n",
       "      <td>hw-versa-0001</td>\n",
       "      <td>vedge_branch</td>\n",
       "      <td>10.3.99.2</td>\n",
       "      <td>0.0</td>\n",
       "    </tr>\n",
       "    <tr>\n",
       "      <th>396</th>\n",
       "      <td>1716630032</td>\n",
       "      <td>0.0</td>\n",
       "      <td>E-100-1</td>\n",
       "      <td>Versa</td>\n",
       "      <td>versa_2</td>\n",
       "      <td>VOS</td>\n",
       "      <td>21.1.0</td>\n",
       "      <td>hw-versa-0002</td>\n",
       "      <td>vedge_hub</td>\n",
       "      <td>10.3.100.1</td>\n",
       "      <td>78.0</td>\n",
       "    </tr>\n",
       "    <tr>\n",
       "      <th>397</th>\n",
       "      <td>1716630032</td>\n",
       "      <td>34.0</td>\n",
       "      <td>E-100-1</td>\n",
       "      <td>Versa</td>\n",
       "      <td>versa_2</td>\n",
       "      <td>VOS</td>\n",
       "      <td>21.1.0</td>\n",
       "      <td>hw-versa-0002</td>\n",
       "      <td>vedge_hub</td>\n",
       "      <td>10.3.100.1</td>\n",
       "      <td>0.0</td>\n",
       "    </tr>\n",
       "    <tr>\n",
       "      <th>398</th>\n",
       "      <td>1716630032</td>\n",
       "      <td>0.0</td>\n",
       "      <td>E-100-2</td>\n",
       "      <td>Versa</td>\n",
       "      <td>versa_2</td>\n",
       "      <td>VOS</td>\n",
       "      <td>21.1.0</td>\n",
       "      <td>hw-versa-0002</td>\n",
       "      <td>vedge_hub</td>\n",
       "      <td>10.3.100.2</td>\n",
       "      <td>78.0</td>\n",
       "    </tr>\n",
       "    <tr>\n",
       "      <th>399</th>\n",
       "      <td>1716630032</td>\n",
       "      <td>32.0</td>\n",
       "      <td>E-100-2</td>\n",
       "      <td>Versa</td>\n",
       "      <td>versa_2</td>\n",
       "      <td>VOS</td>\n",
       "      <td>21.1.0</td>\n",
       "      <td>hw-versa-0002</td>\n",
       "      <td>vedge_hub</td>\n",
       "      <td>10.3.100.2</td>\n",
       "      <td>0.0</td>\n",
       "    </tr>\n",
       "  </tbody>\n",
       "</table>\n",
       "<p>400 rows × 11 columns</p>\n",
       "</div>"
      ],
      "text/plain": [
       "      timestamp  cpu_utilization device_name vendor    model   os version  \\\n",
       "0    1716630032              0.0       E-1-1  Versa  versa_1  VOS  21.1.0   \n",
       "1    1716630032             30.0       E-1-1  Versa  versa_1  VOS  21.1.0   \n",
       "2    1716630032              0.0       E-1-2  Versa  versa_1  VOS  21.1.0   \n",
       "3    1716630032             31.0       E-1-2  Versa  versa_1  VOS  21.1.0   \n",
       "4    1716630032              0.0       E-2-1  Versa  versa_1  VOS  21.1.0   \n",
       "..          ...              ...         ...    ...      ...  ...     ...   \n",
       "395  1716630032             10.0      E-99-2  Versa  versa_2  VOS  21.1.1   \n",
       "396  1716630032              0.0     E-100-1  Versa  versa_2  VOS  21.1.0   \n",
       "397  1716630032             34.0     E-100-1  Versa  versa_2  VOS  21.1.0   \n",
       "398  1716630032              0.0     E-100-2  Versa  versa_2  VOS  21.1.0   \n",
       "399  1716630032             32.0     E-100-2  Versa  versa_2  VOS  21.1.0   \n",
       "\n",
       "       hw_revision          role  ip_address  mem_utilization  \n",
       "0    hw-versa-0001     vedge_hub    10.3.1.1             34.0  \n",
       "1    hw-versa-0001     vedge_hub    10.3.1.1              0.0  \n",
       "2    hw-versa-0001     vedge_hub    10.3.1.2             34.0  \n",
       "3    hw-versa-0001     vedge_hub    10.3.1.2              0.0  \n",
       "4    hw-versa-0001  vedge_branch    10.3.2.1             32.0  \n",
       "..             ...           ...         ...              ...  \n",
       "395  hw-versa-0001  vedge_branch   10.3.99.2              0.0  \n",
       "396  hw-versa-0002     vedge_hub  10.3.100.1             78.0  \n",
       "397  hw-versa-0002     vedge_hub  10.3.100.1              0.0  \n",
       "398  hw-versa-0002     vedge_hub  10.3.100.2             78.0  \n",
       "399  hw-versa-0002     vedge_hub  10.3.100.2              0.0  \n",
       "\n",
       "[400 rows x 11 columns]"
      ]
     },
     "execution_count": 11,
     "metadata": {},
     "output_type": "execute_result"
    }
   ],
   "source": [
    "metric_df"
   ]
  },
  {
   "cell_type": "code",
   "execution_count": 12,
   "id": "9DB6FK4eSzra",
   "metadata": {
    "id": "9DB6FK4eSzra"
   },
   "outputs": [],
   "source": [
    "new_metric_df = metric_df.groupby('device_name').sum(['cpu_utilization','memory_utilization'])"
   ]
  },
  {
   "cell_type": "code",
   "execution_count": 13,
   "id": "I6t899zWTqOv",
   "metadata": {
    "colab": {
     "base_uri": "https://localhost:8080/",
     "height": 455
    },
    "executionInfo": {
     "elapsed": 4,
     "status": "ok",
     "timestamp": 1671122985893,
     "user": {
      "displayName": "Javier Antich",
      "userId": "07400792213044689039"
     },
     "user_tz": -60
    },
    "id": "I6t899zWTqOv",
    "outputId": "1e336cb7-4321-4ec1-c57c-255a44c08e37"
   },
   "outputs": [
    {
     "data": {
      "text/html": [
       "<div>\n",
       "<style scoped>\n",
       "    .dataframe tbody tr th:only-of-type {\n",
       "        vertical-align: middle;\n",
       "    }\n",
       "\n",
       "    .dataframe tbody tr th {\n",
       "        vertical-align: top;\n",
       "    }\n",
       "\n",
       "    .dataframe thead th {\n",
       "        text-align: right;\n",
       "    }\n",
       "</style>\n",
       "<table border=\"1\" class=\"dataframe\">\n",
       "  <thead>\n",
       "    <tr style=\"text-align: right;\">\n",
       "      <th></th>\n",
       "      <th>timestamp</th>\n",
       "      <th>cpu_utilization</th>\n",
       "      <th>mem_utilization</th>\n",
       "    </tr>\n",
       "    <tr>\n",
       "      <th>device_name</th>\n",
       "      <th></th>\n",
       "      <th></th>\n",
       "      <th></th>\n",
       "    </tr>\n",
       "  </thead>\n",
       "  <tbody>\n",
       "    <tr>\n",
       "      <th>E-1-1</th>\n",
       "      <td>3433260064</td>\n",
       "      <td>30.0</td>\n",
       "      <td>34.0</td>\n",
       "    </tr>\n",
       "    <tr>\n",
       "      <th>E-1-2</th>\n",
       "      <td>3433260064</td>\n",
       "      <td>31.0</td>\n",
       "      <td>34.0</td>\n",
       "    </tr>\n",
       "    <tr>\n",
       "      <th>E-10-1</th>\n",
       "      <td>3433260064</td>\n",
       "      <td>34.0</td>\n",
       "      <td>33.0</td>\n",
       "    </tr>\n",
       "    <tr>\n",
       "      <th>E-10-2</th>\n",
       "      <td>3433260064</td>\n",
       "      <td>30.0</td>\n",
       "      <td>33.0</td>\n",
       "    </tr>\n",
       "    <tr>\n",
       "      <th>E-100-1</th>\n",
       "      <td>3433260064</td>\n",
       "      <td>34.0</td>\n",
       "      <td>78.0</td>\n",
       "    </tr>\n",
       "    <tr>\n",
       "      <th>...</th>\n",
       "      <td>...</td>\n",
       "      <td>...</td>\n",
       "      <td>...</td>\n",
       "    </tr>\n",
       "    <tr>\n",
       "      <th>E-97-2</th>\n",
       "      <td>3433260064</td>\n",
       "      <td>81.0</td>\n",
       "      <td>31.0</td>\n",
       "    </tr>\n",
       "    <tr>\n",
       "      <th>E-98-1</th>\n",
       "      <td>3433260064</td>\n",
       "      <td>11.0</td>\n",
       "      <td>32.0</td>\n",
       "    </tr>\n",
       "    <tr>\n",
       "      <th>E-98-2</th>\n",
       "      <td>3433260064</td>\n",
       "      <td>10.0</td>\n",
       "      <td>30.0</td>\n",
       "    </tr>\n",
       "    <tr>\n",
       "      <th>E-99-1</th>\n",
       "      <td>3433260064</td>\n",
       "      <td>11.0</td>\n",
       "      <td>33.0</td>\n",
       "    </tr>\n",
       "    <tr>\n",
       "      <th>E-99-2</th>\n",
       "      <td>3433260064</td>\n",
       "      <td>10.0</td>\n",
       "      <td>34.0</td>\n",
       "    </tr>\n",
       "  </tbody>\n",
       "</table>\n",
       "<p>200 rows × 3 columns</p>\n",
       "</div>"
      ],
      "text/plain": [
       "              timestamp  cpu_utilization  mem_utilization\n",
       "device_name                                              \n",
       "E-1-1        3433260064             30.0             34.0\n",
       "E-1-2        3433260064             31.0             34.0\n",
       "E-10-1       3433260064             34.0             33.0\n",
       "E-10-2       3433260064             30.0             33.0\n",
       "E-100-1      3433260064             34.0             78.0\n",
       "...                 ...              ...              ...\n",
       "E-97-2       3433260064             81.0             31.0\n",
       "E-98-1       3433260064             11.0             32.0\n",
       "E-98-2       3433260064             10.0             30.0\n",
       "E-99-1       3433260064             11.0             33.0\n",
       "E-99-2       3433260064             10.0             34.0\n",
       "\n",
       "[200 rows x 3 columns]"
      ]
     },
     "execution_count": 13,
     "metadata": {},
     "output_type": "execute_result"
    }
   ],
   "source": [
    "new_metric_df"
   ]
  },
  {
   "cell_type": "code",
   "execution_count": 14,
   "id": "I46ZzqORTGJq",
   "metadata": {
    "id": "I46ZzqORTGJq"
   },
   "outputs": [],
   "source": [
    "new_metric_df.drop(columns=['timestamp'],inplace=True)"
   ]
  },
  {
   "cell_type": "code",
   "execution_count": 15,
   "id": "6Y7gs-YyTwjH",
   "metadata": {
    "colab": {
     "base_uri": "https://localhost:8080/",
     "height": 455
    },
    "executionInfo": {
     "elapsed": 4,
     "status": "ok",
     "timestamp": 1671122989173,
     "user": {
      "displayName": "Javier Antich",
      "userId": "07400792213044689039"
     },
     "user_tz": -60
    },
    "id": "6Y7gs-YyTwjH",
    "outputId": "08b51fc1-30f1-4911-aa91-e6c66d86635f"
   },
   "outputs": [
    {
     "data": {
      "text/html": [
       "<div>\n",
       "<style scoped>\n",
       "    .dataframe tbody tr th:only-of-type {\n",
       "        vertical-align: middle;\n",
       "    }\n",
       "\n",
       "    .dataframe tbody tr th {\n",
       "        vertical-align: top;\n",
       "    }\n",
       "\n",
       "    .dataframe thead th {\n",
       "        text-align: right;\n",
       "    }\n",
       "</style>\n",
       "<table border=\"1\" class=\"dataframe\">\n",
       "  <thead>\n",
       "    <tr style=\"text-align: right;\">\n",
       "      <th></th>\n",
       "      <th>cpu_utilization</th>\n",
       "      <th>mem_utilization</th>\n",
       "    </tr>\n",
       "    <tr>\n",
       "      <th>device_name</th>\n",
       "      <th></th>\n",
       "      <th></th>\n",
       "    </tr>\n",
       "  </thead>\n",
       "  <tbody>\n",
       "    <tr>\n",
       "      <th>E-1-1</th>\n",
       "      <td>30.0</td>\n",
       "      <td>34.0</td>\n",
       "    </tr>\n",
       "    <tr>\n",
       "      <th>E-1-2</th>\n",
       "      <td>31.0</td>\n",
       "      <td>34.0</td>\n",
       "    </tr>\n",
       "    <tr>\n",
       "      <th>E-10-1</th>\n",
       "      <td>34.0</td>\n",
       "      <td>33.0</td>\n",
       "    </tr>\n",
       "    <tr>\n",
       "      <th>E-10-2</th>\n",
       "      <td>30.0</td>\n",
       "      <td>33.0</td>\n",
       "    </tr>\n",
       "    <tr>\n",
       "      <th>E-100-1</th>\n",
       "      <td>34.0</td>\n",
       "      <td>78.0</td>\n",
       "    </tr>\n",
       "    <tr>\n",
       "      <th>...</th>\n",
       "      <td>...</td>\n",
       "      <td>...</td>\n",
       "    </tr>\n",
       "    <tr>\n",
       "      <th>E-97-2</th>\n",
       "      <td>81.0</td>\n",
       "      <td>31.0</td>\n",
       "    </tr>\n",
       "    <tr>\n",
       "      <th>E-98-1</th>\n",
       "      <td>11.0</td>\n",
       "      <td>32.0</td>\n",
       "    </tr>\n",
       "    <tr>\n",
       "      <th>E-98-2</th>\n",
       "      <td>10.0</td>\n",
       "      <td>30.0</td>\n",
       "    </tr>\n",
       "    <tr>\n",
       "      <th>E-99-1</th>\n",
       "      <td>11.0</td>\n",
       "      <td>33.0</td>\n",
       "    </tr>\n",
       "    <tr>\n",
       "      <th>E-99-2</th>\n",
       "      <td>10.0</td>\n",
       "      <td>34.0</td>\n",
       "    </tr>\n",
       "  </tbody>\n",
       "</table>\n",
       "<p>200 rows × 2 columns</p>\n",
       "</div>"
      ],
      "text/plain": [
       "             cpu_utilization  mem_utilization\n",
       "device_name                                  \n",
       "E-1-1                   30.0             34.0\n",
       "E-1-2                   31.0             34.0\n",
       "E-10-1                  34.0             33.0\n",
       "E-10-2                  30.0             33.0\n",
       "E-100-1                 34.0             78.0\n",
       "...                      ...              ...\n",
       "E-97-2                  81.0             31.0\n",
       "E-98-1                  11.0             32.0\n",
       "E-98-2                  10.0             30.0\n",
       "E-99-1                  11.0             33.0\n",
       "E-99-2                  10.0             34.0\n",
       "\n",
       "[200 rows x 2 columns]"
      ]
     },
     "execution_count": 15,
     "metadata": {},
     "output_type": "execute_result"
    }
   ],
   "source": [
    "new_metric_df"
   ]
  },
  {
   "cell_type": "markdown",
   "id": "4ny0D4TsJy1Z",
   "metadata": {
    "id": "4ny0D4TsJy1Z"
   },
   "source": [
    "timestamp is not relevant in this use case, we will focus on the memory utilization column, and the device_name columns. All other columns will be ignored for the moment."
   ]
  },
  {
   "cell_type": "code",
   "execution_count": 16,
   "id": "mRpBzGbsJ7As",
   "metadata": {
    "colab": {
     "base_uri": "https://localhost:8080/",
     "height": 536
    },
    "executionInfo": {
     "elapsed": 1627,
     "status": "ok",
     "timestamp": 1671122994109,
     "user": {
      "displayName": "Javier Antich",
      "userId": "07400792213044689039"
     },
     "user_tz": -60
    },
    "id": "mRpBzGbsJ7As",
    "outputId": "a4a1076b-2011-4730-d0a1-ab36e5f857ba"
   },
   "outputs": [
    {
     "data": {
      "text/plain": [
       "Text(0.5, 1.0, 'Memory utilization in SD-WAN devices')"
      ]
     },
     "execution_count": 16,
     "metadata": {},
     "output_type": "execute_result"
    },
    {
     "data": {
      "image/png": "[encoded data removed]",
      "text/plain": [
       "<Figure size 864x576 with 1 Axes>"
      ]
     },
     "metadata": {},
     "output_type": "display_data"
    }
   ],
   "source": [
    "sns.set(rc={'figure.figsize':(12,8)})\n",
    "sns.histplot(data=new_metric_df,x='mem_utilization', bins=50)\n",
    "plt.title('Memory utilization in SD-WAN devices')"
   ]
  },
  {
   "cell_type": "code",
   "execution_count": 17,
   "id": "aZI2VOEGT_-u",
   "metadata": {
    "colab": {
     "base_uri": "https://localhost:8080/",
     "height": 536
    },
    "executionInfo": {
     "elapsed": 1397,
     "status": "ok",
     "timestamp": 1671122997504,
     "user": {
      "displayName": "Javier Antich",
      "userId": "07400792213044689039"
     },
     "user_tz": -60
    },
    "id": "aZI2VOEGT_-u",
    "outputId": "cda0951f-3959-4833-9afd-7e099599b2a5"
   },
   "outputs": [
    {
     "data": {
      "text/plain": [
       "Text(0, 0.5, '% utilization')"
      ]
     },
     "execution_count": 17,
     "metadata": {},
     "output_type": "execute_result"
    },
    {
     "data": {
      "image/png": "[encoded data removed]",
      "text/plain": [
       "<Figure size 864x576 with 1 Axes>"
      ]
     },
     "metadata": {},
     "output_type": "display_data"
    }
   ],
   "source": [
    "sns.set(rc={'figure.figsize':(12,8)})\n",
    "sns.histplot(data=new_metric_df,x='cpu_utilization', bins=50)\n",
    "plt.title('CPU utilization in SD-WAN devices')\n",
    "plt.ylabel('% utilization')"
   ]
  },
  {
   "cell_type": "code",
   "execution_count": 18,
   "id": "mCoK0E2-USp_",
   "metadata": {
    "colab": {
     "base_uri": "https://localhost:8080/",
     "height": 536
    },
    "executionInfo": {
     "elapsed": 777,
     "status": "ok",
     "timestamp": 1671123007249,
     "user": {
      "displayName": "Javier Antich",
      "userId": "07400792213044689039"
     },
     "user_tz": -60
    },
    "id": "mCoK0E2-USp_",
    "outputId": "9989093b-60d7-4c28-c88f-2dcbfa4c17f5"
   },
   "outputs": [
    {
     "data": {
      "text/plain": [
       "Text(0, 0.5, '% utilization')"
      ]
     },
     "execution_count": 18,
     "metadata": {},
     "output_type": "execute_result"
    },
    {
     "data": {
      "image/png": "[encoded data removed]",
      "text/plain": [
       "<Figure size 864x576 with 1 Axes>"
      ]
     },
     "metadata": {},
     "output_type": "display_data"
    }
   ],
   "source": [
    "sns.set(rc={'figure.figsize':(12,8)})\n",
    "sns.histplot(data=new_metric_df,x='cpu_utilization', y='mem_utilization', bins=50)\n",
    "plt.title('CPU and memory utilization in SD-WAN devices')\n",
    "plt.ylabel('% utilization')"
   ]
  },
  {
   "cell_type": "code",
   "execution_count": 19,
   "id": "xlaV-BC9Uemf",
   "metadata": {
    "colab": {
     "base_uri": "https://localhost:8080/",
     "height": 536
    },
    "executionInfo": {
     "elapsed": 805,
     "status": "ok",
     "timestamp": 1671123010156,
     "user": {
      "displayName": "Javier Antich",
      "userId": "07400792213044689039"
     },
     "user_tz": -60
    },
    "id": "xlaV-BC9Uemf",
    "outputId": "fd3aa8d6-5650-434a-da64-e8029c9df505"
   },
   "outputs": [
    {
     "data": {
      "text/plain": [
       "Text(0.5, 1.0, 'CPU and memory utilization in SD-WAN devices')"
      ]
     },
     "execution_count": 19,
     "metadata": {},
     "output_type": "execute_result"
    },
    {
     "data": {
      "image/png": "[encoded data removed]",
      "text/plain": [
       "<Figure size 864x576 with 1 Axes>"
      ]
     },
     "metadata": {},
     "output_type": "display_data"
    }
   ],
   "source": [
    "sns.set(rc={'figure.figsize':(12,8)})\n",
    "sns.scatterplot(data=new_metric_df,x='cpu_utilization', y='mem_utilization')\n",
    "plt.title('CPU and memory utilization in SD-WAN devices')\n"
   ]
  },
  {
   "cell_type": "code",
   "execution_count": 20,
   "id": "CF4yzc4nb778",
   "metadata": {
    "id": "CF4yzc4nb778"
   },
   "outputs": [],
   "source": [
    "X_train = new_metric_df[['mem_utilization','cpu_utilization']].values\n",
    "X_test = X_train"
   ]
  },
  {
   "cell_type": "code",
   "execution_count": 21,
   "id": "knN6AcoAg9SO",
   "metadata": {
    "colab": {
     "base_uri": "https://localhost:8080/"
    },
    "executionInfo": {
     "elapsed": 3,
     "status": "ok",
     "timestamp": 1671123518763,
     "user": {
      "displayName": "Javier Antich",
      "userId": "07400792213044689039"
     },
     "user_tz": -60
    },
    "id": "knN6AcoAg9SO",
    "outputId": "5c2506be-5419-4e03-e978-0e96ff57b507"
   },
   "outputs": [
    {
     "data": {
      "text/plain": [
       "(200, 2)"
      ]
     },
     "execution_count": 21,
     "metadata": {},
     "output_type": "execute_result"
    }
   ],
   "source": [
    "X_train.shape"
   ]
  },
  {
   "cell_type": "markdown",
   "id": "pP2q80OS29At",
   "metadata": {
    "id": "pP2q80OS29At"
   },
   "source": [
    "# DBSCAN"
   ]
  },
  {
   "cell_type": "code",
   "execution_count": 22,
   "id": "v3UsgHktuKVV",
   "metadata": {
    "id": "v3UsgHktuKVV"
   },
   "outputs": [],
   "source": [
    "scaler = StandardScaler()\n",
    "scaler = scaler.fit(X_train)\n",
    "X_train_scaled=scaler.transform(X_train)"
   ]
  },
  {
   "cell_type": "code",
   "execution_count": 23,
   "id": "hfak3m08iEtf",
   "metadata": {
    "id": "hfak3m08iEtf"
   },
   "outputs": [],
   "source": [
    "neigh = NearestNeighbors(n_neighbors=2)\n",
    "nbrs = neigh.fit(X_train_scaled)\n",
    "distances, indices = nbrs.kneighbors(X_train_scaled)"
   ]
  },
  {
   "cell_type": "code",
   "execution_count": 24,
   "id": "WpOzk9DwiVGe",
   "metadata": {
    "colab": {
     "base_uri": "https://localhost:8080/",
     "height": 633
    },
    "executionInfo": {
     "elapsed": 674,
     "status": "ok",
     "timestamp": 1671123523697,
     "user": {
      "displayName": "Javier Antich",
      "userId": "07400792213044689039"
     },
     "user_tz": -60
    },
    "id": "WpOzk9DwiVGe",
    "outputId": "aaf2c699-773c-4b43-a5fb-82c8c2079c22"
   },
   "outputs": [
    {
     "data": {
      "image/png": "[encoded data removed]",
      "text/plain": [
       "<Figure size 1440x720 with 1 Axes>"
      ]
     },
     "metadata": {},
     "output_type": "display_data"
    }
   ],
   "source": [
    "# Plotting K-distance Graph\n",
    "distances = np.sort(distances, axis=0)\n",
    "distances = distances[:,1]\n",
    "plt.figure(figsize=(20,10))\n",
    "plt.plot(distances)\n",
    "plt.title('K-distance Graph',fontsize=20)\n",
    "plt.xlabel('Data Points sorted by distance',fontsize=14)\n",
    "plt.ylabel('Epsilon',fontsize=14)\n",
    "plt.show()"
   ]
  },
  {
   "cell_type": "code",
   "execution_count": 25,
   "id": "6cxDIkPsfefT",
   "metadata": {
    "colab": {
     "base_uri": "https://localhost:8080/"
    },
    "executionInfo": {
     "elapsed": 362,
     "status": "ok",
     "timestamp": 1671123528658,
     "user": {
      "displayName": "Javier Antich",
      "userId": "07400792213044689039"
     },
     "user_tz": -60
    },
    "id": "6cxDIkPsfefT",
    "outputId": "452285e4-62f8-4c59-d470-f80bb5aa6d15"
   },
   "outputs": [
    {
     "data": {
      "text/html": [
       "<style>#sk-container-id-1 {\n",
       "  /* Definition of color scheme common for light and dark mode */\n",
       "  --sklearn-color-text: black;\n",
       "  --sklearn-color-line: gray;\n",
       "  /* Definition of color scheme for unfitted estimators */\n",
       "  --sklearn-color-unfitted-level-0: #fff5e6;\n",
       "  --sklearn-color-unfitted-level-1: #f6e4d2;\n",
       "  --sklearn-color-unfitted-level-2: #ffe0b3;\n",
       "  --sklearn-color-unfitted-level-3: chocolate;\n",
       "  /* Definition of color scheme for fitted estimators */\n",
       "  --sklearn-color-fitted-level-0: #f0f8ff;\n",
       "  --sklearn-color-fitted-level-1: #d4ebff;\n",
       "  --sklearn-color-fitted-level-2: #b3dbfd;\n",
       "  --sklearn-color-fitted-level-3: cornflowerblue;\n",
       "\n",
       "  /* Specific color for light theme */\n",
       "  --sklearn-color-text-on-default-background: var(--sg-text-color, var(--theme-code-foreground, var(--jp-content-font-color1, black)));\n",
       "  --sklearn-color-background: var(--sg-background-color, var(--theme-background, var(--jp-layout-color0, white)));\n",
       "  --sklearn-color-border-box: var(--sg-text-color, var(--theme-code-foreground, var(--jp-content-font-color1, black)));\n",
       "  --sklearn-color-icon: #696969;\n",
       "\n",
       "  @media (prefers-color-scheme: dark) {\n",
       "    /* Redefinition of color scheme for dark theme */\n",
       "    --sklearn-color-text-on-default-background: var(--sg-text-color, var(--theme-code-foreground, var(--jp-content-font-color1, white)));\n",
       "    --sklearn-color-background: var(--sg-background-color, var(--theme-background, var(--jp-layout-color0, #111)));\n",
       "    --sklearn-color-border-box: var(--sg-text-color, var(--theme-code-foreground, var(--jp-content-font-color1, white)));\n",
       "    --sklearn-color-icon: #878787;\n",
       "  }\n",
       "}\n",
       "\n",
       "#sk-container-id-1 {\n",
       "  color: var(--sklearn-color-text);\n",
       "}\n",
       "\n",
       "#sk-container-id-1 pre {\n",
       "  padding: 0;\n",
       "}\n",
       "\n",
       "#sk-container-id-1 input.sk-hidden--visually {\n",
       "  border: 0;\n",
       "  clip: rect(1px 1px 1px 1px);\n",
       "  clip: rect(1px, 1px, 1px, 1px);\n",
       "  height: 1px;\n",
       "  margin: -1px;\n",
       "  overflow: hidden;\n",
       "  padding: 0;\n",
       "  position: absolute;\n",
       "  width: 1px;\n",
       "}\n",
       "\n",
       "#sk-container-id-1 div.sk-dashed-wrapped {\n",
       "  border: 1px dashed var(--sklearn-color-line);\n",
       "  margin: 0 0.4em 0.5em 0.4em;\n",
       "  box-sizing: border-box;\n",
       "  padding-bottom: 0.4em;\n",
       "  background-color: var(--sklearn-color-background);\n",
       "}\n",
       "\n",
       "#sk-container-id-1 div.sk-container {\n",
       "  /* jupyter's `normalize.less` sets `[hidden] { display: none; }`\n",
       "     but bootstrap.min.css set `[hidden] { display: none !important; }`\n",
       "     so we also need the `!important` here to be able to override the\n",
       "     default hidden behavior on the sphinx rendered scikit-learn.org.\n",
       "     See: https://github.com/scikit-learn/scikit-learn/issues/21755 */\n",
       "  display: inline-block !important;\n",
       "  position: relative;\n",
       "}\n",
       "\n",
       "#sk-container-id-1 div.sk-text-repr-fallback {\n",
       "  display: none;\n",
       "}\n",
       "\n",
       "div.sk-parallel-item,\n",
       "div.sk-serial,\n",
       "div.sk-item {\n",
       "  /* draw centered vertical line to link estimators */\n",
       "  background-image: linear-gradient(var(--sklearn-color-text-on-default-background), var(--sklearn-color-text-on-default-background));\n",
       "  background-size: 2px 100%;\n",
       "  background-repeat: no-repeat;\n",
       "  background-position: center center;\n",
       "}\n",
       "\n",
       "/* Parallel-specific style estimator block */\n",
       "\n",
       "#sk-container-id-1 div.sk-parallel-item::after {\n",
       "  content: \"\";\n",
       "  width: 100%;\n",
       "  border-bottom: 2px solid var(--sklearn-color-text-on-default-background);\n",
       "  flex-grow: 1;\n",
       "}\n",
       "\n",
       "#sk-container-id-1 div.sk-parallel {\n",
       "  display: flex;\n",
       "  align-items: stretch;\n",
       "  justify-content: center;\n",
       "  background-color: var(--sklearn-color-background);\n",
       "  position: relative;\n",
       "}\n",
       "\n",
       "#sk-container-id-1 div.sk-parallel-item {\n",
       "  display: flex;\n",
       "  flex-direction: column;\n",
       "}\n",
       "\n",
       "#sk-container-id-1 div.sk-parallel-item:first-child::after {\n",
       "  align-self: flex-end;\n",
       "  width: 50%;\n",
       "}\n",
       "\n",
       "#sk-container-id-1 div.sk-parallel-item:last-child::after {\n",
       "  align-self: flex-start;\n",
       "  width: 50%;\n",
       "}\n",
       "\n",
       "#sk-container-id-1 div.sk-parallel-item:only-child::after {\n",
       "  width: 0;\n",
       "}\n",
       "\n",
       "/* Serial-specific style estimator block */\n",
       "\n",
       "#sk-container-id-1 div.sk-serial {\n",
       "  display: flex;\n",
       "  flex-direction: column;\n",
       "  align-items: center;\n",
       "  background-color: var(--sklearn-color-background);\n",
       "  padding-right: 1em;\n",
       "  padding-left: 1em;\n",
       "}\n",
       "\n",
       "\n",
       "/* Toggleable style: style used for estimator/Pipeline/ColumnTransformer box that is\n",
       "clickable and can be expanded/collapsed.\n",
       "- Pipeline and ColumnTransformer use this feature and define the default style\n",
       "- Estimators will overwrite some part of the style using the `sk-estimator` class\n",
       "*/\n",
       "\n",
       "/* Pipeline and ColumnTransformer style (default) */\n",
       "\n",
       "#sk-container-id-1 div.sk-toggleable {\n",
       "  /* Default theme specific background. It is overwritten whether we have a\n",
       "  specific estimator or a Pipeline/ColumnTransformer */\n",
       "  background-color: var(--sklearn-color-background);\n",
       "}\n",
       "\n",
       "/* Toggleable label */\n",
       "#sk-container-id-1 label.sk-toggleable__label {\n",
       "  cursor: pointer;\n",
       "  display: block;\n",
       "  width: 100%;\n",
       "  margin-bottom: 0;\n",
       "  padding: 0.5em;\n",
       "  box-sizing: border-box;\n",
       "  text-align: center;\n",
       "}\n",
       "\n",
       "#sk-container-id-1 label.sk-toggleable__label-arrow:before {\n",
       "  /* Arrow on the left of the label */\n",
       "  content: \"▸\";\n",
       "  float: left;\n",
       "  margin-right: 0.25em;\n",
       "  color: var(--sklearn-color-icon);\n",
       "}\n",
       "\n",
       "#sk-container-id-1 label.sk-toggleable__label-arrow:hover:before {\n",
       "  color: var(--sklearn-color-text);\n",
       "}\n",
       "\n",
       "/* Toggleable content - dropdown */\n",
       "\n",
       "#sk-container-id-1 div.sk-toggleable__content {\n",
       "  max-height: 0;\n",
       "  max-width: 0;\n",
       "  overflow: hidden;\n",
       "  text-align: left;\n",
       "  /* unfitted */\n",
       "  background-color: var(--sklearn-color-unfitted-level-0);\n",
       "}\n",
       "\n",
       "#sk-container-id-1 div.sk-toggleable__content.fitted {\n",
       "  /* fitted */\n",
       "  background-color: var(--sklearn-color-fitted-level-0);\n",
       "}\n",
       "\n",
       "#sk-container-id-1 div.sk-toggleable__content pre {\n",
       "  margin: 0.2em;\n",
       "  border-radius: 0.25em;\n",
       "  color: var(--sklearn-color-text);\n",
       "  /* unfitted */\n",
       "  background-color: var(--sklearn-color-unfitted-level-0);\n",
       "}\n",
       "\n",
       "#sk-container-id-1 div.sk-toggleable__content.fitted pre {\n",
       "  /* unfitted */\n",
       "  background-color: var(--sklearn-color-fitted-level-0);\n",
       "}\n",
       "\n",
       "#sk-container-id-1 input.sk-toggleable__control:checked~div.sk-toggleable__content {\n",
       "  /* Expand drop-down */\n",
       "  max-height: 200px;\n",
       "  max-width: 100%;\n",
       "  overflow: auto;\n",
       "}\n",
       "\n",
       "#sk-container-id-1 input.sk-toggleable__control:checked~label.sk-toggleable__label-arrow:before {\n",
       "  content: \"▾\";\n",
       "}\n",
       "\n",
       "/* Pipeline/ColumnTransformer-specific style */\n",
       "\n",
       "#sk-container-id-1 div.sk-label input.sk-toggleable__control:checked~label.sk-toggleable__label {\n",
       "  color: var(--sklearn-color-text);\n",
       "  background-color: var(--sklearn-color-unfitted-level-2);\n",
       "}\n",
       "\n",
       "#sk-container-id-1 div.sk-label.fitted input.sk-toggleable__control:checked~label.sk-toggleable__label {\n",
       "  background-color: var(--sklearn-color-fitted-level-2);\n",
       "}\n",
       "\n",
       "/* Estimator-specific style */\n",
       "\n",
       "/* Colorize estimator box */\n",
       "#sk-container-id-1 div.sk-estimator input.sk-toggleable__control:checked~label.sk-toggleable__label {\n",
       "  /* unfitted */\n",
       "  background-color: var(--sklearn-color-unfitted-level-2);\n",
       "}\n",
       "\n",
       "#sk-container-id-1 div.sk-estimator.fitted input.sk-toggleable__control:checked~label.sk-toggleable__label {\n",
       "  /* fitted */\n",
       "  background-color: var(--sklearn-color-fitted-level-2);\n",
       "}\n",
       "\n",
       "#sk-container-id-1 div.sk-label label.sk-toggleable__label,\n",
       "#sk-container-id-1 div.sk-label label {\n",
       "  /* The background is the default theme color */\n",
       "  color: var(--sklearn-color-text-on-default-background);\n",
       "}\n",
       "\n",
       "/* On hover, darken the color of the background */\n",
       "#sk-container-id-1 div.sk-label:hover label.sk-toggleable__label {\n",
       "  color: var(--sklearn-color-text);\n",
       "  background-color: var(--sklearn-color-unfitted-level-2);\n",
       "}\n",
       "\n",
       "/* Label box, darken color on hover, fitted */\n",
       "#sk-container-id-1 div.sk-label.fitted:hover label.sk-toggleable__label.fitted {\n",
       "  color: var(--sklearn-color-text);\n",
       "  background-color: var(--sklearn-color-fitted-level-2);\n",
       "}\n",
       "\n",
       "/* Estimator label */\n",
       "\n",
       "#sk-container-id-1 div.sk-label label {\n",
       "  font-family: monospace;\n",
       "  font-weight: bold;\n",
       "  display: inline-block;\n",
       "  line-height: 1.2em;\n",
       "}\n",
       "\n",
       "#sk-container-id-1 div.sk-label-container {\n",
       "  text-align: center;\n",
       "}\n",
       "\n",
       "/* Estimator-specific */\n",
       "#sk-container-id-1 div.sk-estimator {\n",
       "  font-family: monospace;\n",
       "  border: 1px dotted var(--sklearn-color-border-box);\n",
       "  border-radius: 0.25em;\n",
       "  box-sizing: border-box;\n",
       "  margin-bottom: 0.5em;\n",
       "  /* unfitted */\n",
       "  background-color: var(--sklearn-color-unfitted-level-0);\n",
       "}\n",
       "\n",
       "#sk-container-id-1 div.sk-estimator.fitted {\n",
       "  /* fitted */\n",
       "  background-color: var(--sklearn-color-fitted-level-0);\n",
       "}\n",
       "\n",
       "/* on hover */\n",
       "#sk-container-id-1 div.sk-estimator:hover {\n",
       "  /* unfitted */\n",
       "  background-color: var(--sklearn-color-unfitted-level-2);\n",
       "}\n",
       "\n",
       "#sk-container-id-1 div.sk-estimator.fitted:hover {\n",
       "  /* fitted */\n",
       "  background-color: var(--sklearn-color-fitted-level-2);\n",
       "}\n",
       "\n",
       "/* Specification for estimator info (e.g. \"i\" and \"?\") */\n",
       "\n",
       "/* Common style for \"i\" and \"?\" */\n",
       "\n",
       ".sk-estimator-doc-link,\n",
       "a:link.sk-estimator-doc-link,\n",
       "a:visited.sk-estimator-doc-link {\n",
       "  float: right;\n",
       "  font-size: smaller;\n",
       "  line-height: 1em;\n",
       "  font-family: monospace;\n",
       "  background-color: var(--sklearn-color-background);\n",
       "  border-radius: 1em;\n",
       "  height: 1em;\n",
       "  width: 1em;\n",
       "  text-decoration: none !important;\n",
       "  margin-left: 1ex;\n",
       "  /* unfitted */\n",
       "  border: var(--sklearn-color-unfitted-level-1) 1pt solid;\n",
       "  color: var(--sklearn-color-unfitted-level-1);\n",
       "}\n",
       "\n",
       ".sk-estimator-doc-link.fitted,\n",
       "a:link.sk-estimator-doc-link.fitted,\n",
       "a:visited.sk-estimator-doc-link.fitted {\n",
       "  /* fitted */\n",
       "  border: var(--sklearn-color-fitted-level-1) 1pt solid;\n",
       "  color: var(--sklearn-color-fitted-level-1);\n",
       "}\n",
       "\n",
       "/* On hover */\n",
       "div.sk-estimator:hover .sk-estimator-doc-link:hover,\n",
       ".sk-estimator-doc-link:hover,\n",
       "div.sk-label-container:hover .sk-estimator-doc-link:hover,\n",
       ".sk-estimator-doc-link:hover {\n",
       "  /* unfitted */\n",
       "  background-color: var(--sklearn-color-unfitted-level-3);\n",
       "  color: var(--sklearn-color-background);\n",
       "  text-decoration: none;\n",
       "}\n",
       "\n",
       "div.sk-estimator.fitted:hover .sk-estimator-doc-link.fitted:hover,\n",
       ".sk-estimator-doc-link.fitted:hover,\n",
       "div.sk-label-container:hover .sk-estimator-doc-link.fitted:hover,\n",
       ".sk-estimator-doc-link.fitted:hover {\n",
       "  /* fitted */\n",
       "  background-color: var(--sklearn-color-fitted-level-3);\n",
       "  color: var(--sklearn-color-background);\n",
       "  text-decoration: none;\n",
       "}\n",
       "\n",
       "/* Span, style for the box shown on hovering the info icon */\n",
       ".sk-estimator-doc-link span {\n",
       "  display: none;\n",
       "  z-index: 9999;\n",
       "  position: relative;\n",
       "  font-weight: normal;\n",
       "  right: .2ex;\n",
       "  padding: .5ex;\n",
       "  margin: .5ex;\n",
       "  width: min-content;\n",
       "  min-width: 20ex;\n",
       "  max-width: 50ex;\n",
       "  color: var(--sklearn-color-text);\n",
       "  box-shadow: 2pt 2pt 4pt #999;\n",
       "  /* unfitted */\n",
       "  background: var(--sklearn-color-unfitted-level-0);\n",
       "  border: .5pt solid var(--sklearn-color-unfitted-level-3);\n",
       "}\n",
       "\n",
       ".sk-estimator-doc-link.fitted span {\n",
       "  /* fitted */\n",
       "  background: var(--sklearn-color-fitted-level-0);\n",
       "  border: var(--sklearn-color-fitted-level-3);\n",
       "}\n",
       "\n",
       ".sk-estimator-doc-link:hover span {\n",
       "  display: block;\n",
       "}\n",
       "\n",
       "/* \"?\"-specific style due to the `<a>` HTML tag */\n",
       "\n",
       "#sk-container-id-1 a.estimator_doc_link {\n",
       "  float: right;\n",
       "  font-size: 1rem;\n",
       "  line-height: 1em;\n",
       "  font-family: monospace;\n",
       "  background-color: var(--sklearn-color-background);\n",
       "  border-radius: 1rem;\n",
       "  height: 1rem;\n",
       "  width: 1rem;\n",
       "  text-decoration: none;\n",
       "  /* unfitted */\n",
       "  color: var(--sklearn-color-unfitted-level-1);\n",
       "  border: var(--sklearn-color-unfitted-level-1) 1pt solid;\n",
       "}\n",
       "\n",
       "#sk-container-id-1 a.estimator_doc_link.fitted {\n",
       "  /* fitted */\n",
       "  border: var(--sklearn-color-fitted-level-1) 1pt solid;\n",
       "  color: var(--sklearn-color-fitted-level-1);\n",
       "}\n",
       "\n",
       "/* On hover */\n",
       "#sk-container-id-1 a.estimator_doc_link:hover {\n",
       "  /* unfitted */\n",
       "  background-color: var(--sklearn-color-unfitted-level-3);\n",
       "  color: var(--sklearn-color-background);\n",
       "  text-decoration: none;\n",
       "}\n",
       "\n",
       "#sk-container-id-1 a.estimator_doc_link.fitted:hover {\n",
       "  /* fitted */\n",
       "  background-color: var(--sklearn-color-fitted-level-3);\n",
       "}\n",
       "</style><div id=\"sk-container-id-1\" class=\"sk-top-container\"><div class=\"sk-text-repr-fallback\"><pre>DBSCAN(eps=2, min_samples=10)</pre><b>In a Jupyter environment, please rerun this cell to show the HTML representation or trust the notebook. <br />On GitHub, the HTML representation is unable to render, please try loading this page with nbviewer.org.</b></div><div class=\"sk-container\" hidden><div class=\"sk-item\"><div class=\"sk-estimator fitted sk-toggleable\"><input class=\"sk-toggleable__control sk-hidden--visually\" id=\"sk-estimator-id-1\" type=\"checkbox\" checked><label for=\"sk-estimator-id-1\" class=\"sk-toggleable__label fitted sk-toggleable__label-arrow fitted\">&nbsp;&nbsp;DBSCAN<a class=\"sk-estimator-doc-link fitted\" rel=\"noreferrer\" target=\"_blank\" href=\"https://scikit-learn.org/1.4/modules/generated/sklearn.cluster.DBSCAN.html\">?<span>Documentation for DBSCAN</span></a><span class=\"sk-estimator-doc-link fitted\">i<span>Fitted</span></span></label><div class=\"sk-toggleable__content fitted\"><pre>DBSCAN(eps=2, min_samples=10)</pre></div> </div></div></div></div>"
      ],
      "text/plain": [
       "DBSCAN(eps=2, min_samples=10)"
      ]
     },
     "execution_count": 25,
     "metadata": {},
     "output_type": "execute_result"
    }
   ],
   "source": [
    "dbscan=DBSCAN(eps=2,min_samples=10)\n",
    "dbscan.fit(X_train)"
   ]
  },
  {
   "cell_type": "code",
   "execution_count": 26,
   "id": "6hUz71yygiiH",
   "metadata": {
    "colab": {
     "base_uri": "https://localhost:8080/"
    },
    "executionInfo": {
     "elapsed": 4,
     "status": "ok",
     "timestamp": 1671123529593,
     "user": {
      "displayName": "Javier Antich",
      "userId": "07400792213044689039"
     },
     "user_tz": -60
    },
    "id": "6hUz71yygiiH",
    "outputId": "d15c23e5-8f8d-4a55-c65b-8a2d020fa62e"
   },
   "outputs": [
    {
     "data": {
      "text/plain": [
       "array([ 0,  0,  0,  0, -1, -1,  0,  0,  0,  0,  0,  0,  0,  0,  0,  0,  0,\n",
       "        0,  0,  0,  0,  0,  0,  0,  0,  0,  0,  0,  0,  0,  0,  0,  0,  0,\n",
       "        0,  0,  0,  0,  0,  0,  0,  0,  0,  0,  0,  0,  0,  0,  1,  1,  1,\n",
       "        1,  1,  1,  1,  1,  1,  1,  1,  1,  1,  1,  1,  1,  1,  1,  1,  1,\n",
       "        0,  0,  1,  1,  1,  1,  1,  1,  1,  1,  1,  1,  1,  1,  1,  1,  1,\n",
       "        1,  1,  1,  1,  1,  0,  0,  1,  1,  1,  1,  1,  1,  1,  1,  1,  1,\n",
       "        1,  1,  1,  1,  1,  1,  1,  1,  1,  1,  0,  0,  2,  2,  2,  2,  2,\n",
       "        2,  2,  2,  2,  2,  2,  2,  2,  2,  2,  2,  2,  2,  2,  2,  0,  0,\n",
       "        2,  2,  2,  2,  2,  2,  2,  2,  2,  2,  2,  2,  2,  2,  2,  2,  2,\n",
       "        2,  2,  2,  0,  0,  2,  2,  2,  2,  2,  2,  2,  2,  2,  2,  2,  2,\n",
       "        2,  2,  2,  2,  2,  2,  2,  2,  0,  0,  2,  2,  2,  2,  2,  2,  2,\n",
       "        2,  2,  2,  2,  2,  2,  2,  2,  2, -1, -1, -1, -1])"
      ]
     },
     "execution_count": 26,
     "metadata": {},
     "output_type": "execute_result"
    }
   ],
   "source": [
    "dbscan.labels_"
   ]
  },
  {
   "cell_type": "code",
   "execution_count": 27,
   "id": "YMexK5dpfsoH",
   "metadata": {
    "colab": {
     "base_uri": "https://localhost:8080/",
     "height": 536
    },
    "executionInfo": {
     "elapsed": 786,
     "status": "ok",
     "timestamp": 1671123532158,
     "user": {
      "displayName": "Javier Antich",
      "userId": "07400792213044689039"
     },
     "user_tz": -60
    },
    "id": "YMexK5dpfsoH",
    "outputId": "34c12714-f6d8-412b-d812-70f9e5deb452"
   },
   "outputs": [
    {
     "data": {
      "text/plain": [
       "Text(0.5, 1.0, 'CPU and memory utilization clusters with DBSCAN in SD-WAN devices')"
      ]
     },
     "execution_count": 27,
     "metadata": {},
     "output_type": "execute_result"
    },
    {
     "data": {
      "image/png": "[encoded data removed]",
      "text/plain": [
       "<Figure size 864x576 with 1 Axes>"
      ]
     },
     "metadata": {},
     "output_type": "display_data"
    }
   ],
   "source": [
    "sns.set(rc={'figure.figsize':(12,8)})\n",
    "sns.scatterplot(data=new_metric_df,x='cpu_utilization', y='mem_utilization',hue=dbscan.labels_)\n",
    "plt.title('CPU and memory utilization clusters with DBSCAN in SD-WAN devices')"
   ]
  },
  {
   "cell_type": "markdown",
   "id": "QftWuDrW3B1K",
   "metadata": {
    "id": "QftWuDrW3B1K"
   },
   "source": [
    "# K-Means"
   ]
  },
  {
   "cell_type": "code",
   "execution_count": 28,
   "id": "pEuGC63HX98L",
   "metadata": {
    "id": "pEuGC63HX98L"
   },
   "outputs": [],
   "source": [
    "wss = []\n",
    "for i in range(1,11):\n",
    "  kmeans = KMeans(n_clusters=i,init=\"k-means++\",random_state=42)\n",
    "  kmeans.fit(X_train)\n",
    "  wss.append(kmeans.inertia_)\n"
   ]
  },
  {
   "cell_type": "code",
   "execution_count": 29,
   "id": "F-Pmw4x2Yl2U",
   "metadata": {
    "colab": {
     "base_uri": "https://localhost:8080/",
     "height": 536
    },
    "executionInfo": {
     "elapsed": 754,
     "status": "ok",
     "timestamp": 1671123541061,
     "user": {
      "displayName": "Javier Antich",
      "userId": "07400792213044689039"
     },
     "user_tz": -60
    },
    "id": "F-Pmw4x2Yl2U",
    "outputId": "2f757671-a3f4-45cc-ee2b-872ebc3a763a"
   },
   "outputs": [
    {
     "data": {
      "text/plain": [
       "Text(0.5, 1.0, 'Elbow method to select K number of clusters')"
      ]
     },
     "execution_count": 29,
     "metadata": {},
     "output_type": "execute_result"
    },
    {
     "data": {
      "image/png": "[encoded data removed]",
      "text/plain": [
       "<Figure size 864x576 with 1 Axes>"
      ]
     },
     "metadata": {},
     "output_type": "display_data"
    }
   ],
   "source": [
    "sns.set(rc={'figure.figsize':(12,8)})\n",
    "sns.lineplot(x = range(1,11), y = wss)\n",
    "plt.ylabel('WSS')\n",
    "plt.xlabel('K')\n",
    "plt.title('Elbow method to select K number of clusters')"
   ]
  },
  {
   "cell_type": "code",
   "execution_count": 30,
   "id": "3_aDN1m_Z2mX",
   "metadata": {
    "id": "3_aDN1m_Z2mX"
   },
   "outputs": [],
   "source": [
    "K = 3"
   ]
  },
  {
   "cell_type": "code",
   "execution_count": 31,
   "id": "FFzYWjGhZ4lO",
   "metadata": {
    "id": "FFzYWjGhZ4lO"
   },
   "outputs": [],
   "source": [
    "KMeans_model = KMeans(n_clusters=K,init=\"k-means++\",random_state=42)\n",
    "KMeans_clusters = KMeans_model.fit_predict(X_train)\n",
    "new_metric_df['cluster']=KMeans_clusters"
   ]
  },
  {
   "cell_type": "code",
   "execution_count": 32,
   "id": "TnpZE5VdaXrf",
   "metadata": {
    "colab": {
     "base_uri": "https://localhost:8080/",
     "height": 536
    },
    "executionInfo": {
     "elapsed": 815,
     "status": "ok",
     "timestamp": 1671123549916,
     "user": {
      "displayName": "Javier Antich",
      "userId": "07400792213044689039"
     },
     "user_tz": -60
    },
    "id": "TnpZE5VdaXrf",
    "outputId": "edb7955f-7653-41df-a2d3-df72e9ecfbc9"
   },
   "outputs": [
    {
     "data": {
      "text/plain": [
       "Text(0.5, 1.0, 'CPU and memory utilization clusters with K-means in SD-WAN devices')"
      ]
     },
     "execution_count": 32,
     "metadata": {},
     "output_type": "execute_result"
    },
    {
     "data": {
      "image/png": "[encoded data removed]",
      "text/plain": [
       "<Figure size 864x576 with 1 Axes>"
      ]
     },
     "metadata": {},
     "output_type": "display_data"
    }
   ],
   "source": [
    "sns.set(rc={'figure.figsize':(12,8)})\n",
    "sns.scatterplot(data=new_metric_df,x='cpu_utilization', y='mem_utilization',hue='cluster')\n",
    "plt.title('CPU and memory utilization clusters with K-means in SD-WAN devices')"
   ]
  },
  {
   "cell_type": "markdown",
   "id": "23AjJHbW3Ga9",
   "metadata": {
    "id": "23AjJHbW3Ga9"
   },
   "source": [
    "# Hierarchical Clustering"
   ]
  },
  {
   "cell_type": "code",
   "execution_count": 33,
   "id": "jztj6_JFctlF",
   "metadata": {
    "colab": {
     "base_uri": "https://localhost:8080/",
     "height": 534
    },
    "executionInfo": {
     "elapsed": 5038,
     "status": "ok",
     "timestamp": 1668333907109,
     "user": {
      "displayName": "Javier Antich",
      "userId": "07400792213044689039"
     },
     "user_tz": -60
    },
    "id": "jztj6_JFctlF",
    "outputId": "15a65b8b-dc76-4578-cf9d-b19fa723f670"
   },
   "outputs": [
    {
     "data": {
      "image/png": "[encoded data removed]",
      "text/plain": [
       "<Figure size 864x576 with 1 Axes>"
      ]
     },
     "metadata": {},
     "output_type": "display_data"
    }
   ],
   "source": [
    "Z=linkage(X_train,'ward')\n",
    "\n",
    "# Plotting Dendogram\n",
    "dendrogram(Z, leaf_rotation=45., leaf_font_size=12.)\n",
    "plt.title('Hierarchical Clustering Dendrogram')\n",
    "plt.xlabel('Cluster Size')\n",
    "plt.ylabel('Distance')\n",
    "plt.rcParams[\"figure.figsize\"] = (14,6)\n",
    "plt.show()"
   ]
  },
  {
   "cell_type": "code",
   "execution_count": 34,
   "id": "fP-0LtD-dss7",
   "metadata": {
    "id": "fP-0LtD-dss7"
   },
   "outputs": [],
   "source": [
    "K=3"
   ]
  },
  {
   "cell_type": "code",
   "execution_count": 37,
   "id": "ZRZe-HFOduwc",
   "metadata": {
    "colab": {
     "base_uri": "https://localhost:8080/"
    },
    "executionInfo": {
     "elapsed": 604,
     "status": "ok",
     "timestamp": 1668334291639,
     "user": {
      "displayName": "Javier Antich",
      "userId": "07400792213044689039"
     },
     "user_tz": -60
    },
    "id": "ZRZe-HFOduwc",
    "outputId": "380280b1-886c-4f80-f187-2e589c8146c3"
   },
   "outputs": [
    {
     "data": {
      "text/html": [
       "<style>#sk-container-id-2 {\n",
       "  /* Definition of color scheme common for light and dark mode */\n",
       "  --sklearn-color-text: black;\n",
       "  --sklearn-color-line: gray;\n",
       "  /* Definition of color scheme for unfitted estimators */\n",
       "  --sklearn-color-unfitted-level-0: #fff5e6;\n",
       "  --sklearn-color-unfitted-level-1: #f6e4d2;\n",
       "  --sklearn-color-unfitted-level-2: #ffe0b3;\n",
       "  --sklearn-color-unfitted-level-3: chocolate;\n",
       "  /* Definition of color scheme for fitted estimators */\n",
       "  --sklearn-color-fitted-level-0: #f0f8ff;\n",
       "  --sklearn-color-fitted-level-1: #d4ebff;\n",
       "  --sklearn-color-fitted-level-2: #b3dbfd;\n",
       "  --sklearn-color-fitted-level-3: cornflowerblue;\n",
       "\n",
       "  /* Specific color for light theme */\n",
       "  --sklearn-color-text-on-default-background: var(--sg-text-color, var(--theme-code-foreground, var(--jp-content-font-color1, black)));\n",
       "  --sklearn-color-background: var(--sg-background-color, var(--theme-background, var(--jp-layout-color0, white)));\n",
       "  --sklearn-color-border-box: var(--sg-text-color, var(--theme-code-foreground, var(--jp-content-font-color1, black)));\n",
       "  --sklearn-color-icon: #696969;\n",
       "\n",
       "  @media (prefers-color-scheme: dark) {\n",
       "    /* Redefinition of color scheme for dark theme */\n",
       "    --sklearn-color-text-on-default-background: var(--sg-text-color, var(--theme-code-foreground, var(--jp-content-font-color1, white)));\n",
       "    --sklearn-color-background: var(--sg-background-color, var(--theme-background, var(--jp-layout-color0, #111)));\n",
       "    --sklearn-color-border-box: var(--sg-text-color, var(--theme-code-foreground, var(--jp-content-font-color1, white)));\n",
       "    --sklearn-color-icon: #878787;\n",
       "  }\n",
       "}\n",
       "\n",
       "#sk-container-id-2 {\n",
       "  color: var(--sklearn-color-text);\n",
       "}\n",
       "\n",
       "#sk-container-id-2 pre {\n",
       "  padding: 0;\n",
       "}\n",
       "\n",
       "#sk-container-id-2 input.sk-hidden--visually {\n",
       "  border: 0;\n",
       "  clip: rect(1px 1px 1px 1px);\n",
       "  clip: rect(1px, 1px, 1px, 1px);\n",
       "  height: 1px;\n",
       "  margin: -1px;\n",
       "  overflow: hidden;\n",
       "  padding: 0;\n",
       "  position: absolute;\n",
       "  width: 1px;\n",
       "}\n",
       "\n",
       "#sk-container-id-2 div.sk-dashed-wrapped {\n",
       "  border: 1px dashed var(--sklearn-color-line);\n",
       "  margin: 0 0.4em 0.5em 0.4em;\n",
       "  box-sizing: border-box;\n",
       "  padding-bottom: 0.4em;\n",
       "  background-color: var(--sklearn-color-background);\n",
       "}\n",
       "\n",
       "#sk-container-id-2 div.sk-container {\n",
       "  /* jupyter's `normalize.less` sets `[hidden] { display: none; }`\n",
       "     but bootstrap.min.css set `[hidden] { display: none !important; }`\n",
       "     so we also need the `!important` here to be able to override the\n",
       "     default hidden behavior on the sphinx rendered scikit-learn.org.\n",
       "     See: https://github.com/scikit-learn/scikit-learn/issues/21755 */\n",
       "  display: inline-block !important;\n",
       "  position: relative;\n",
       "}\n",
       "\n",
       "#sk-container-id-2 div.sk-text-repr-fallback {\n",
       "  display: none;\n",
       "}\n",
       "\n",
       "div.sk-parallel-item,\n",
       "div.sk-serial,\n",
       "div.sk-item {\n",
       "  /* draw centered vertical line to link estimators */\n",
       "  background-image: linear-gradient(var(--sklearn-color-text-on-default-background), var(--sklearn-color-text-on-default-background));\n",
       "  background-size: 2px 100%;\n",
       "  background-repeat: no-repeat;\n",
       "  background-position: center center;\n",
       "}\n",
       "\n",
       "/* Parallel-specific style estimator block */\n",
       "\n",
       "#sk-container-id-2 div.sk-parallel-item::after {\n",
       "  content: \"\";\n",
       "  width: 100%;\n",
       "  border-bottom: 2px solid var(--sklearn-color-text-on-default-background);\n",
       "  flex-grow: 1;\n",
       "}\n",
       "\n",
       "#sk-container-id-2 div.sk-parallel {\n",
       "  display: flex;\n",
       "  align-items: stretch;\n",
       "  justify-content: center;\n",
       "  background-color: var(--sklearn-color-background);\n",
       "  position: relative;\n",
       "}\n",
       "\n",
       "#sk-container-id-2 div.sk-parallel-item {\n",
       "  display: flex;\n",
       "  flex-direction: column;\n",
       "}\n",
       "\n",
       "#sk-container-id-2 div.sk-parallel-item:first-child::after {\n",
       "  align-self: flex-end;\n",
       "  width: 50%;\n",
       "}\n",
       "\n",
       "#sk-container-id-2 div.sk-parallel-item:last-child::after {\n",
       "  align-self: flex-start;\n",
       "  width: 50%;\n",
       "}\n",
       "\n",
       "#sk-container-id-2 div.sk-parallel-item:only-child::after {\n",
       "  width: 0;\n",
       "}\n",
       "\n",
       "/* Serial-specific style estimator block */\n",
       "\n",
       "#sk-container-id-2 div.sk-serial {\n",
       "  display: flex;\n",
       "  flex-direction: column;\n",
       "  align-items: center;\n",
       "  background-color: var(--sklearn-color-background);\n",
       "  padding-right: 1em;\n",
       "  padding-left: 1em;\n",
       "}\n",
       "\n",
       "\n",
       "/* Toggleable style: style used for estimator/Pipeline/ColumnTransformer box that is\n",
       "clickable and can be expanded/collapsed.\n",
       "- Pipeline and ColumnTransformer use this feature and define the default style\n",
       "- Estimators will overwrite some part of the style using the `sk-estimator` class\n",
       "*/\n",
       "\n",
       "/* Pipeline and ColumnTransformer style (default) */\n",
       "\n",
       "#sk-container-id-2 div.sk-toggleable {\n",
       "  /* Default theme specific background. It is overwritten whether we have a\n",
       "  specific estimator or a Pipeline/ColumnTransformer */\n",
       "  background-color: var(--sklearn-color-background);\n",
       "}\n",
       "\n",
       "/* Toggleable label */\n",
       "#sk-container-id-2 label.sk-toggleable__label {\n",
       "  cursor: pointer;\n",
       "  display: block;\n",
       "  width: 100%;\n",
       "  margin-bottom: 0;\n",
       "  padding: 0.5em;\n",
       "  box-sizing: border-box;\n",
       "  text-align: center;\n",
       "}\n",
       "\n",
       "#sk-container-id-2 label.sk-toggleable__label-arrow:before {\n",
       "  /* Arrow on the left of the label */\n",
       "  content: \"▸\";\n",
       "  float: left;\n",
       "  margin-right: 0.25em;\n",
       "  color: var(--sklearn-color-icon);\n",
       "}\n",
       "\n",
       "#sk-container-id-2 label.sk-toggleable__label-arrow:hover:before {\n",
       "  color: var(--sklearn-color-text);\n",
       "}\n",
       "\n",
       "/* Toggleable content - dropdown */\n",
       "\n",
       "#sk-container-id-2 div.sk-toggleable__content {\n",
       "  max-height: 0;\n",
       "  max-width: 0;\n",
       "  overflow: hidden;\n",
       "  text-align: left;\n",
       "  /* unfitted */\n",
       "  background-color: var(--sklearn-color-unfitted-level-0);\n",
       "}\n",
       "\n",
       "#sk-container-id-2 div.sk-toggleable__content.fitted {\n",
       "  /* fitted */\n",
       "  background-color: var(--sklearn-color-fitted-level-0);\n",
       "}\n",
       "\n",
       "#sk-container-id-2 div.sk-toggleable__content pre {\n",
       "  margin: 0.2em;\n",
       "  border-radius: 0.25em;\n",
       "  color: var(--sklearn-color-text);\n",
       "  /* unfitted */\n",
       "  background-color: var(--sklearn-color-unfitted-level-0);\n",
       "}\n",
       "\n",
       "#sk-container-id-2 div.sk-toggleable__content.fitted pre {\n",
       "  /* unfitted */\n",
       "  background-color: var(--sklearn-color-fitted-level-0);\n",
       "}\n",
       "\n",
       "#sk-container-id-2 input.sk-toggleable__control:checked~div.sk-toggleable__content {\n",
       "  /* Expand drop-down */\n",
       "  max-height: 200px;\n",
       "  max-width: 100%;\n",
       "  overflow: auto;\n",
       "}\n",
       "\n",
       "#sk-container-id-2 input.sk-toggleable__control:checked~label.sk-toggleable__label-arrow:before {\n",
       "  content: \"▾\";\n",
       "}\n",
       "\n",
       "/* Pipeline/ColumnTransformer-specific style */\n",
       "\n",
       "#sk-container-id-2 div.sk-label input.sk-toggleable__control:checked~label.sk-toggleable__label {\n",
       "  color: var(--sklearn-color-text);\n",
       "  background-color: var(--sklearn-color-unfitted-level-2);\n",
       "}\n",
       "\n",
       "#sk-container-id-2 div.sk-label.fitted input.sk-toggleable__control:checked~label.sk-toggleable__label {\n",
       "  background-color: var(--sklearn-color-fitted-level-2);\n",
       "}\n",
       "\n",
       "/* Estimator-specific style */\n",
       "\n",
       "/* Colorize estimator box */\n",
       "#sk-container-id-2 div.sk-estimator input.sk-toggleable__control:checked~label.sk-toggleable__label {\n",
       "  /* unfitted */\n",
       "  background-color: var(--sklearn-color-unfitted-level-2);\n",
       "}\n",
       "\n",
       "#sk-container-id-2 div.sk-estimator.fitted input.sk-toggleable__control:checked~label.sk-toggleable__label {\n",
       "  /* fitted */\n",
       "  background-color: var(--sklearn-color-fitted-level-2);\n",
       "}\n",
       "\n",
       "#sk-container-id-2 div.sk-label label.sk-toggleable__label,\n",
       "#sk-container-id-2 div.sk-label label {\n",
       "  /* The background is the default theme color */\n",
       "  color: var(--sklearn-color-text-on-default-background);\n",
       "}\n",
       "\n",
       "/* On hover, darken the color of the background */\n",
       "#sk-container-id-2 div.sk-label:hover label.sk-toggleable__label {\n",
       "  color: var(--sklearn-color-text);\n",
       "  background-color: var(--sklearn-color-unfitted-level-2);\n",
       "}\n",
       "\n",
       "/* Label box, darken color on hover, fitted */\n",
       "#sk-container-id-2 div.sk-label.fitted:hover label.sk-toggleable__label.fitted {\n",
       "  color: var(--sklearn-color-text);\n",
       "  background-color: var(--sklearn-color-fitted-level-2);\n",
       "}\n",
       "\n",
       "/* Estimator label */\n",
       "\n",
       "#sk-container-id-2 div.sk-label label {\n",
       "  font-family: monospace;\n",
       "  font-weight: bold;\n",
       "  display: inline-block;\n",
       "  line-height: 1.2em;\n",
       "}\n",
       "\n",
       "#sk-container-id-2 div.sk-label-container {\n",
       "  text-align: center;\n",
       "}\n",
       "\n",
       "/* Estimator-specific */\n",
       "#sk-container-id-2 div.sk-estimator {\n",
       "  font-family: monospace;\n",
       "  border: 1px dotted var(--sklearn-color-border-box);\n",
       "  border-radius: 0.25em;\n",
       "  box-sizing: border-box;\n",
       "  margin-bottom: 0.5em;\n",
       "  /* unfitted */\n",
       "  background-color: var(--sklearn-color-unfitted-level-0);\n",
       "}\n",
       "\n",
       "#sk-container-id-2 div.sk-estimator.fitted {\n",
       "  /* fitted */\n",
       "  background-color: var(--sklearn-color-fitted-level-0);\n",
       "}\n",
       "\n",
       "/* on hover */\n",
       "#sk-container-id-2 div.sk-estimator:hover {\n",
       "  /* unfitted */\n",
       "  background-color: var(--sklearn-color-unfitted-level-2);\n",
       "}\n",
       "\n",
       "#sk-container-id-2 div.sk-estimator.fitted:hover {\n",
       "  /* fitted */\n",
       "  background-color: var(--sklearn-color-fitted-level-2);\n",
       "}\n",
       "\n",
       "/* Specification for estimator info (e.g. \"i\" and \"?\") */\n",
       "\n",
       "/* Common style for \"i\" and \"?\" */\n",
       "\n",
       ".sk-estimator-doc-link,\n",
       "a:link.sk-estimator-doc-link,\n",
       "a:visited.sk-estimator-doc-link {\n",
       "  float: right;\n",
       "  font-size: smaller;\n",
       "  line-height: 1em;\n",
       "  font-family: monospace;\n",
       "  background-color: var(--sklearn-color-background);\n",
       "  border-radius: 1em;\n",
       "  height: 1em;\n",
       "  width: 1em;\n",
       "  text-decoration: none !important;\n",
       "  margin-left: 1ex;\n",
       "  /* unfitted */\n",
       "  border: var(--sklearn-color-unfitted-level-1) 1pt solid;\n",
       "  color: var(--sklearn-color-unfitted-level-1);\n",
       "}\n",
       "\n",
       ".sk-estimator-doc-link.fitted,\n",
       "a:link.sk-estimator-doc-link.fitted,\n",
       "a:visited.sk-estimator-doc-link.fitted {\n",
       "  /* fitted */\n",
       "  border: var(--sklearn-color-fitted-level-1) 1pt solid;\n",
       "  color: var(--sklearn-color-fitted-level-1);\n",
       "}\n",
       "\n",
       "/* On hover */\n",
       "div.sk-estimator:hover .sk-estimator-doc-link:hover,\n",
       ".sk-estimator-doc-link:hover,\n",
       "div.sk-label-container:hover .sk-estimator-doc-link:hover,\n",
       ".sk-estimator-doc-link:hover {\n",
       "  /* unfitted */\n",
       "  background-color: var(--sklearn-color-unfitted-level-3);\n",
       "  color: var(--sklearn-color-background);\n",
       "  text-decoration: none;\n",
       "}\n",
       "\n",
       "div.sk-estimator.fitted:hover .sk-estimator-doc-link.fitted:hover,\n",
       ".sk-estimator-doc-link.fitted:hover,\n",
       "div.sk-label-container:hover .sk-estimator-doc-link.fitted:hover,\n",
       ".sk-estimator-doc-link.fitted:hover {\n",
       "  /* fitted */\n",
       "  background-color: var(--sklearn-color-fitted-level-3);\n",
       "  color: var(--sklearn-color-background);\n",
       "  text-decoration: none;\n",
       "}\n",
       "\n",
       "/* Span, style for the box shown on hovering the info icon */\n",
       ".sk-estimator-doc-link span {\n",
       "  display: none;\n",
       "  z-index: 9999;\n",
       "  position: relative;\n",
       "  font-weight: normal;\n",
       "  right: .2ex;\n",
       "  padding: .5ex;\n",
       "  margin: .5ex;\n",
       "  width: min-content;\n",
       "  min-width: 20ex;\n",
       "  max-width: 50ex;\n",
       "  color: var(--sklearn-color-text);\n",
       "  box-shadow: 2pt 2pt 4pt #999;\n",
       "  /* unfitted */\n",
       "  background: var(--sklearn-color-unfitted-level-0);\n",
       "  border: .5pt solid var(--sklearn-color-unfitted-level-3);\n",
       "}\n",
       "\n",
       ".sk-estimator-doc-link.fitted span {\n",
       "  /* fitted */\n",
       "  background: var(--sklearn-color-fitted-level-0);\n",
       "  border: var(--sklearn-color-fitted-level-3);\n",
       "}\n",
       "\n",
       ".sk-estimator-doc-link:hover span {\n",
       "  display: block;\n",
       "}\n",
       "\n",
       "/* \"?\"-specific style due to the `<a>` HTML tag */\n",
       "\n",
       "#sk-container-id-2 a.estimator_doc_link {\n",
       "  float: right;\n",
       "  font-size: 1rem;\n",
       "  line-height: 1em;\n",
       "  font-family: monospace;\n",
       "  background-color: var(--sklearn-color-background);\n",
       "  border-radius: 1rem;\n",
       "  height: 1rem;\n",
       "  width: 1rem;\n",
       "  text-decoration: none;\n",
       "  /* unfitted */\n",
       "  color: var(--sklearn-color-unfitted-level-1);\n",
       "  border: var(--sklearn-color-unfitted-level-1) 1pt solid;\n",
       "}\n",
       "\n",
       "#sk-container-id-2 a.estimator_doc_link.fitted {\n",
       "  /* fitted */\n",
       "  border: var(--sklearn-color-fitted-level-1) 1pt solid;\n",
       "  color: var(--sklearn-color-fitted-level-1);\n",
       "}\n",
       "\n",
       "/* On hover */\n",
       "#sk-container-id-2 a.estimator_doc_link:hover {\n",
       "  /* unfitted */\n",
       "  background-color: var(--sklearn-color-unfitted-level-3);\n",
       "  color: var(--sklearn-color-background);\n",
       "  text-decoration: none;\n",
       "}\n",
       "\n",
       "#sk-container-id-2 a.estimator_doc_link.fitted:hover {\n",
       "  /* fitted */\n",
       "  background-color: var(--sklearn-color-fitted-level-3);\n",
       "}\n",
       "</style><div id=\"sk-container-id-2\" class=\"sk-top-container\"><div class=\"sk-text-repr-fallback\"><pre>AgglomerativeClustering(n_clusters=3)</pre><b>In a Jupyter environment, please rerun this cell to show the HTML representation or trust the notebook. <br />On GitHub, the HTML representation is unable to render, please try loading this page with nbviewer.org.</b></div><div class=\"sk-container\" hidden><div class=\"sk-item\"><div class=\"sk-estimator fitted sk-toggleable\"><input class=\"sk-toggleable__control sk-hidden--visually\" id=\"sk-estimator-id-2\" type=\"checkbox\" checked><label for=\"sk-estimator-id-2\" class=\"sk-toggleable__label fitted sk-toggleable__label-arrow fitted\">&nbsp;&nbsp;AgglomerativeClustering<a class=\"sk-estimator-doc-link fitted\" rel=\"noreferrer\" target=\"_blank\" href=\"https://scikit-learn.org/1.4/modules/generated/sklearn.cluster.AgglomerativeClustering.html\">?<span>Documentation for AgglomerativeClustering</span></a><span class=\"sk-estimator-doc-link fitted\">i<span>Fitted</span></span></label><div class=\"sk-toggleable__content fitted\"><pre>AgglomerativeClustering(n_clusters=3)</pre></div> </div></div></div></div>"
      ],
      "text/plain": [
       "AgglomerativeClustering(n_clusters=3)"
      ]
     },
     "execution_count": 37,
     "metadata": {},
     "output_type": "execute_result"
    }
   ],
   "source": [
    "model_hcluster = AgglomerativeClustering(n_clusters=K,metric='euclidean',linkage='ward')\n",
    "model_hcluster.fit(X_train)"
   ]
  },
  {
   "cell_type": "code",
   "execution_count": 38,
   "id": "dMJl1RP4eFjc",
   "metadata": {
    "id": "dMJl1RP4eFjc"
   },
   "outputs": [],
   "source": [
    "new_metric_df['hcluster']=model_hcluster.labels_"
   ]
  },
  {
   "cell_type": "code",
   "execution_count": 39,
   "id": "AtSzMkFseWD9",
   "metadata": {
    "colab": {
     "base_uri": "https://localhost:8080/",
     "height": 536
    },
    "executionInfo": {
     "elapsed": 672,
     "status": "ok",
     "timestamp": 1668334331155,
     "user": {
      "displayName": "Javier Antich",
      "userId": "07400792213044689039"
     },
     "user_tz": -60
    },
    "id": "AtSzMkFseWD9",
    "outputId": "e8f85fd5-8522-4189-8d11-b3cbff806686"
   },
   "outputs": [
    {
     "data": {
      "text/plain": [
       "Text(0.5, 1.0, 'CPU and memory utilization clusters with Agglomerative Hierarchical Clustering in SD-WAN devices')"
      ]
     },
     "execution_count": 39,
     "metadata": {},
     "output_type": "execute_result"
    },
    {
     "data": {
      "image/png": "[encoded data removed]",
      "text/plain": [
       "<Figure size 864x576 with 1 Axes>"
      ]
     },
     "metadata": {},
     "output_type": "display_data"
    }
   ],
   "source": [
    "sns.set(rc={'figure.figsize':(12,8)})\n",
    "sns.scatterplot(data=new_metric_df,x='cpu_utilization', y='mem_utilization',hue='hcluster')\n",
    "plt.title('CPU and memory utilization clusters with Agglomerative Hierarchical Clustering in SD-WAN devices')"
   ]
  },
  {
   "cell_type": "code",
   "execution_count": null,
   "id": "47c0bca7",
   "metadata": {},
   "outputs": [],
   "source": [
    "w"
   ]
  }
 ],
 "metadata": {
  "colab": {
   "provenance": [
    {
     "file_id": "14rtqZTGy7NUBBCzByhdtKYxHMKklReGj",
     "timestamp": 1668192517265
    },
    {
     "file_id": "1NXeAHZ_8xd0_KopyXaAnkpQMi0Sx54Qs",
     "timestamp": 1668179877689
    },
    {
     "file_id": "17b-86MhtHHRjH5dny85MflJdlgFhDkG_",
     "timestamp": 1668104079000
    }
   ]
  },
  "kernelspec": {
   "display_name": "Python 3 (ipykernel)",
   "language": "python",
   "name": "python3"
  },
  "language_info": {
   "codemirror_mode": {
    "name": "ipython",
    "version": 3
   },
   "file_extension": ".py",
   "mimetype": "text/x-python",
   "name": "python",
   "nbconvert_exporter": "python",
   "pygments_lexer": "ipython3",
   "version": "3.10.12"
  }
 },
 "nbformat": 4,
 "nbformat_minor": 5
}
