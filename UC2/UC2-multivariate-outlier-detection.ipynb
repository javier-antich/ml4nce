{
 "cells": [
  {
   "cell_type": "markdown",
   "id": "Dp62UlFT1djs",
   "metadata": {
    "id": "Dp62UlFT1djs"
   },
   "source": [
    "# New libraries to install"
   ]
  },
  {
   "cell_type": "code",
   "execution_count": 1,
   "id": "1c0d1c1d",
   "metadata": {
    "colab": {
     "base_uri": "https://localhost:8080/"
    },
    "executionInfo": {
     "elapsed": 17416,
     "status": "ok",
     "timestamp": 1671100969460,
     "user": {
      "displayName": "Javier Antich",
      "userId": "07400792213044689039"
     },
     "user_tz": -60
    },
    "id": "1c0d1c1d",
    "outputId": "4315af05-c848-43aa-9ec9-c7ac6db2e83e"
   },
   "outputs": [
    {
     "name": "stdout",
     "output_type": "stream",
     "text": [
      "Defaulting to user installation because normal site-packages is not writeable\n",
      "Requirement already satisfied: pyod in /home/gpaasch/.local/lib/python3.10/site-packages (1.1.3)\n",
      "Requirement already satisfied: joblib in /home/gpaasch/.local/lib/python3.10/site-packages (from pyod) (1.4.2)\n",
      "Requirement already satisfied: scikit-learn>=0.22.0 in /home/gpaasch/.local/lib/python3.10/site-packages (from pyod) (1.4.2)\n",
      "Requirement already satisfied: numba>=0.51 in /home/gpaasch/.local/lib/python3.10/site-packages (from pyod) (0.59.1)\n",
      "Requirement already satisfied: six in /usr/lib/python3/dist-packages (from pyod) (1.16.0)\n",
      "Requirement already satisfied: matplotlib in /usr/lib/python3/dist-packages (from pyod) (3.5.1)\n",
      "Requirement already satisfied: scipy>=1.5.1 in /usr/lib/python3/dist-packages (from pyod) (1.8.0)\n",
      "Requirement already satisfied: numpy>=1.19 in /home/gpaasch/.local/lib/python3.10/site-packages (from pyod) (1.24.3)\n",
      "Requirement already satisfied: llvmlite<0.43,>=0.42.0dev0 in /home/gpaasch/.local/lib/python3.10/site-packages (from numba>=0.51->pyod) (0.42.0)\n",
      "Requirement already satisfied: threadpoolctl>=2.0.0 in /home/gpaasch/.local/lib/python3.10/site-packages (from scikit-learn>=0.22.0->pyod) (3.5.0)\n",
      "Note: you may need to restart the kernel to use updated packages.\n"
     ]
    }
   ],
   "source": [
    "%pip install pyod"
   ]
  },
  {
   "cell_type": "markdown",
   "id": "QZ_eqniU1qwQ",
   "metadata": {
    "id": "QZ_eqniU1qwQ"
   },
   "source": [
    "# Connection to drive and path definition"
   ]
  },
  {
   "cell_type": "code",
   "execution_count": 2,
   "id": "tRFF14OYh2Ws",
   "metadata": {
    "id": "tRFF14OYh2Ws"
   },
   "outputs": [],
   "source": [
    "import sys\n",
    "sys.path.insert(0, '/home/gpaasch/ml4nce')\n",
    "path_files ='/home/gpaasch/ml4nce/UC2/'"
   ]
  },
  {
   "cell_type": "markdown",
   "id": "Pk8wd76i1uwZ",
   "metadata": {
    "id": "Pk8wd76i1uwZ"
   },
   "source": [
    "# Import libraries"
   ]
  },
  {
   "cell_type": "code",
   "execution_count": 3,
   "id": "5bcc0754",
   "metadata": {
    "id": "5bcc0754"
   },
   "outputs": [
    {
     "name": "stderr",
     "output_type": "stream",
     "text": [
      "2024-05-24 20:21:37.231113: I tensorflow/core/platform/cpu_feature_guard.cc:210] This TensorFlow binary is optimized to use available CPU instructions in performance-critical operations.\n",
      "To enable the following instructions: AVX2 FMA, in other operations, rebuild TensorFlow with the appropriate compiler flags.\n",
      "2024-05-24 20:21:37.832354: W tensorflow/compiler/tf2tensorrt/utils/py_utils.cc:38] TF-TRT Warning: Could not find TensorRT\n"
     ]
    }
   ],
   "source": [
    "from prophet import Prophet\n",
    "import pandas as pd\n",
    "import numpy as np\n",
    "import matplotlib.pyplot as plt\n",
    "import seaborn as sns\n",
    "from sklearn.metrics import mean_absolute_error,mean_absolute_percentage_error\n",
    "import time\n",
    "from calendar import timegm, monthrange\n",
    "from datetime import datetime, timedelta\n",
    "import math\n",
    "from SANDS import sands\n",
    "from sklearn.preprocessing import MinMaxScaler, StandardScaler\n",
    "import tensorflow as tf\n",
    "from tensorflow import keras\n",
    "from os import listdir\n",
    "from os.path import isfile, join\n",
    "from tensorflow.keras import layers\n",
    "from tensorflow.keras.layers import Embedding, LSTM, Dense, Bidirectional\n",
    "from tensorflow.keras.preprocessing.text import Tokenizer\n",
    "from tensorflow.keras.models import Sequential\n",
    "from tensorflow.keras.optimizers import Adam\n",
    "from tensorflow.keras.callbacks import ModelCheckpoint\n",
    "from tensorflow.keras.metrics import CategoricalAccuracy,Accuracy,BinaryAccuracy\n",
    "\n",
    "\n",
    "from pyod.models.lof import LOF\n",
    "from sklearn.ensemble import IsolationForest\n",
    "from sklearn.cluster import DBSCAN\n",
    "from sklearn.neighbors import NearestNeighbors\n"
   ]
  },
  {
   "cell_type": "markdown",
   "id": "Wl0vcaFb1xTK",
   "metadata": {
    "id": "Wl0vcaFb1xTK"
   },
   "source": [
    "# Data generation"
   ]
  },
  {
   "cell_type": "markdown",
   "id": "bHyImjfd109V",
   "metadata": {
    "id": "bHyImjfd109V"
   },
   "source": [
    "Run the next four cells if you want to generate new data, otherwise skip them and load from the saved file"
   ]
  },
  {
   "cell_type": "code",
   "execution_count": 4,
   "id": "49f6e483",
   "metadata": {
    "id": "49f6e483"
   },
   "outputs": [],
   "source": [
    "parameters1 = {\n",
    "        'time_delta':5\n",
    "    }"
   ]
  },
  {
   "cell_type": "code",
   "execution_count": 5,
   "id": "iqUSed6pFLiX",
   "metadata": {
    "id": "iqUSed6pFLiX"
   },
   "outputs": [],
   "source": [
    "device_filter = {\n",
    "    'vendor':'Versa'\n",
    "}"
   ]
  },
  {
   "cell_type": "code",
   "execution_count": 6,
   "id": "f79b760e",
   "metadata": {
    "id": "f79b760e"
   },
   "outputs": [],
   "source": [
    "metric_df = sands.generate_device_metric_time_range(datetime.now(),datetime.now()+timedelta(minutes=4),parameters1,\"none\",['mem_utilization','cpu_utilization'],device_filter)\n"
   ]
  },
  {
   "cell_type": "code",
   "execution_count": 7,
   "id": "Q8KyVu6RJgiJ",
   "metadata": {
    "id": "Q8KyVu6RJgiJ"
   },
   "outputs": [],
   "source": [
    "metric_df.to_csv(join(path_files,'mem_and_cpu_utilization_sdwan_metric.csv'))"
   ]
  },
  {
   "cell_type": "code",
   "execution_count": 8,
   "id": "41cd2547",
   "metadata": {},
   "outputs": [
    {
     "data": {
      "text/html": [
       "<div>\n",
       "<style scoped>\n",
       "    .dataframe tbody tr th:only-of-type {\n",
       "        vertical-align: middle;\n",
       "    }\n",
       "\n",
       "    .dataframe tbody tr th {\n",
       "        vertical-align: top;\n",
       "    }\n",
       "\n",
       "    .dataframe thead th {\n",
       "        text-align: right;\n",
       "    }\n",
       "</style>\n",
       "<table border=\"1\" class=\"dataframe\">\n",
       "  <thead>\n",
       "    <tr style=\"text-align: right;\">\n",
       "      <th></th>\n",
       "      <th>timestamp</th>\n",
       "      <th>cpu_utilization</th>\n",
       "      <th>device_name</th>\n",
       "      <th>vendor</th>\n",
       "      <th>model</th>\n",
       "      <th>os</th>\n",
       "      <th>version</th>\n",
       "      <th>hw_revision</th>\n",
       "      <th>role</th>\n",
       "      <th>ip_address</th>\n",
       "      <th>mem_utilization</th>\n",
       "    </tr>\n",
       "  </thead>\n",
       "  <tbody>\n",
       "    <tr>\n",
       "      <th>0</th>\n",
       "      <td>1716582099</td>\n",
       "      <td>NaN</td>\n",
       "      <td>E-1-1</td>\n",
       "      <td>Versa</td>\n",
       "      <td>versa_1</td>\n",
       "      <td>VOS</td>\n",
       "      <td>21.1.0</td>\n",
       "      <td>hw-versa-0001</td>\n",
       "      <td>vedge_hub</td>\n",
       "      <td>10.3.1.1</td>\n",
       "      <td>32.0</td>\n",
       "    </tr>\n",
       "    <tr>\n",
       "      <th>1</th>\n",
       "      <td>1716582099</td>\n",
       "      <td>34</td>\n",
       "      <td>E-1-1</td>\n",
       "      <td>Versa</td>\n",
       "      <td>versa_1</td>\n",
       "      <td>VOS</td>\n",
       "      <td>21.1.0</td>\n",
       "      <td>hw-versa-0001</td>\n",
       "      <td>vedge_hub</td>\n",
       "      <td>10.3.1.1</td>\n",
       "      <td>NaN</td>\n",
       "    </tr>\n",
       "    <tr>\n",
       "      <th>2</th>\n",
       "      <td>1716582099</td>\n",
       "      <td>NaN</td>\n",
       "      <td>E-1-2</td>\n",
       "      <td>Versa</td>\n",
       "      <td>versa_1</td>\n",
       "      <td>VOS</td>\n",
       "      <td>21.1.0</td>\n",
       "      <td>hw-versa-0001</td>\n",
       "      <td>vedge_hub</td>\n",
       "      <td>10.3.1.2</td>\n",
       "      <td>34.0</td>\n",
       "    </tr>\n",
       "    <tr>\n",
       "      <th>3</th>\n",
       "      <td>1716582099</td>\n",
       "      <td>34</td>\n",
       "      <td>E-1-2</td>\n",
       "      <td>Versa</td>\n",
       "      <td>versa_1</td>\n",
       "      <td>VOS</td>\n",
       "      <td>21.1.0</td>\n",
       "      <td>hw-versa-0001</td>\n",
       "      <td>vedge_hub</td>\n",
       "      <td>10.3.1.2</td>\n",
       "      <td>NaN</td>\n",
       "    </tr>\n",
       "    <tr>\n",
       "      <th>4</th>\n",
       "      <td>1716582099</td>\n",
       "      <td>NaN</td>\n",
       "      <td>E-2-1</td>\n",
       "      <td>Versa</td>\n",
       "      <td>versa_1</td>\n",
       "      <td>VOS</td>\n",
       "      <td>21.1.0</td>\n",
       "      <td>hw-versa-0001</td>\n",
       "      <td>vedge_branch</td>\n",
       "      <td>10.3.2.1</td>\n",
       "      <td>30.0</td>\n",
       "    </tr>\n",
       "    <tr>\n",
       "      <th>...</th>\n",
       "      <td>...</td>\n",
       "      <td>...</td>\n",
       "      <td>...</td>\n",
       "      <td>...</td>\n",
       "      <td>...</td>\n",
       "      <td>...</td>\n",
       "      <td>...</td>\n",
       "      <td>...</td>\n",
       "      <td>...</td>\n",
       "      <td>...</td>\n",
       "      <td>...</td>\n",
       "    </tr>\n",
       "    <tr>\n",
       "      <th>395</th>\n",
       "      <td>1716582099</td>\n",
       "      <td>10</td>\n",
       "      <td>E-99-2</td>\n",
       "      <td>Versa</td>\n",
       "      <td>versa_2</td>\n",
       "      <td>VOS</td>\n",
       "      <td>21.1.1</td>\n",
       "      <td>hw-versa-0001</td>\n",
       "      <td>vedge_branch</td>\n",
       "      <td>10.3.99.2</td>\n",
       "      <td>NaN</td>\n",
       "    </tr>\n",
       "    <tr>\n",
       "      <th>396</th>\n",
       "      <td>1716582099</td>\n",
       "      <td>NaN</td>\n",
       "      <td>E-100-1</td>\n",
       "      <td>Versa</td>\n",
       "      <td>versa_2</td>\n",
       "      <td>VOS</td>\n",
       "      <td>21.1.0</td>\n",
       "      <td>hw-versa-0002</td>\n",
       "      <td>vedge_hub</td>\n",
       "      <td>10.3.100.1</td>\n",
       "      <td>76.0</td>\n",
       "    </tr>\n",
       "    <tr>\n",
       "      <th>397</th>\n",
       "      <td>1716582099</td>\n",
       "      <td>32</td>\n",
       "      <td>E-100-1</td>\n",
       "      <td>Versa</td>\n",
       "      <td>versa_2</td>\n",
       "      <td>VOS</td>\n",
       "      <td>21.1.0</td>\n",
       "      <td>hw-versa-0002</td>\n",
       "      <td>vedge_hub</td>\n",
       "      <td>10.3.100.1</td>\n",
       "      <td>NaN</td>\n",
       "    </tr>\n",
       "    <tr>\n",
       "      <th>398</th>\n",
       "      <td>1716582099</td>\n",
       "      <td>NaN</td>\n",
       "      <td>E-100-2</td>\n",
       "      <td>Versa</td>\n",
       "      <td>versa_2</td>\n",
       "      <td>VOS</td>\n",
       "      <td>21.1.0</td>\n",
       "      <td>hw-versa-0002</td>\n",
       "      <td>vedge_hub</td>\n",
       "      <td>10.3.100.2</td>\n",
       "      <td>77.0</td>\n",
       "    </tr>\n",
       "    <tr>\n",
       "      <th>399</th>\n",
       "      <td>1716582099</td>\n",
       "      <td>30</td>\n",
       "      <td>E-100-2</td>\n",
       "      <td>Versa</td>\n",
       "      <td>versa_2</td>\n",
       "      <td>VOS</td>\n",
       "      <td>21.1.0</td>\n",
       "      <td>hw-versa-0002</td>\n",
       "      <td>vedge_hub</td>\n",
       "      <td>10.3.100.2</td>\n",
       "      <td>NaN</td>\n",
       "    </tr>\n",
       "  </tbody>\n",
       "</table>\n",
       "<p>400 rows × 11 columns</p>\n",
       "</div>"
      ],
      "text/plain": [
       "      timestamp cpu_utilization device_name vendor    model   os version  \\\n",
       "0    1716582099             NaN       E-1-1  Versa  versa_1  VOS  21.1.0   \n",
       "1    1716582099              34       E-1-1  Versa  versa_1  VOS  21.1.0   \n",
       "2    1716582099             NaN       E-1-2  Versa  versa_1  VOS  21.1.0   \n",
       "3    1716582099              34       E-1-2  Versa  versa_1  VOS  21.1.0   \n",
       "4    1716582099             NaN       E-2-1  Versa  versa_1  VOS  21.1.0   \n",
       "..          ...             ...         ...    ...      ...  ...     ...   \n",
       "395  1716582099              10      E-99-2  Versa  versa_2  VOS  21.1.1   \n",
       "396  1716582099             NaN     E-100-1  Versa  versa_2  VOS  21.1.0   \n",
       "397  1716582099              32     E-100-1  Versa  versa_2  VOS  21.1.0   \n",
       "398  1716582099             NaN     E-100-2  Versa  versa_2  VOS  21.1.0   \n",
       "399  1716582099              30     E-100-2  Versa  versa_2  VOS  21.1.0   \n",
       "\n",
       "       hw_revision          role  ip_address  mem_utilization  \n",
       "0    hw-versa-0001     vedge_hub    10.3.1.1             32.0  \n",
       "1    hw-versa-0001     vedge_hub    10.3.1.1              NaN  \n",
       "2    hw-versa-0001     vedge_hub    10.3.1.2             34.0  \n",
       "3    hw-versa-0001     vedge_hub    10.3.1.2              NaN  \n",
       "4    hw-versa-0001  vedge_branch    10.3.2.1             30.0  \n",
       "..             ...           ...         ...              ...  \n",
       "395  hw-versa-0001  vedge_branch   10.3.99.2              NaN  \n",
       "396  hw-versa-0002     vedge_hub  10.3.100.1             76.0  \n",
       "397  hw-versa-0002     vedge_hub  10.3.100.1              NaN  \n",
       "398  hw-versa-0002     vedge_hub  10.3.100.2             77.0  \n",
       "399  hw-versa-0002     vedge_hub  10.3.100.2              NaN  \n",
       "\n",
       "[400 rows x 11 columns]"
      ]
     },
     "execution_count": 8,
     "metadata": {},
     "output_type": "execute_result"
    }
   ],
   "source": [
    "metric_df"
   ]
  },
  {
   "cell_type": "markdown",
   "id": "l62NPGkP2BO4",
   "metadata": {
    "id": "l62NPGkP2BO4"
   },
   "source": [
    "# Data preparation"
   ]
  },
  {
   "cell_type": "code",
   "execution_count": 9,
   "id": "2wjDI8T3SneD",
   "metadata": {
    "id": "2wjDI8T3SneD"
   },
   "outputs": [],
   "source": [
    "metric_df = metric_df.fillna(0)"
   ]
  },
  {
   "cell_type": "code",
   "execution_count": 10,
   "id": "E0nUI5gESxqu",
   "metadata": {
    "colab": {
     "base_uri": "https://localhost:8080/",
     "height": 423
    },
    "executionInfo": {
     "elapsed": 248,
     "status": "ok",
     "timestamp": 1671102267864,
     "user": {
      "displayName": "Javier Antich",
      "userId": "07400792213044689039"
     },
     "user_tz": -60
    },
    "id": "E0nUI5gESxqu",
    "outputId": "47bd32f2-a90f-41c6-d04f-606e799f8541"
   },
   "outputs": [
    {
     "data": {
      "text/html": [
       "<div>\n",
       "<style scoped>\n",
       "    .dataframe tbody tr th:only-of-type {\n",
       "        vertical-align: middle;\n",
       "    }\n",
       "\n",
       "    .dataframe tbody tr th {\n",
       "        vertical-align: top;\n",
       "    }\n",
       "\n",
       "    .dataframe thead th {\n",
       "        text-align: right;\n",
       "    }\n",
       "</style>\n",
       "<table border=\"1\" class=\"dataframe\">\n",
       "  <thead>\n",
       "    <tr style=\"text-align: right;\">\n",
       "      <th></th>\n",
       "      <th>timestamp</th>\n",
       "      <th>cpu_utilization</th>\n",
       "      <th>device_name</th>\n",
       "      <th>vendor</th>\n",
       "      <th>model</th>\n",
       "      <th>os</th>\n",
       "      <th>version</th>\n",
       "      <th>hw_revision</th>\n",
       "      <th>role</th>\n",
       "      <th>ip_address</th>\n",
       "      <th>mem_utilization</th>\n",
       "    </tr>\n",
       "  </thead>\n",
       "  <tbody>\n",
       "    <tr>\n",
       "      <th>0</th>\n",
       "      <td>1716582099</td>\n",
       "      <td>0</td>\n",
       "      <td>E-1-1</td>\n",
       "      <td>Versa</td>\n",
       "      <td>versa_1</td>\n",
       "      <td>VOS</td>\n",
       "      <td>21.1.0</td>\n",
       "      <td>hw-versa-0001</td>\n",
       "      <td>vedge_hub</td>\n",
       "      <td>10.3.1.1</td>\n",
       "      <td>32.0</td>\n",
       "    </tr>\n",
       "    <tr>\n",
       "      <th>1</th>\n",
       "      <td>1716582099</td>\n",
       "      <td>34</td>\n",
       "      <td>E-1-1</td>\n",
       "      <td>Versa</td>\n",
       "      <td>versa_1</td>\n",
       "      <td>VOS</td>\n",
       "      <td>21.1.0</td>\n",
       "      <td>hw-versa-0001</td>\n",
       "      <td>vedge_hub</td>\n",
       "      <td>10.3.1.1</td>\n",
       "      <td>0.0</td>\n",
       "    </tr>\n",
       "    <tr>\n",
       "      <th>2</th>\n",
       "      <td>1716582099</td>\n",
       "      <td>0</td>\n",
       "      <td>E-1-2</td>\n",
       "      <td>Versa</td>\n",
       "      <td>versa_1</td>\n",
       "      <td>VOS</td>\n",
       "      <td>21.1.0</td>\n",
       "      <td>hw-versa-0001</td>\n",
       "      <td>vedge_hub</td>\n",
       "      <td>10.3.1.2</td>\n",
       "      <td>34.0</td>\n",
       "    </tr>\n",
       "    <tr>\n",
       "      <th>3</th>\n",
       "      <td>1716582099</td>\n",
       "      <td>34</td>\n",
       "      <td>E-1-2</td>\n",
       "      <td>Versa</td>\n",
       "      <td>versa_1</td>\n",
       "      <td>VOS</td>\n",
       "      <td>21.1.0</td>\n",
       "      <td>hw-versa-0001</td>\n",
       "      <td>vedge_hub</td>\n",
       "      <td>10.3.1.2</td>\n",
       "      <td>0.0</td>\n",
       "    </tr>\n",
       "    <tr>\n",
       "      <th>4</th>\n",
       "      <td>1716582099</td>\n",
       "      <td>0</td>\n",
       "      <td>E-2-1</td>\n",
       "      <td>Versa</td>\n",
       "      <td>versa_1</td>\n",
       "      <td>VOS</td>\n",
       "      <td>21.1.0</td>\n",
       "      <td>hw-versa-0001</td>\n",
       "      <td>vedge_branch</td>\n",
       "      <td>10.3.2.1</td>\n",
       "      <td>30.0</td>\n",
       "    </tr>\n",
       "    <tr>\n",
       "      <th>...</th>\n",
       "      <td>...</td>\n",
       "      <td>...</td>\n",
       "      <td>...</td>\n",
       "      <td>...</td>\n",
       "      <td>...</td>\n",
       "      <td>...</td>\n",
       "      <td>...</td>\n",
       "      <td>...</td>\n",
       "      <td>...</td>\n",
       "      <td>...</td>\n",
       "      <td>...</td>\n",
       "    </tr>\n",
       "    <tr>\n",
       "      <th>395</th>\n",
       "      <td>1716582099</td>\n",
       "      <td>10</td>\n",
       "      <td>E-99-2</td>\n",
       "      <td>Versa</td>\n",
       "      <td>versa_2</td>\n",
       "      <td>VOS</td>\n",
       "      <td>21.1.1</td>\n",
       "      <td>hw-versa-0001</td>\n",
       "      <td>vedge_branch</td>\n",
       "      <td>10.3.99.2</td>\n",
       "      <td>0.0</td>\n",
       "    </tr>\n",
       "    <tr>\n",
       "      <th>396</th>\n",
       "      <td>1716582099</td>\n",
       "      <td>0</td>\n",
       "      <td>E-100-1</td>\n",
       "      <td>Versa</td>\n",
       "      <td>versa_2</td>\n",
       "      <td>VOS</td>\n",
       "      <td>21.1.0</td>\n",
       "      <td>hw-versa-0002</td>\n",
       "      <td>vedge_hub</td>\n",
       "      <td>10.3.100.1</td>\n",
       "      <td>76.0</td>\n",
       "    </tr>\n",
       "    <tr>\n",
       "      <th>397</th>\n",
       "      <td>1716582099</td>\n",
       "      <td>32</td>\n",
       "      <td>E-100-1</td>\n",
       "      <td>Versa</td>\n",
       "      <td>versa_2</td>\n",
       "      <td>VOS</td>\n",
       "      <td>21.1.0</td>\n",
       "      <td>hw-versa-0002</td>\n",
       "      <td>vedge_hub</td>\n",
       "      <td>10.3.100.1</td>\n",
       "      <td>0.0</td>\n",
       "    </tr>\n",
       "    <tr>\n",
       "      <th>398</th>\n",
       "      <td>1716582099</td>\n",
       "      <td>0</td>\n",
       "      <td>E-100-2</td>\n",
       "      <td>Versa</td>\n",
       "      <td>versa_2</td>\n",
       "      <td>VOS</td>\n",
       "      <td>21.1.0</td>\n",
       "      <td>hw-versa-0002</td>\n",
       "      <td>vedge_hub</td>\n",
       "      <td>10.3.100.2</td>\n",
       "      <td>77.0</td>\n",
       "    </tr>\n",
       "    <tr>\n",
       "      <th>399</th>\n",
       "      <td>1716582099</td>\n",
       "      <td>30</td>\n",
       "      <td>E-100-2</td>\n",
       "      <td>Versa</td>\n",
       "      <td>versa_2</td>\n",
       "      <td>VOS</td>\n",
       "      <td>21.1.0</td>\n",
       "      <td>hw-versa-0002</td>\n",
       "      <td>vedge_hub</td>\n",
       "      <td>10.3.100.2</td>\n",
       "      <td>0.0</td>\n",
       "    </tr>\n",
       "  </tbody>\n",
       "</table>\n",
       "<p>400 rows × 11 columns</p>\n",
       "</div>"
      ],
      "text/plain": [
       "      timestamp  cpu_utilization device_name vendor    model   os version  \\\n",
       "0    1716582099                0       E-1-1  Versa  versa_1  VOS  21.1.0   \n",
       "1    1716582099               34       E-1-1  Versa  versa_1  VOS  21.1.0   \n",
       "2    1716582099                0       E-1-2  Versa  versa_1  VOS  21.1.0   \n",
       "3    1716582099               34       E-1-2  Versa  versa_1  VOS  21.1.0   \n",
       "4    1716582099                0       E-2-1  Versa  versa_1  VOS  21.1.0   \n",
       "..          ...              ...         ...    ...      ...  ...     ...   \n",
       "395  1716582099               10      E-99-2  Versa  versa_2  VOS  21.1.1   \n",
       "396  1716582099                0     E-100-1  Versa  versa_2  VOS  21.1.0   \n",
       "397  1716582099               32     E-100-1  Versa  versa_2  VOS  21.1.0   \n",
       "398  1716582099                0     E-100-2  Versa  versa_2  VOS  21.1.0   \n",
       "399  1716582099               30     E-100-2  Versa  versa_2  VOS  21.1.0   \n",
       "\n",
       "       hw_revision          role  ip_address  mem_utilization  \n",
       "0    hw-versa-0001     vedge_hub    10.3.1.1             32.0  \n",
       "1    hw-versa-0001     vedge_hub    10.3.1.1              0.0  \n",
       "2    hw-versa-0001     vedge_hub    10.3.1.2             34.0  \n",
       "3    hw-versa-0001     vedge_hub    10.3.1.2              0.0  \n",
       "4    hw-versa-0001  vedge_branch    10.3.2.1             30.0  \n",
       "..             ...           ...         ...              ...  \n",
       "395  hw-versa-0001  vedge_branch   10.3.99.2              0.0  \n",
       "396  hw-versa-0002     vedge_hub  10.3.100.1             76.0  \n",
       "397  hw-versa-0002     vedge_hub  10.3.100.1              0.0  \n",
       "398  hw-versa-0002     vedge_hub  10.3.100.2             77.0  \n",
       "399  hw-versa-0002     vedge_hub  10.3.100.2              0.0  \n",
       "\n",
       "[400 rows x 11 columns]"
      ]
     },
     "execution_count": 10,
     "metadata": {},
     "output_type": "execute_result"
    }
   ],
   "source": [
    "metric_df"
   ]
  },
  {
   "cell_type": "code",
   "execution_count": 11,
   "id": "9DB6FK4eSzra",
   "metadata": {
    "id": "9DB6FK4eSzra"
   },
   "outputs": [],
   "source": [
    "new_metric_df = metric_df.groupby('device_name').sum(['cpu_utilization','memory_utilization'])"
   ]
  },
  {
   "cell_type": "code",
   "execution_count": 12,
   "id": "I6t899zWTqOv",
   "metadata": {
    "colab": {
     "base_uri": "https://localhost:8080/",
     "height": 455
    },
    "executionInfo": {
     "elapsed": 231,
     "status": "ok",
     "timestamp": 1671102271678,
     "user": {
      "displayName": "Javier Antich",
      "userId": "07400792213044689039"
     },
     "user_tz": -60
    },
    "id": "I6t899zWTqOv",
    "outputId": "7f302749-b0e7-4e23-e005-4f829a65b146"
   },
   "outputs": [
    {
     "data": {
      "text/html": [
       "<div>\n",
       "<style scoped>\n",
       "    .dataframe tbody tr th:only-of-type {\n",
       "        vertical-align: middle;\n",
       "    }\n",
       "\n",
       "    .dataframe tbody tr th {\n",
       "        vertical-align: top;\n",
       "    }\n",
       "\n",
       "    .dataframe thead th {\n",
       "        text-align: right;\n",
       "    }\n",
       "</style>\n",
       "<table border=\"1\" class=\"dataframe\">\n",
       "  <thead>\n",
       "    <tr style=\"text-align: right;\">\n",
       "      <th></th>\n",
       "      <th>timestamp</th>\n",
       "      <th>cpu_utilization</th>\n",
       "      <th>mem_utilization</th>\n",
       "    </tr>\n",
       "    <tr>\n",
       "      <th>device_name</th>\n",
       "      <th></th>\n",
       "      <th></th>\n",
       "      <th></th>\n",
       "    </tr>\n",
       "  </thead>\n",
       "  <tbody>\n",
       "    <tr>\n",
       "      <th>E-1-1</th>\n",
       "      <td>3433164198</td>\n",
       "      <td>34</td>\n",
       "      <td>32.0</td>\n",
       "    </tr>\n",
       "    <tr>\n",
       "      <th>E-1-2</th>\n",
       "      <td>3433164198</td>\n",
       "      <td>34</td>\n",
       "      <td>34.0</td>\n",
       "    </tr>\n",
       "    <tr>\n",
       "      <th>E-10-1</th>\n",
       "      <td>3433164198</td>\n",
       "      <td>32</td>\n",
       "      <td>30.0</td>\n",
       "    </tr>\n",
       "    <tr>\n",
       "      <th>E-10-2</th>\n",
       "      <td>3433164198</td>\n",
       "      <td>34</td>\n",
       "      <td>33.0</td>\n",
       "    </tr>\n",
       "    <tr>\n",
       "      <th>E-100-1</th>\n",
       "      <td>3433164198</td>\n",
       "      <td>32</td>\n",
       "      <td>76.0</td>\n",
       "    </tr>\n",
       "    <tr>\n",
       "      <th>...</th>\n",
       "      <td>...</td>\n",
       "      <td>...</td>\n",
       "      <td>...</td>\n",
       "    </tr>\n",
       "    <tr>\n",
       "      <th>E-97-2</th>\n",
       "      <td>3433164198</td>\n",
       "      <td>80</td>\n",
       "      <td>34.0</td>\n",
       "    </tr>\n",
       "    <tr>\n",
       "      <th>E-98-1</th>\n",
       "      <td>3433164198</td>\n",
       "      <td>11</td>\n",
       "      <td>33.0</td>\n",
       "    </tr>\n",
       "    <tr>\n",
       "      <th>E-98-2</th>\n",
       "      <td>3433164198</td>\n",
       "      <td>10</td>\n",
       "      <td>34.0</td>\n",
       "    </tr>\n",
       "    <tr>\n",
       "      <th>E-99-1</th>\n",
       "      <td>3433164198</td>\n",
       "      <td>11</td>\n",
       "      <td>30.0</td>\n",
       "    </tr>\n",
       "    <tr>\n",
       "      <th>E-99-2</th>\n",
       "      <td>3433164198</td>\n",
       "      <td>10</td>\n",
       "      <td>33.0</td>\n",
       "    </tr>\n",
       "  </tbody>\n",
       "</table>\n",
       "<p>200 rows × 3 columns</p>\n",
       "</div>"
      ],
      "text/plain": [
       "              timestamp  cpu_utilization  mem_utilization\n",
       "device_name                                              \n",
       "E-1-1        3433164198               34             32.0\n",
       "E-1-2        3433164198               34             34.0\n",
       "E-10-1       3433164198               32             30.0\n",
       "E-10-2       3433164198               34             33.0\n",
       "E-100-1      3433164198               32             76.0\n",
       "...                 ...              ...              ...\n",
       "E-97-2       3433164198               80             34.0\n",
       "E-98-1       3433164198               11             33.0\n",
       "E-98-2       3433164198               10             34.0\n",
       "E-99-1       3433164198               11             30.0\n",
       "E-99-2       3433164198               10             33.0\n",
       "\n",
       "[200 rows x 3 columns]"
      ]
     },
     "execution_count": 12,
     "metadata": {},
     "output_type": "execute_result"
    }
   ],
   "source": [
    "new_metric_df"
   ]
  },
  {
   "cell_type": "code",
   "execution_count": 13,
   "id": "I46ZzqORTGJq",
   "metadata": {
    "id": "I46ZzqORTGJq"
   },
   "outputs": [],
   "source": [
    "new_metric_df.drop(columns=['timestamp'],inplace=True)"
   ]
  },
  {
   "cell_type": "code",
   "execution_count": 14,
   "id": "6Y7gs-YyTwjH",
   "metadata": {
    "colab": {
     "base_uri": "https://localhost:8080/",
     "height": 455
    },
    "executionInfo": {
     "elapsed": 3,
     "status": "ok",
     "timestamp": 1671105013771,
     "user": {
      "displayName": "Javier Antich",
      "userId": "07400792213044689039"
     },
     "user_tz": -60
    },
    "id": "6Y7gs-YyTwjH",
    "outputId": "41ccc7ef-99ea-48cf-c0c2-acca6c42ab9b"
   },
   "outputs": [
    {
     "data": {
      "text/html": [
       "<div>\n",
       "<style scoped>\n",
       "    .dataframe tbody tr th:only-of-type {\n",
       "        vertical-align: middle;\n",
       "    }\n",
       "\n",
       "    .dataframe tbody tr th {\n",
       "        vertical-align: top;\n",
       "    }\n",
       "\n",
       "    .dataframe thead th {\n",
       "        text-align: right;\n",
       "    }\n",
       "</style>\n",
       "<table border=\"1\" class=\"dataframe\">\n",
       "  <thead>\n",
       "    <tr style=\"text-align: right;\">\n",
       "      <th></th>\n",
       "      <th>cpu_utilization</th>\n",
       "      <th>mem_utilization</th>\n",
       "    </tr>\n",
       "    <tr>\n",
       "      <th>device_name</th>\n",
       "      <th></th>\n",
       "      <th></th>\n",
       "    </tr>\n",
       "  </thead>\n",
       "  <tbody>\n",
       "    <tr>\n",
       "      <th>E-1-1</th>\n",
       "      <td>34</td>\n",
       "      <td>32.0</td>\n",
       "    </tr>\n",
       "    <tr>\n",
       "      <th>E-1-2</th>\n",
       "      <td>34</td>\n",
       "      <td>34.0</td>\n",
       "    </tr>\n",
       "    <tr>\n",
       "      <th>E-10-1</th>\n",
       "      <td>32</td>\n",
       "      <td>30.0</td>\n",
       "    </tr>\n",
       "    <tr>\n",
       "      <th>E-10-2</th>\n",
       "      <td>34</td>\n",
       "      <td>33.0</td>\n",
       "    </tr>\n",
       "    <tr>\n",
       "      <th>E-100-1</th>\n",
       "      <td>32</td>\n",
       "      <td>76.0</td>\n",
       "    </tr>\n",
       "    <tr>\n",
       "      <th>...</th>\n",
       "      <td>...</td>\n",
       "      <td>...</td>\n",
       "    </tr>\n",
       "    <tr>\n",
       "      <th>E-97-2</th>\n",
       "      <td>80</td>\n",
       "      <td>34.0</td>\n",
       "    </tr>\n",
       "    <tr>\n",
       "      <th>E-98-1</th>\n",
       "      <td>11</td>\n",
       "      <td>33.0</td>\n",
       "    </tr>\n",
       "    <tr>\n",
       "      <th>E-98-2</th>\n",
       "      <td>10</td>\n",
       "      <td>34.0</td>\n",
       "    </tr>\n",
       "    <tr>\n",
       "      <th>E-99-1</th>\n",
       "      <td>11</td>\n",
       "      <td>30.0</td>\n",
       "    </tr>\n",
       "    <tr>\n",
       "      <th>E-99-2</th>\n",
       "      <td>10</td>\n",
       "      <td>33.0</td>\n",
       "    </tr>\n",
       "  </tbody>\n",
       "</table>\n",
       "<p>200 rows × 2 columns</p>\n",
       "</div>"
      ],
      "text/plain": [
       "             cpu_utilization  mem_utilization\n",
       "device_name                                  \n",
       "E-1-1                     34             32.0\n",
       "E-1-2                     34             34.0\n",
       "E-10-1                    32             30.0\n",
       "E-10-2                    34             33.0\n",
       "E-100-1                   32             76.0\n",
       "...                      ...              ...\n",
       "E-97-2                    80             34.0\n",
       "E-98-1                    11             33.0\n",
       "E-98-2                    10             34.0\n",
       "E-99-1                    11             30.0\n",
       "E-99-2                    10             33.0\n",
       "\n",
       "[200 rows x 2 columns]"
      ]
     },
     "execution_count": 14,
     "metadata": {},
     "output_type": "execute_result"
    }
   ],
   "source": [
    "new_metric_df"
   ]
  },
  {
   "cell_type": "markdown",
   "id": "4ny0D4TsJy1Z",
   "metadata": {
    "id": "4ny0D4TsJy1Z"
   },
   "source": [
    "timestamp is not relevant in this use case, we will focus on the memory utilization column, and the device_name columns. All other columns will be ignored for the moment."
   ]
  },
  {
   "cell_type": "code",
   "execution_count": 15,
   "id": "mRpBzGbsJ7As",
   "metadata": {
    "colab": {
     "base_uri": "https://localhost:8080/",
     "height": 521
    },
    "executionInfo": {
     "elapsed": 760,
     "status": "ok",
     "timestamp": 1671105016177,
     "user": {
      "displayName": "Javier Antich",
      "userId": "07400792213044689039"
     },
     "user_tz": -60
    },
    "id": "mRpBzGbsJ7As",
    "outputId": "3b747247-6c9b-48a8-c244-f1c5ff42bd06"
   },
   "outputs": [
    {
     "data": {
      "text/plain": [
       "<matplotlib.legend.Legend at 0x7fdfca690460>"
      ]
     },
     "execution_count": 15,
     "metadata": {},
     "output_type": "execute_result"
    },
    {
     "data": {
      "image/png": "[encoded data removed]",
      "text/plain": [
       "<Figure size 864x576 with 1 Axes>"
      ]
     },
     "metadata": {},
     "output_type": "display_data"
    }
   ],
   "source": [
    "sns.set(rc={'figure.figsize':(12,8)})\n",
    "sns.histplot(data=new_metric_df,x='mem_utilization', bins=50)\n",
    "plt.legend(['Memory utilization in SD-WAN devices'])"
   ]
  },
  {
   "cell_type": "code",
   "execution_count": 16,
   "id": "aZI2VOEGT_-u",
   "metadata": {
    "colab": {
     "base_uri": "https://localhost:8080/",
     "height": 520
    },
    "executionInfo": {
     "elapsed": 719,
     "status": "ok",
     "timestamp": 1671105018672,
     "user": {
      "displayName": "Javier Antich",
      "userId": "07400792213044689039"
     },
     "user_tz": -60
    },
    "id": "aZI2VOEGT_-u",
    "outputId": "edcec073-94c1-49a7-ca1a-bf9f5fd83030"
   },
   "outputs": [
    {
     "data": {
      "text/plain": [
       "<matplotlib.legend.Legend at 0x7fdea57df340>"
      ]
     },
     "execution_count": 16,
     "metadata": {},
     "output_type": "execute_result"
    },
    {
     "data": {
      "image/png": "[encoded data removed]",
      "text/plain": [
       "<Figure size 864x576 with 1 Axes>"
      ]
     },
     "metadata": {},
     "output_type": "display_data"
    }
   ],
   "source": [
    "sns.set(rc={'figure.figsize':(12,8)})\n",
    "sns.histplot(data=new_metric_df,x='cpu_utilization', bins=50)\n",
    "plt.legend(['CPU utilization in SD-WAN devices'])"
   ]
  },
  {
   "cell_type": "code",
   "execution_count": 17,
   "id": "mCoK0E2-USp_",
   "metadata": {
    "colab": {
     "base_uri": "https://localhost:8080/",
     "height": 520
    },
    "executionInfo": {
     "elapsed": 760,
     "status": "ok",
     "timestamp": 1671105021010,
     "user": {
      "displayName": "Javier Antich",
      "userId": "07400792213044689039"
     },
     "user_tz": -60
    },
    "id": "mCoK0E2-USp_",
    "outputId": "05c1bd2b-b174-453d-d54b-b13dea21fef6"
   },
   "outputs": [
    {
     "data": {
      "text/plain": [
       "<matplotlib.legend.Legend at 0x7fdea583e3b0>"
      ]
     },
     "execution_count": 17,
     "metadata": {},
     "output_type": "execute_result"
    },
    {
     "data": {
      "image/png": "[encoded data removed]",
      "text/plain": [
       "<Figure size 864x576 with 1 Axes>"
      ]
     },
     "metadata": {},
     "output_type": "display_data"
    }
   ],
   "source": [
    "sns.set(rc={'figure.figsize':(12,8)})\n",
    "sns.histplot(data=new_metric_df,x='cpu_utilization', y='mem_utilization', bins=50)\n",
    "plt.legend(['CPU and memory utilization in SD-WAN devices'])"
   ]
  },
  {
   "cell_type": "code",
   "execution_count": 18,
   "id": "xlaV-BC9Uemf",
   "metadata": {
    "colab": {
     "base_uri": "https://localhost:8080/",
     "height": 520
    },
    "executionInfo": {
     "elapsed": 580,
     "status": "ok",
     "timestamp": 1671105022771,
     "user": {
      "displayName": "Javier Antich",
      "userId": "07400792213044689039"
     },
     "user_tz": -60
    },
    "id": "xlaV-BC9Uemf",
    "outputId": "af5c92d1-66e3-439d-e5d7-8137cc3e8bb1"
   },
   "outputs": [
    {
     "data": {
      "text/plain": [
       "<matplotlib.legend.Legend at 0x7fdea35b4700>"
      ]
     },
     "execution_count": 18,
     "metadata": {},
     "output_type": "execute_result"
    },
    {
     "data": {
      "image/png": "[encoded data removed]",
      "text/plain": [
       "<Figure size 864x576 with 1 Axes>"
      ]
     },
     "metadata": {},
     "output_type": "display_data"
    }
   ],
   "source": [
    "sns.set(rc={'figure.figsize':(12,8)})\n",
    "sns.scatterplot(data=new_metric_df,x='cpu_utilization', y='mem_utilization')\n",
    "plt.legend(['CPU and memory utilization in SD-WAN devices'])"
   ]
  },
  {
   "cell_type": "markdown",
   "id": "cE2y9BQ02Hxw",
   "metadata": {
    "id": "cE2y9BQ02Hxw"
   },
   "source": [
    "# Local Outlier Factor"
   ]
  },
  {
   "cell_type": "code",
   "execution_count": 19,
   "id": "CF4yzc4nb778",
   "metadata": {
    "id": "CF4yzc4nb778"
   },
   "outputs": [],
   "source": [
    "X_train = new_metric_df[['mem_utilization','cpu_utilization']].values\n",
    "X_test = X_train"
   ]
  },
  {
   "cell_type": "code",
   "execution_count": 20,
   "id": "PmGyp73_blLG",
   "metadata": {
    "id": "PmGyp73_blLG"
   },
   "outputs": [],
   "source": [
    "lof = LOF(contamination=0.05)\n"
   ]
  },
  {
   "cell_type": "code",
   "execution_count": 21,
   "id": "rDKE58Lvbzjj",
   "metadata": {
    "colab": {
     "base_uri": "https://localhost:8080/"
    },
    "executionInfo": {
     "elapsed": 230,
     "status": "ok",
     "timestamp": 1671105052176,
     "user": {
      "displayName": "Javier Antich",
      "userId": "07400792213044689039"
     },
     "user_tz": -60
    },
    "id": "rDKE58Lvbzjj",
    "outputId": "3093dce8-d0a2-4430-a407-4083f5dc4daf"
   },
   "outputs": [
    {
     "name": "stdout",
     "output_type": "stream",
     "text": [
      "The training data: {0: 194, 1: 6}\n",
      "The threshold for the defined contamination rate: 1.4375313659065139\n"
     ]
    }
   ],
   "source": [
    "lof = LOF(contamination=0.03) \n",
    "lof.fit(X_train)\n",
    "\n",
    "y_train_scores = lof.decision_function(X_train)\n",
    "y_train_pred = lof.predict(X_train)\n",
    "\n",
    "y_test_scores = lof.decision_function(X_test)\n",
    "y_test_pred = lof.predict(X_test) # outlier labels (0 or 1)\n",
    "\n",
    "def count_stat(vector):\n",
    "    unique, counts = np.unique(vector, return_counts=True)\n",
    "    return dict(zip(unique, counts))\n",
    "\n",
    "print(\"The training data:\", count_stat(y_train_pred))\n",
    "print(\"The threshold for the defined contamination rate:\" , lof.threshold_)"
   ]
  },
  {
   "cell_type": "code",
   "execution_count": 22,
   "id": "6MKfYsg4d0Rn",
   "metadata": {
    "colab": {
     "base_uri": "https://localhost:8080/"
    },
    "executionInfo": {
     "elapsed": 195,
     "status": "ok",
     "timestamp": 1671105057399,
     "user": {
      "displayName": "Javier Antich",
      "userId": "07400792213044689039"
     },
     "user_tz": -60
    },
    "id": "6MKfYsg4d0Rn",
    "outputId": "7fa6a554-4b66-4b0f-8979-32b18280c708"
   },
   "outputs": [
    {
     "data": {
      "text/plain": [
       "array([ 0.97166158,  1.04407165,  1.06647751,  0.99653169, 18.93990496,\n",
       "       19.48906065,  0.953978  ,  1.03768997,  0.9829701 ,  1.02773092,\n",
       "        1.02446274,  0.98944612,  0.99731475,  1.04177964,  1.01056903,\n",
       "        1.01056903,  1.0006459 ,  1.0006459 ,  0.99731475,  1.05734069,\n",
       "        1.0006459 ,  0.9829701 ,  0.99653169,  1.02773092,  1.0446932 ,\n",
       "        1.02446274,  0.99653169,  1.03768997,  0.9829701 ,  1.03082578,\n",
       "        1.02818151,  0.99653169,  1.03082578,  0.9829701 ,  0.896881  ,\n",
       "        0.97166158,  1.01881587,  1.0446932 ,  1.0006459 ,  1.0446932 ,\n",
       "        1.02818151,  1.05734069,  0.95071022,  1.21125056,  1.0067237 ,\n",
       "        0.97166158,  1.03082578,  0.97166158,  1.0187677 ,  1.0339809 ,\n",
       "        0.96967148,  1.10833702,  1.00845232,  0.9894533 ,  1.01605655,\n",
       "        0.9894533 ,  1.04859644,  0.95997063,  0.96967148,  1.06643469,\n",
       "        1.19075698,  0.9894533 ,  0.96647749,  0.98270483,  0.99653666,\n",
       "        0.93087159,  1.04859644,  1.05975626,  1.0067237 ,  0.953978  ,\n",
       "        0.94809393,  1.08036069,  1.01605655,  1.01983915,  1.19075698,\n",
       "        0.98484301,  1.05287059,  0.93087159,  1.10833702,  1.0187677 ,\n",
       "        1.06643469,  1.06643469,  0.98484301,  1.19075698,  0.99653666,\n",
       "        0.94809393,  0.95997063,  1.0339809 ,  1.00845232,  0.89666607,\n",
       "        0.896881  ,  0.99653169,  1.10060362,  1.04859644,  1.00845232,\n",
       "        0.99653666,  1.0187677 ,  1.01983915,  0.95997063,  1.04859644,\n",
       "        0.94809393,  1.05975626,  1.10060362,  1.08641626,  1.19075698,\n",
       "        1.04859644,  1.0187677 ,  1.05287059,  1.01605655,  0.93087159,\n",
       "        0.93087159,  1.10060362,  1.06647751,  1.03768997,  1.01866355,\n",
       "        0.95912688,  1.0320284 ,  0.95912688,  1.0057642 ,  1.01866355,\n",
       "        1.0057642 ,  1.01866355,  1.00721456,  1.00721456,  0.9718491 ,\n",
       "        1.03237719,  0.9718491 ,  1.0057642 ,  1.06313517,  0.95912688,\n",
       "        1.01866355,  1.0057642 ,  1.03237719,  1.0057642 ,  0.98944612,\n",
       "        0.896881  ,  1.00721456,  1.0320284 ,  0.95912688,  1.03237719,\n",
       "        0.95912688,  0.97789415,  1.03237719,  1.01866355,  0.9718491 ,\n",
       "        1.06313517,  0.95912688,  0.95912688,  0.95912688,  1.03237719,\n",
       "        0.95912688,  1.06313517,  0.95912688,  0.97789415,  0.97789415,\n",
       "        1.06313517,  1.01881587,  1.06647751,  0.9718491 ,  0.97789415,\n",
       "        0.97789415,  1.0057642 ,  1.00721456,  1.0057642 ,  0.9718491 ,\n",
       "        1.03237719,  0.9718491 ,  1.03730145,  0.97789415,  1.03730145,\n",
       "        1.01866355,  0.9718491 ,  0.97789415,  1.03730145,  1.00721456,\n",
       "        1.03730145,  1.03730145,  1.00721456,  0.9829701 ,  0.97166158,\n",
       "        1.03730145,  1.0320284 ,  1.01866355,  1.00721456,  1.0320284 ,\n",
       "        1.0320284 ,  1.00721456,  0.95912688,  1.0057642 ,  0.97789415,\n",
       "        1.03237719,  0.95912688,  1.0057642 ,  1.06313517,  0.97789415,\n",
       "        1.0320284 ,  7.9031915 ,  8.21485959,  7.91987089,  8.22798243])"
      ]
     },
     "execution_count": 22,
     "metadata": {},
     "output_type": "execute_result"
    }
   ],
   "source": [
    "y_test_scores"
   ]
  },
  {
   "cell_type": "code",
   "execution_count": 23,
   "id": "yilnqLCmdtyK",
   "metadata": {
    "colab": {
     "base_uri": "https://localhost:8080/",
     "height": 504
    },
    "executionInfo": {
     "elapsed": 854,
     "status": "ok",
     "timestamp": 1671105065485,
     "user": {
      "displayName": "Javier Antich",
      "userId": "07400792213044689039"
     },
     "user_tz": -60
    },
    "id": "yilnqLCmdtyK",
    "outputId": "5f546f84-d77c-4f7d-c9ef-efae4c4e9ef1"
   },
   "outputs": [
    {
     "data": {
      "text/plain": [
       "<matplotlib.legend.Legend at 0x7fdea34f1090>"
      ]
     },
     "execution_count": 23,
     "metadata": {},
     "output_type": "execute_result"
    },
    {
     "data": {
      "image/png": "[encoded data removed]",
      "text/plain": [
       "<Figure size 864x576 with 1 Axes>"
      ]
     },
     "metadata": {},
     "output_type": "display_data"
    }
   ],
   "source": [
    "sns.set(rc={'figure.figsize':(12,8)})\n",
    "sns.histplot(x=y_test_scores, bins=50,hue=y_test_pred)\n",
    "plt.legend(['Outlier score distribution'])"
   ]
  },
  {
   "cell_type": "code",
   "execution_count": 24,
   "id": "Eyrpa0vveVBB",
   "metadata": {
    "colab": {
     "base_uri": "https://localhost:8080/"
    },
    "executionInfo": {
     "elapsed": 198,
     "status": "ok",
     "timestamp": 1671105069189,
     "user": {
      "displayName": "Javier Antich",
      "userId": "07400792213044689039"
     },
     "user_tz": -60
    },
    "id": "Eyrpa0vveVBB",
    "outputId": "db77e429-e7cb-4f0b-e0d0-6f69b3a64b95"
   },
   "outputs": [
    {
     "name": "stdout",
     "output_type": "stream",
     "text": [
      "Outlier list:\n",
      "             cpu_utilization  mem_utilization\n",
      "device_name                                  \n",
      "E-100-1                   32             76.0\n",
      "E-100-2                   30             77.0\n",
      "E-98-1                    11             33.0\n",
      "E-98-2                    10             34.0\n",
      "E-99-1                    11             30.0\n",
      "E-99-2                    10             33.0\n"
     ]
    }
   ],
   "source": [
    "print('Outlier list:')\n",
    "print(new_metric_df.iloc[y_test_pred==1,:])"
   ]
  },
  {
   "cell_type": "code",
   "execution_count": 25,
   "id": "MJRL_ht_YEwu",
   "metadata": {
    "id": "MJRL_ht_YEwu"
   },
   "outputs": [],
   "source": [
    "new_metric_df['outlier']=0\n",
    "new_metric_df.iloc[y_test_pred==1,new_metric_df.columns.get_loc('outlier')]=1"
   ]
  },
  {
   "cell_type": "code",
   "execution_count": 26,
   "id": "SMcYFu4TZM3t",
   "metadata": {
    "colab": {
     "base_uri": "https://localhost:8080/",
     "height": 455
    },
    "executionInfo": {
     "elapsed": 208,
     "status": "ok",
     "timestamp": 1671105074778,
     "user": {
      "displayName": "Javier Antich",
      "userId": "07400792213044689039"
     },
     "user_tz": -60
    },
    "id": "SMcYFu4TZM3t",
    "outputId": "981e1711-8fb0-4ac2-bc33-249bdb95826b"
   },
   "outputs": [
    {
     "data": {
      "text/html": [
       "<div>\n",
       "<style scoped>\n",
       "    .dataframe tbody tr th:only-of-type {\n",
       "        vertical-align: middle;\n",
       "    }\n",
       "\n",
       "    .dataframe tbody tr th {\n",
       "        vertical-align: top;\n",
       "    }\n",
       "\n",
       "    .dataframe thead th {\n",
       "        text-align: right;\n",
       "    }\n",
       "</style>\n",
       "<table border=\"1\" class=\"dataframe\">\n",
       "  <thead>\n",
       "    <tr style=\"text-align: right;\">\n",
       "      <th></th>\n",
       "      <th>cpu_utilization</th>\n",
       "      <th>mem_utilization</th>\n",
       "      <th>outlier</th>\n",
       "    </tr>\n",
       "    <tr>\n",
       "      <th>device_name</th>\n",
       "      <th></th>\n",
       "      <th></th>\n",
       "      <th></th>\n",
       "    </tr>\n",
       "  </thead>\n",
       "  <tbody>\n",
       "    <tr>\n",
       "      <th>E-1-1</th>\n",
       "      <td>34</td>\n",
       "      <td>32.0</td>\n",
       "      <td>0</td>\n",
       "    </tr>\n",
       "    <tr>\n",
       "      <th>E-1-2</th>\n",
       "      <td>34</td>\n",
       "      <td>34.0</td>\n",
       "      <td>0</td>\n",
       "    </tr>\n",
       "    <tr>\n",
       "      <th>E-10-1</th>\n",
       "      <td>32</td>\n",
       "      <td>30.0</td>\n",
       "      <td>0</td>\n",
       "    </tr>\n",
       "    <tr>\n",
       "      <th>E-10-2</th>\n",
       "      <td>34</td>\n",
       "      <td>33.0</td>\n",
       "      <td>0</td>\n",
       "    </tr>\n",
       "    <tr>\n",
       "      <th>E-100-1</th>\n",
       "      <td>32</td>\n",
       "      <td>76.0</td>\n",
       "      <td>1</td>\n",
       "    </tr>\n",
       "    <tr>\n",
       "      <th>...</th>\n",
       "      <td>...</td>\n",
       "      <td>...</td>\n",
       "      <td>...</td>\n",
       "    </tr>\n",
       "    <tr>\n",
       "      <th>E-97-2</th>\n",
       "      <td>80</td>\n",
       "      <td>34.0</td>\n",
       "      <td>0</td>\n",
       "    </tr>\n",
       "    <tr>\n",
       "      <th>E-98-1</th>\n",
       "      <td>11</td>\n",
       "      <td>33.0</td>\n",
       "      <td>1</td>\n",
       "    </tr>\n",
       "    <tr>\n",
       "      <th>E-98-2</th>\n",
       "      <td>10</td>\n",
       "      <td>34.0</td>\n",
       "      <td>1</td>\n",
       "    </tr>\n",
       "    <tr>\n",
       "      <th>E-99-1</th>\n",
       "      <td>11</td>\n",
       "      <td>30.0</td>\n",
       "      <td>1</td>\n",
       "    </tr>\n",
       "    <tr>\n",
       "      <th>E-99-2</th>\n",
       "      <td>10</td>\n",
       "      <td>33.0</td>\n",
       "      <td>1</td>\n",
       "    </tr>\n",
       "  </tbody>\n",
       "</table>\n",
       "<p>200 rows × 3 columns</p>\n",
       "</div>"
      ],
      "text/plain": [
       "             cpu_utilization  mem_utilization  outlier\n",
       "device_name                                           \n",
       "E-1-1                     34             32.0        0\n",
       "E-1-2                     34             34.0        0\n",
       "E-10-1                    32             30.0        0\n",
       "E-10-2                    34             33.0        0\n",
       "E-100-1                   32             76.0        1\n",
       "...                      ...              ...      ...\n",
       "E-97-2                    80             34.0        0\n",
       "E-98-1                    11             33.0        1\n",
       "E-98-2                    10             34.0        1\n",
       "E-99-1                    11             30.0        1\n",
       "E-99-2                    10             33.0        1\n",
       "\n",
       "[200 rows x 3 columns]"
      ]
     },
     "execution_count": 26,
     "metadata": {},
     "output_type": "execute_result"
    }
   ],
   "source": [
    "new_metric_df"
   ]
  },
  {
   "cell_type": "code",
   "execution_count": 27,
   "id": "JBfGAaiOZP7n",
   "metadata": {
    "colab": {
     "base_uri": "https://localhost:8080/",
     "height": 536
    },
    "executionInfo": {
     "elapsed": 804,
     "status": "ok",
     "timestamp": 1671105079366,
     "user": {
      "displayName": "Javier Antich",
      "userId": "07400792213044689039"
     },
     "user_tz": -60
    },
    "id": "JBfGAaiOZP7n",
    "outputId": "5ff1dfc2-e804-4ae0-87de-68b31f0b8c6b"
   },
   "outputs": [
    {
     "data": {
      "text/plain": [
       "Text(0.5, 1.0, 'CPU and memory utilization outliers in SD-WAN devices')"
      ]
     },
     "execution_count": 27,
     "metadata": {},
     "output_type": "execute_result"
    },
    {
     "data": {
      "image/png": "[encoded data removed]",
      "text/plain": [
       "<Figure size 864x576 with 1 Axes>"
      ]
     },
     "metadata": {},
     "output_type": "display_data"
    }
   ],
   "source": [
    "sns.set(rc={'figure.figsize':(12,8)})\n",
    "sns.scatterplot(data=new_metric_df,x='cpu_utilization', y='mem_utilization',hue='outlier')\n",
    "plt.title('CPU and memory utilization outliers in SD-WAN devices')"
   ]
  },
  {
   "cell_type": "markdown",
   "id": "cchHW7AG2NHK",
   "metadata": {
    "id": "cchHW7AG2NHK"
   },
   "source": [
    "# Isolation Forest"
   ]
  },
  {
   "cell_type": "code",
   "execution_count": 28,
   "id": "Wtpm1I14aSYd",
   "metadata": {
    "id": "Wtpm1I14aSYd"
   },
   "outputs": [],
   "source": [
    "iforest = IsolationForest(n_estimators = 100, contamination = 0.03)\n",
    "y_pred = iforest.fit_predict(X_train)\n",
    "y_pred[y_pred == -1]=0"
   ]
  },
  {
   "cell_type": "code",
   "execution_count": 29,
   "id": "nmlp5zx3cPWe",
   "metadata": {
    "colab": {
     "base_uri": "https://localhost:8080/"
    },
    "executionInfo": {
     "elapsed": 544,
     "status": "ok",
     "timestamp": 1671110418140,
     "user": {
      "displayName": "Javier Antich",
      "userId": "07400792213044689039"
     },
     "user_tz": -60
    },
    "id": "nmlp5zx3cPWe",
    "outputId": "5005d9e8-d2f3-466d-fb90-a88051a3e0b0"
   },
   "outputs": [
    {
     "name": "stdout",
     "output_type": "stream",
     "text": [
      "Number of outliers detected: 6\n",
      "Number of normal samples detected: 194\n"
     ]
    }
   ],
   "source": [
    "print(\"Number of outliers detected: {}\".format(y_pred[y_pred == 0].shape[0]))\n",
    "print(\"Number of normal samples detected: {}\".format(y_pred[y_pred > 0].sum()))"
   ]
  },
  {
   "cell_type": "code",
   "execution_count": 30,
   "id": "vziH1dmVeLxa",
   "metadata": {
    "id": "vziH1dmVeLxa"
   },
   "outputs": [],
   "source": [
    "new_metric_df['outlier_isoforest']=y_pred"
   ]
  },
  {
   "cell_type": "code",
   "execution_count": 31,
   "id": "oqVAEzDMeTd0",
   "metadata": {
    "colab": {
     "base_uri": "https://localhost:8080/",
     "height": 536
    },
    "executionInfo": {
     "elapsed": 760,
     "status": "ok",
     "timestamp": 1671110420505,
     "user": {
      "displayName": "Javier Antich",
      "userId": "07400792213044689039"
     },
     "user_tz": -60
    },
    "id": "oqVAEzDMeTd0",
    "outputId": "54210ada-dd60-4d9c-8407-b191a8794a84"
   },
   "outputs": [
    {
     "data": {
      "text/plain": [
       "Text(0.5, 1.0, 'CPU and memory utilization outliers detected by Isolation Forest in SD-WAN devices')"
      ]
     },
     "execution_count": 31,
     "metadata": {},
     "output_type": "execute_result"
    },
    {
     "data": {
      "image/png": "[encoded data removed]",
      "text/plain": [
       "<Figure size 864x576 with 1 Axes>"
      ]
     },
     "metadata": {},
     "output_type": "display_data"
    }
   ],
   "source": [
    "sns.set(rc={'figure.figsize':(12,8)})\n",
    "sns.scatterplot(data=new_metric_df,x='cpu_utilization', y='mem_utilization',hue='outlier_isoforest')\n",
    "plt.title('CPU and memory utilization outliers detected by Isolation Forest in SD-WAN devices')"
   ]
  },
  {
   "cell_type": "code",
   "execution_count": 32,
   "id": "knN6AcoAg9SO",
   "metadata": {
    "colab": {
     "base_uri": "https://localhost:8080/"
    },
    "executionInfo": {
     "elapsed": 1,
     "status": "ok",
     "timestamp": 1671111466337,
     "user": {
      "displayName": "Javier Antich",
      "userId": "07400792213044689039"
     },
     "user_tz": -60
    },
    "id": "knN6AcoAg9SO",
    "outputId": "c04335c1-c8f9-4803-bbae-43d5b839fcb4"
   },
   "outputs": [
    {
     "data": {
      "text/plain": [
       "(200, 2)"
      ]
     },
     "execution_count": 32,
     "metadata": {},
     "output_type": "execute_result"
    }
   ],
   "source": [
    "X_train.shape"
   ]
  },
  {
   "cell_type": "markdown",
   "id": "bZ50utZ92TcC",
   "metadata": {
    "id": "bZ50utZ92TcC"
   },
   "source": [
    "# DBSCAN"
   ]
  },
  {
   "cell_type": "code",
   "execution_count": 33,
   "id": "pzVukB4IcIa0",
   "metadata": {
    "id": "pzVukB4IcIa0"
   },
   "outputs": [],
   "source": [
    "scaler = StandardScaler()\n",
    "scaler = scaler.fit(X_train)\n",
    "X_train_scaled=scaler.transform(X_train)"
   ]
  },
  {
   "cell_type": "code",
   "execution_count": 34,
   "id": "hfak3m08iEtf",
   "metadata": {
    "id": "hfak3m08iEtf"
   },
   "outputs": [],
   "source": [
    "neigh = NearestNeighbors(n_neighbors=2)\n",
    "nbrs = neigh.fit(X_train_scaled)\n",
    "distances, indices = nbrs.kneighbors(X_train_scaled)"
   ]
  },
  {
   "cell_type": "code",
   "execution_count": 35,
   "id": "WpOzk9DwiVGe",
   "metadata": {
    "colab": {
     "base_uri": "https://localhost:8080/",
     "height": 633
    },
    "executionInfo": {
     "elapsed": 587,
     "status": "ok",
     "timestamp": 1671111470495,
     "user": {
      "displayName": "Javier Antich",
      "userId": "07400792213044689039"
     },
     "user_tz": -60
    },
    "id": "WpOzk9DwiVGe",
    "outputId": "32eb477e-d751-4508-abf8-6d4fe0d535cc"
   },
   "outputs": [
    {
     "data": {
      "image/png": "[encoded data removed]",
      "text/plain": [
       "<Figure size 1440x720 with 1 Axes>"
      ]
     },
     "metadata": {},
     "output_type": "display_data"
    }
   ],
   "source": [
    "distances = np.sort(distances, axis=0)\n",
    "distances = distances[:,1]\n",
    "plt.figure(figsize=(20,10))\n",
    "plt.plot(distances)\n",
    "plt.title('K-distance Graph',fontsize=20)\n",
    "plt.xlabel('Data Points sorted by distance',fontsize=14)\n",
    "plt.ylabel('Epsilon',fontsize=14)\n",
    "plt.show()"
   ]
  },
  {
   "cell_type": "code",
   "execution_count": 36,
   "id": "6cxDIkPsfefT",
   "metadata": {
    "colab": {
     "base_uri": "https://localhost:8080/"
    },
    "executionInfo": {
     "elapsed": 257,
     "status": "ok",
     "timestamp": 1671111472459,
     "user": {
      "displayName": "Javier Antich",
      "userId": "07400792213044689039"
     },
     "user_tz": -60
    },
    "id": "6cxDIkPsfefT",
    "outputId": "4fb39e16-70e5-44b8-99ca-8661679c9124"
   },
   "outputs": [
    {
     "data": {
      "text/html": [
       "<style>#sk-container-id-1 {\n",
       "  /* Definition of color scheme common for light and dark mode */\n",
       "  --sklearn-color-text: black;\n",
       "  --sklearn-color-line: gray;\n",
       "  /* Definition of color scheme for unfitted estimators */\n",
       "  --sklearn-color-unfitted-level-0: #fff5e6;\n",
       "  --sklearn-color-unfitted-level-1: #f6e4d2;\n",
       "  --sklearn-color-unfitted-level-2: #ffe0b3;\n",
       "  --sklearn-color-unfitted-level-3: chocolate;\n",
       "  /* Definition of color scheme for fitted estimators */\n",
       "  --sklearn-color-fitted-level-0: #f0f8ff;\n",
       "  --sklearn-color-fitted-level-1: #d4ebff;\n",
       "  --sklearn-color-fitted-level-2: #b3dbfd;\n",
       "  --sklearn-color-fitted-level-3: cornflowerblue;\n",
       "\n",
       "  /* Specific color for light theme */\n",
       "  --sklearn-color-text-on-default-background: var(--sg-text-color, var(--theme-code-foreground, var(--jp-content-font-color1, black)));\n",
       "  --sklearn-color-background: var(--sg-background-color, var(--theme-background, var(--jp-layout-color0, white)));\n",
       "  --sklearn-color-border-box: var(--sg-text-color, var(--theme-code-foreground, var(--jp-content-font-color1, black)));\n",
       "  --sklearn-color-icon: #696969;\n",
       "\n",
       "  @media (prefers-color-scheme: dark) {\n",
       "    /* Redefinition of color scheme for dark theme */\n",
       "    --sklearn-color-text-on-default-background: var(--sg-text-color, var(--theme-code-foreground, var(--jp-content-font-color1, white)));\n",
       "    --sklearn-color-background: var(--sg-background-color, var(--theme-background, var(--jp-layout-color0, #111)));\n",
       "    --sklearn-color-border-box: var(--sg-text-color, var(--theme-code-foreground, var(--jp-content-font-color1, white)));\n",
       "    --sklearn-color-icon: #878787;\n",
       "  }\n",
       "}\n",
       "\n",
       "#sk-container-id-1 {\n",
       "  color: var(--sklearn-color-text);\n",
       "}\n",
       "\n",
       "#sk-container-id-1 pre {\n",
       "  padding: 0;\n",
       "}\n",
       "\n",
       "#sk-container-id-1 input.sk-hidden--visually {\n",
       "  border: 0;\n",
       "  clip: rect(1px 1px 1px 1px);\n",
       "  clip: rect(1px, 1px, 1px, 1px);\n",
       "  height: 1px;\n",
       "  margin: -1px;\n",
       "  overflow: hidden;\n",
       "  padding: 0;\n",
       "  position: absolute;\n",
       "  width: 1px;\n",
       "}\n",
       "\n",
       "#sk-container-id-1 div.sk-dashed-wrapped {\n",
       "  border: 1px dashed var(--sklearn-color-line);\n",
       "  margin: 0 0.4em 0.5em 0.4em;\n",
       "  box-sizing: border-box;\n",
       "  padding-bottom: 0.4em;\n",
       "  background-color: var(--sklearn-color-background);\n",
       "}\n",
       "\n",
       "#sk-container-id-1 div.sk-container {\n",
       "  /* jupyter's `normalize.less` sets `[hidden] { display: none; }`\n",
       "     but bootstrap.min.css set `[hidden] { display: none !important; }`\n",
       "     so we also need the `!important` here to be able to override the\n",
       "     default hidden behavior on the sphinx rendered scikit-learn.org.\n",
       "     See: https://github.com/scikit-learn/scikit-learn/issues/21755 */\n",
       "  display: inline-block !important;\n",
       "  position: relative;\n",
       "}\n",
       "\n",
       "#sk-container-id-1 div.sk-text-repr-fallback {\n",
       "  display: none;\n",
       "}\n",
       "\n",
       "div.sk-parallel-item,\n",
       "div.sk-serial,\n",
       "div.sk-item {\n",
       "  /* draw centered vertical line to link estimators */\n",
       "  background-image: linear-gradient(var(--sklearn-color-text-on-default-background), var(--sklearn-color-text-on-default-background));\n",
       "  background-size: 2px 100%;\n",
       "  background-repeat: no-repeat;\n",
       "  background-position: center center;\n",
       "}\n",
       "\n",
       "/* Parallel-specific style estimator block */\n",
       "\n",
       "#sk-container-id-1 div.sk-parallel-item::after {\n",
       "  content: \"\";\n",
       "  width: 100%;\n",
       "  border-bottom: 2px solid var(--sklearn-color-text-on-default-background);\n",
       "  flex-grow: 1;\n",
       "}\n",
       "\n",
       "#sk-container-id-1 div.sk-parallel {\n",
       "  display: flex;\n",
       "  align-items: stretch;\n",
       "  justify-content: center;\n",
       "  background-color: var(--sklearn-color-background);\n",
       "  position: relative;\n",
       "}\n",
       "\n",
       "#sk-container-id-1 div.sk-parallel-item {\n",
       "  display: flex;\n",
       "  flex-direction: column;\n",
       "}\n",
       "\n",
       "#sk-container-id-1 div.sk-parallel-item:first-child::after {\n",
       "  align-self: flex-end;\n",
       "  width: 50%;\n",
       "}\n",
       "\n",
       "#sk-container-id-1 div.sk-parallel-item:last-child::after {\n",
       "  align-self: flex-start;\n",
       "  width: 50%;\n",
       "}\n",
       "\n",
       "#sk-container-id-1 div.sk-parallel-item:only-child::after {\n",
       "  width: 0;\n",
       "}\n",
       "\n",
       "/* Serial-specific style estimator block */\n",
       "\n",
       "#sk-container-id-1 div.sk-serial {\n",
       "  display: flex;\n",
       "  flex-direction: column;\n",
       "  align-items: center;\n",
       "  background-color: var(--sklearn-color-background);\n",
       "  padding-right: 1em;\n",
       "  padding-left: 1em;\n",
       "}\n",
       "\n",
       "\n",
       "/* Toggleable style: style used for estimator/Pipeline/ColumnTransformer box that is\n",
       "clickable and can be expanded/collapsed.\n",
       "- Pipeline and ColumnTransformer use this feature and define the default style\n",
       "- Estimators will overwrite some part of the style using the `sk-estimator` class\n",
       "*/\n",
       "\n",
       "/* Pipeline and ColumnTransformer style (default) */\n",
       "\n",
       "#sk-container-id-1 div.sk-toggleable {\n",
       "  /* Default theme specific background. It is overwritten whether we have a\n",
       "  specific estimator or a Pipeline/ColumnTransformer */\n",
       "  background-color: var(--sklearn-color-background);\n",
       "}\n",
       "\n",
       "/* Toggleable label */\n",
       "#sk-container-id-1 label.sk-toggleable__label {\n",
       "  cursor: pointer;\n",
       "  display: block;\n",
       "  width: 100%;\n",
       "  margin-bottom: 0;\n",
       "  padding: 0.5em;\n",
       "  box-sizing: border-box;\n",
       "  text-align: center;\n",
       "}\n",
       "\n",
       "#sk-container-id-1 label.sk-toggleable__label-arrow:before {\n",
       "  /* Arrow on the left of the label */\n",
       "  content: \"▸\";\n",
       "  float: left;\n",
       "  margin-right: 0.25em;\n",
       "  color: var(--sklearn-color-icon);\n",
       "}\n",
       "\n",
       "#sk-container-id-1 label.sk-toggleable__label-arrow:hover:before {\n",
       "  color: var(--sklearn-color-text);\n",
       "}\n",
       "\n",
       "/* Toggleable content - dropdown */\n",
       "\n",
       "#sk-container-id-1 div.sk-toggleable__content {\n",
       "  max-height: 0;\n",
       "  max-width: 0;\n",
       "  overflow: hidden;\n",
       "  text-align: left;\n",
       "  /* unfitted */\n",
       "  background-color: var(--sklearn-color-unfitted-level-0);\n",
       "}\n",
       "\n",
       "#sk-container-id-1 div.sk-toggleable__content.fitted {\n",
       "  /* fitted */\n",
       "  background-color: var(--sklearn-color-fitted-level-0);\n",
       "}\n",
       "\n",
       "#sk-container-id-1 div.sk-toggleable__content pre {\n",
       "  margin: 0.2em;\n",
       "  border-radius: 0.25em;\n",
       "  color: var(--sklearn-color-text);\n",
       "  /* unfitted */\n",
       "  background-color: var(--sklearn-color-unfitted-level-0);\n",
       "}\n",
       "\n",
       "#sk-container-id-1 div.sk-toggleable__content.fitted pre {\n",
       "  /* unfitted */\n",
       "  background-color: var(--sklearn-color-fitted-level-0);\n",
       "}\n",
       "\n",
       "#sk-container-id-1 input.sk-toggleable__control:checked~div.sk-toggleable__content {\n",
       "  /* Expand drop-down */\n",
       "  max-height: 200px;\n",
       "  max-width: 100%;\n",
       "  overflow: auto;\n",
       "}\n",
       "\n",
       "#sk-container-id-1 input.sk-toggleable__control:checked~label.sk-toggleable__label-arrow:before {\n",
       "  content: \"▾\";\n",
       "}\n",
       "\n",
       "/* Pipeline/ColumnTransformer-specific style */\n",
       "\n",
       "#sk-container-id-1 div.sk-label input.sk-toggleable__control:checked~label.sk-toggleable__label {\n",
       "  color: var(--sklearn-color-text);\n",
       "  background-color: var(--sklearn-color-unfitted-level-2);\n",
       "}\n",
       "\n",
       "#sk-container-id-1 div.sk-label.fitted input.sk-toggleable__control:checked~label.sk-toggleable__label {\n",
       "  background-color: var(--sklearn-color-fitted-level-2);\n",
       "}\n",
       "\n",
       "/* Estimator-specific style */\n",
       "\n",
       "/* Colorize estimator box */\n",
       "#sk-container-id-1 div.sk-estimator input.sk-toggleable__control:checked~label.sk-toggleable__label {\n",
       "  /* unfitted */\n",
       "  background-color: var(--sklearn-color-unfitted-level-2);\n",
       "}\n",
       "\n",
       "#sk-container-id-1 div.sk-estimator.fitted input.sk-toggleable__control:checked~label.sk-toggleable__label {\n",
       "  /* fitted */\n",
       "  background-color: var(--sklearn-color-fitted-level-2);\n",
       "}\n",
       "\n",
       "#sk-container-id-1 div.sk-label label.sk-toggleable__label,\n",
       "#sk-container-id-1 div.sk-label label {\n",
       "  /* The background is the default theme color */\n",
       "  color: var(--sklearn-color-text-on-default-background);\n",
       "}\n",
       "\n",
       "/* On hover, darken the color of the background */\n",
       "#sk-container-id-1 div.sk-label:hover label.sk-toggleable__label {\n",
       "  color: var(--sklearn-color-text);\n",
       "  background-color: var(--sklearn-color-unfitted-level-2);\n",
       "}\n",
       "\n",
       "/* Label box, darken color on hover, fitted */\n",
       "#sk-container-id-1 div.sk-label.fitted:hover label.sk-toggleable__label.fitted {\n",
       "  color: var(--sklearn-color-text);\n",
       "  background-color: var(--sklearn-color-fitted-level-2);\n",
       "}\n",
       "\n",
       "/* Estimator label */\n",
       "\n",
       "#sk-container-id-1 div.sk-label label {\n",
       "  font-family: monospace;\n",
       "  font-weight: bold;\n",
       "  display: inline-block;\n",
       "  line-height: 1.2em;\n",
       "}\n",
       "\n",
       "#sk-container-id-1 div.sk-label-container {\n",
       "  text-align: center;\n",
       "}\n",
       "\n",
       "/* Estimator-specific */\n",
       "#sk-container-id-1 div.sk-estimator {\n",
       "  font-family: monospace;\n",
       "  border: 1px dotted var(--sklearn-color-border-box);\n",
       "  border-radius: 0.25em;\n",
       "  box-sizing: border-box;\n",
       "  margin-bottom: 0.5em;\n",
       "  /* unfitted */\n",
       "  background-color: var(--sklearn-color-unfitted-level-0);\n",
       "}\n",
       "\n",
       "#sk-container-id-1 div.sk-estimator.fitted {\n",
       "  /* fitted */\n",
       "  background-color: var(--sklearn-color-fitted-level-0);\n",
       "}\n",
       "\n",
       "/* on hover */\n",
       "#sk-container-id-1 div.sk-estimator:hover {\n",
       "  /* unfitted */\n",
       "  background-color: var(--sklearn-color-unfitted-level-2);\n",
       "}\n",
       "\n",
       "#sk-container-id-1 div.sk-estimator.fitted:hover {\n",
       "  /* fitted */\n",
       "  background-color: var(--sklearn-color-fitted-level-2);\n",
       "}\n",
       "\n",
       "/* Specification for estimator info (e.g. \"i\" and \"?\") */\n",
       "\n",
       "/* Common style for \"i\" and \"?\" */\n",
       "\n",
       ".sk-estimator-doc-link,\n",
       "a:link.sk-estimator-doc-link,\n",
       "a:visited.sk-estimator-doc-link {\n",
       "  float: right;\n",
       "  font-size: smaller;\n",
       "  line-height: 1em;\n",
       "  font-family: monospace;\n",
       "  background-color: var(--sklearn-color-background);\n",
       "  border-radius: 1em;\n",
       "  height: 1em;\n",
       "  width: 1em;\n",
       "  text-decoration: none !important;\n",
       "  margin-left: 1ex;\n",
       "  /* unfitted */\n",
       "  border: var(--sklearn-color-unfitted-level-1) 1pt solid;\n",
       "  color: var(--sklearn-color-unfitted-level-1);\n",
       "}\n",
       "\n",
       ".sk-estimator-doc-link.fitted,\n",
       "a:link.sk-estimator-doc-link.fitted,\n",
       "a:visited.sk-estimator-doc-link.fitted {\n",
       "  /* fitted */\n",
       "  border: var(--sklearn-color-fitted-level-1) 1pt solid;\n",
       "  color: var(--sklearn-color-fitted-level-1);\n",
       "}\n",
       "\n",
       "/* On hover */\n",
       "div.sk-estimator:hover .sk-estimator-doc-link:hover,\n",
       ".sk-estimator-doc-link:hover,\n",
       "div.sk-label-container:hover .sk-estimator-doc-link:hover,\n",
       ".sk-estimator-doc-link:hover {\n",
       "  /* unfitted */\n",
       "  background-color: var(--sklearn-color-unfitted-level-3);\n",
       "  color: var(--sklearn-color-background);\n",
       "  text-decoration: none;\n",
       "}\n",
       "\n",
       "div.sk-estimator.fitted:hover .sk-estimator-doc-link.fitted:hover,\n",
       ".sk-estimator-doc-link.fitted:hover,\n",
       "div.sk-label-container:hover .sk-estimator-doc-link.fitted:hover,\n",
       ".sk-estimator-doc-link.fitted:hover {\n",
       "  /* fitted */\n",
       "  background-color: var(--sklearn-color-fitted-level-3);\n",
       "  color: var(--sklearn-color-background);\n",
       "  text-decoration: none;\n",
       "}\n",
       "\n",
       "/* Span, style for the box shown on hovering the info icon */\n",
       ".sk-estimator-doc-link span {\n",
       "  display: none;\n",
       "  z-index: 9999;\n",
       "  position: relative;\n",
       "  font-weight: normal;\n",
       "  right: .2ex;\n",
       "  padding: .5ex;\n",
       "  margin: .5ex;\n",
       "  width: min-content;\n",
       "  min-width: 20ex;\n",
       "  max-width: 50ex;\n",
       "  color: var(--sklearn-color-text);\n",
       "  box-shadow: 2pt 2pt 4pt #999;\n",
       "  /* unfitted */\n",
       "  background: var(--sklearn-color-unfitted-level-0);\n",
       "  border: .5pt solid var(--sklearn-color-unfitted-level-3);\n",
       "}\n",
       "\n",
       ".sk-estimator-doc-link.fitted span {\n",
       "  /* fitted */\n",
       "  background: var(--sklearn-color-fitted-level-0);\n",
       "  border: var(--sklearn-color-fitted-level-3);\n",
       "}\n",
       "\n",
       ".sk-estimator-doc-link:hover span {\n",
       "  display: block;\n",
       "}\n",
       "\n",
       "/* \"?\"-specific style due to the `<a>` HTML tag */\n",
       "\n",
       "#sk-container-id-1 a.estimator_doc_link {\n",
       "  float: right;\n",
       "  font-size: 1rem;\n",
       "  line-height: 1em;\n",
       "  font-family: monospace;\n",
       "  background-color: var(--sklearn-color-background);\n",
       "  border-radius: 1rem;\n",
       "  height: 1rem;\n",
       "  width: 1rem;\n",
       "  text-decoration: none;\n",
       "  /* unfitted */\n",
       "  color: var(--sklearn-color-unfitted-level-1);\n",
       "  border: var(--sklearn-color-unfitted-level-1) 1pt solid;\n",
       "}\n",
       "\n",
       "#sk-container-id-1 a.estimator_doc_link.fitted {\n",
       "  /* fitted */\n",
       "  border: var(--sklearn-color-fitted-level-1) 1pt solid;\n",
       "  color: var(--sklearn-color-fitted-level-1);\n",
       "}\n",
       "\n",
       "/* On hover */\n",
       "#sk-container-id-1 a.estimator_doc_link:hover {\n",
       "  /* unfitted */\n",
       "  background-color: var(--sklearn-color-unfitted-level-3);\n",
       "  color: var(--sklearn-color-background);\n",
       "  text-decoration: none;\n",
       "}\n",
       "\n",
       "#sk-container-id-1 a.estimator_doc_link.fitted:hover {\n",
       "  /* fitted */\n",
       "  background-color: var(--sklearn-color-fitted-level-3);\n",
       "}\n",
       "</style><div id=\"sk-container-id-1\" class=\"sk-top-container\"><div class=\"sk-text-repr-fallback\"><pre>DBSCAN(eps=0.4, min_samples=10)</pre><b>In a Jupyter environment, please rerun this cell to show the HTML representation or trust the notebook. <br />On GitHub, the HTML representation is unable to render, please try loading this page with nbviewer.org.</b></div><div class=\"sk-container\" hidden><div class=\"sk-item\"><div class=\"sk-estimator fitted sk-toggleable\"><input class=\"sk-toggleable__control sk-hidden--visually\" id=\"sk-estimator-id-1\" type=\"checkbox\" checked><label for=\"sk-estimator-id-1\" class=\"sk-toggleable__label fitted sk-toggleable__label-arrow fitted\">&nbsp;&nbsp;DBSCAN<a class=\"sk-estimator-doc-link fitted\" rel=\"noreferrer\" target=\"_blank\" href=\"https://scikit-learn.org/1.4/modules/generated/sklearn.cluster.DBSCAN.html\">?<span>Documentation for DBSCAN</span></a><span class=\"sk-estimator-doc-link fitted\">i<span>Fitted</span></span></label><div class=\"sk-toggleable__content fitted\"><pre>DBSCAN(eps=0.4, min_samples=10)</pre></div> </div></div></div></div>"
      ],
      "text/plain": [
       "DBSCAN(eps=0.4, min_samples=10)"
      ]
     },
     "execution_count": 36,
     "metadata": {},
     "output_type": "execute_result"
    }
   ],
   "source": [
    "dbscan=DBSCAN(eps=0.4,min_samples=10)\n",
    "dbscan.fit(X_train_scaled)"
   ]
  },
  {
   "cell_type": "code",
   "execution_count": 37,
   "id": "6hUz71yygiiH",
   "metadata": {
    "colab": {
     "base_uri": "https://localhost:8080/"
    },
    "executionInfo": {
     "elapsed": 426,
     "status": "ok",
     "timestamp": 1668250134934,
     "user": {
      "displayName": "Javier Antich",
      "userId": "07400792213044689039"
     },
     "user_tz": -60
    },
    "id": "6hUz71yygiiH",
    "outputId": "6b4dbc7d-f9fd-432f-d660-138620b1ac5a"
   },
   "outputs": [
    {
     "data": {
      "text/plain": [
       "array([ 0,  0,  0,  0, -1, -1,  0,  0,  0,  0,  0,  0,  0,  0,  0,  0,  0,\n",
       "        0,  0,  0,  0,  0,  0,  0,  0,  0,  0,  0,  0,  0,  0,  0,  0,  0,\n",
       "        0,  0,  0,  0,  0,  0,  0,  0,  0,  0,  0,  0,  0,  0,  1,  1,  1,\n",
       "        1,  1,  1,  1,  1,  1,  1,  1,  1,  1,  1,  1,  1,  1,  1,  1,  1,\n",
       "        0,  0,  1,  1,  1,  1,  1,  1,  1,  1,  1,  1,  1,  1,  1,  1,  1,\n",
       "        1,  1,  1,  1,  1,  0,  0,  1,  1,  1,  1,  1,  1,  1,  1,  1,  1,\n",
       "        1,  1,  1,  1,  1,  1,  1,  1,  1,  1,  0,  0,  2,  2,  2,  2,  2,\n",
       "        2,  2,  2,  2,  2,  2,  2,  2,  2,  2,  2,  2,  2,  2,  2,  0,  0,\n",
       "        2,  2,  2,  2,  2,  2,  2,  2,  2,  2,  2,  2,  2,  2,  2,  2,  2,\n",
       "        2,  2,  2,  0,  0,  2,  2,  2,  2,  2,  2,  2,  2,  2,  2,  2,  2,\n",
       "        2,  2,  2,  2,  2,  2,  2,  2,  0,  0,  2,  2,  2,  2,  2,  2,  2,\n",
       "        2,  2,  2,  2,  2,  2,  2,  2,  2, -1, -1, -1, -1])"
      ]
     },
     "execution_count": 37,
     "metadata": {},
     "output_type": "execute_result"
    }
   ],
   "source": [
    "dbscan.labels_"
   ]
  },
  {
   "cell_type": "code",
   "execution_count": 38,
   "id": "YMexK5dpfsoH",
   "metadata": {
    "colab": {
     "base_uri": "https://localhost:8080/",
     "height": 536
    },
    "executionInfo": {
     "elapsed": 864,
     "status": "ok",
     "timestamp": 1671111630080,
     "user": {
      "displayName": "Javier Antich",
      "userId": "07400792213044689039"
     },
     "user_tz": -60
    },
    "id": "YMexK5dpfsoH",
    "outputId": "2cb5f1a5-f894-476a-d355-4d5439689065"
   },
   "outputs": [
    {
     "data": {
      "text/plain": [
       "Text(0.5, 1.0, 'CPU and memory utilization outliers with DBSCAN in SD-WAN devices')"
      ]
     },
     "execution_count": 38,
     "metadata": {},
     "output_type": "execute_result"
    },
    {
     "data": {
      "image/png": "[encoded data removed]",
      "text/plain": [
       "<Figure size 864x576 with 1 Axes>"
      ]
     },
     "metadata": {},
     "output_type": "display_data"
    }
   ],
   "source": [
    "sns.set(rc={'figure.figsize':(12,8)})\n",
    "sns.scatterplot(data=new_metric_df,x='cpu_utilization', y='mem_utilization',hue=dbscan.labels_)\n",
    "plt.title('CPU and memory utilization outliers with DBSCAN in SD-WAN devices')"
   ]
  },
  {
   "cell_type": "code",
   "execution_count": 39,
   "id": "gDjOE8LjkF7Z",
   "metadata": {
    "id": "gDjOE8LjkF7Z"
   },
   "outputs": [],
   "source": [
    "dbscan_outliers = np.zeros(X_train.shape[0])\n",
    "dbscan_outliers[dbscan.labels_<0]=1"
   ]
  },
  {
   "cell_type": "code",
   "execution_count": 40,
   "id": "1R8zpCfBkgO5",
   "metadata": {
    "id": "1R8zpCfBkgO5"
   },
   "outputs": [],
   "source": [
    "new_metric_df['outlier_dbscan']=dbscan_outliers"
   ]
  },
  {
   "cell_type": "code",
   "execution_count": 41,
   "id": "BtFijr4Lds1x",
   "metadata": {
    "colab": {
     "base_uri": "https://localhost:8080/",
     "height": 455
    },
    "executionInfo": {
     "elapsed": 465,
     "status": "ok",
     "timestamp": 1668250265295,
     "user": {
      "displayName": "Javier Antich",
      "userId": "07400792213044689039"
     },
     "user_tz": -60
    },
    "id": "BtFijr4Lds1x",
    "outputId": "a05a6ab9-fafc-4318-a834-1337bc929fda"
   },
   "outputs": [
    {
     "data": {
      "text/html": [
       "<div>\n",
       "<style scoped>\n",
       "    .dataframe tbody tr th:only-of-type {\n",
       "        vertical-align: middle;\n",
       "    }\n",
       "\n",
       "    .dataframe tbody tr th {\n",
       "        vertical-align: top;\n",
       "    }\n",
       "\n",
       "    .dataframe thead th {\n",
       "        text-align: right;\n",
       "    }\n",
       "</style>\n",
       "<table border=\"1\" class=\"dataframe\">\n",
       "  <thead>\n",
       "    <tr style=\"text-align: right;\">\n",
       "      <th></th>\n",
       "      <th>cpu_utilization</th>\n",
       "      <th>mem_utilization</th>\n",
       "      <th>outlier</th>\n",
       "      <th>outlier_isoforest</th>\n",
       "      <th>outlier_dbscan</th>\n",
       "    </tr>\n",
       "    <tr>\n",
       "      <th>device_name</th>\n",
       "      <th></th>\n",
       "      <th></th>\n",
       "      <th></th>\n",
       "      <th></th>\n",
       "      <th></th>\n",
       "    </tr>\n",
       "  </thead>\n",
       "  <tbody>\n",
       "    <tr>\n",
       "      <th>E-1-1</th>\n",
       "      <td>34</td>\n",
       "      <td>32.0</td>\n",
       "      <td>0</td>\n",
       "      <td>1</td>\n",
       "      <td>0.0</td>\n",
       "    </tr>\n",
       "    <tr>\n",
       "      <th>E-1-2</th>\n",
       "      <td>34</td>\n",
       "      <td>34.0</td>\n",
       "      <td>0</td>\n",
       "      <td>1</td>\n",
       "      <td>0.0</td>\n",
       "    </tr>\n",
       "    <tr>\n",
       "      <th>E-10-1</th>\n",
       "      <td>32</td>\n",
       "      <td>30.0</td>\n",
       "      <td>0</td>\n",
       "      <td>1</td>\n",
       "      <td>0.0</td>\n",
       "    </tr>\n",
       "    <tr>\n",
       "      <th>E-10-2</th>\n",
       "      <td>34</td>\n",
       "      <td>33.0</td>\n",
       "      <td>0</td>\n",
       "      <td>1</td>\n",
       "      <td>0.0</td>\n",
       "    </tr>\n",
       "    <tr>\n",
       "      <th>E-100-1</th>\n",
       "      <td>32</td>\n",
       "      <td>76.0</td>\n",
       "      <td>1</td>\n",
       "      <td>0</td>\n",
       "      <td>1.0</td>\n",
       "    </tr>\n",
       "    <tr>\n",
       "      <th>...</th>\n",
       "      <td>...</td>\n",
       "      <td>...</td>\n",
       "      <td>...</td>\n",
       "      <td>...</td>\n",
       "      <td>...</td>\n",
       "    </tr>\n",
       "    <tr>\n",
       "      <th>E-97-2</th>\n",
       "      <td>80</td>\n",
       "      <td>34.0</td>\n",
       "      <td>0</td>\n",
       "      <td>1</td>\n",
       "      <td>0.0</td>\n",
       "    </tr>\n",
       "    <tr>\n",
       "      <th>E-98-1</th>\n",
       "      <td>11</td>\n",
       "      <td>33.0</td>\n",
       "      <td>1</td>\n",
       "      <td>0</td>\n",
       "      <td>1.0</td>\n",
       "    </tr>\n",
       "    <tr>\n",
       "      <th>E-98-2</th>\n",
       "      <td>10</td>\n",
       "      <td>34.0</td>\n",
       "      <td>1</td>\n",
       "      <td>0</td>\n",
       "      <td>1.0</td>\n",
       "    </tr>\n",
       "    <tr>\n",
       "      <th>E-99-1</th>\n",
       "      <td>11</td>\n",
       "      <td>30.0</td>\n",
       "      <td>1</td>\n",
       "      <td>0</td>\n",
       "      <td>1.0</td>\n",
       "    </tr>\n",
       "    <tr>\n",
       "      <th>E-99-2</th>\n",
       "      <td>10</td>\n",
       "      <td>33.0</td>\n",
       "      <td>1</td>\n",
       "      <td>0</td>\n",
       "      <td>1.0</td>\n",
       "    </tr>\n",
       "  </tbody>\n",
       "</table>\n",
       "<p>200 rows × 5 columns</p>\n",
       "</div>"
      ],
      "text/plain": [
       "             cpu_utilization  mem_utilization  outlier  outlier_isoforest  \\\n",
       "device_name                                                                 \n",
       "E-1-1                     34             32.0        0                  1   \n",
       "E-1-2                     34             34.0        0                  1   \n",
       "E-10-1                    32             30.0        0                  1   \n",
       "E-10-2                    34             33.0        0                  1   \n",
       "E-100-1                   32             76.0        1                  0   \n",
       "...                      ...              ...      ...                ...   \n",
       "E-97-2                    80             34.0        0                  1   \n",
       "E-98-1                    11             33.0        1                  0   \n",
       "E-98-2                    10             34.0        1                  0   \n",
       "E-99-1                    11             30.0        1                  0   \n",
       "E-99-2                    10             33.0        1                  0   \n",
       "\n",
       "             outlier_dbscan  \n",
       "device_name                  \n",
       "E-1-1                   0.0  \n",
       "E-1-2                   0.0  \n",
       "E-10-1                  0.0  \n",
       "E-10-2                  0.0  \n",
       "E-100-1                 1.0  \n",
       "...                     ...  \n",
       "E-97-2                  0.0  \n",
       "E-98-1                  1.0  \n",
       "E-98-2                  1.0  \n",
       "E-99-1                  1.0  \n",
       "E-99-2                  1.0  \n",
       "\n",
       "[200 rows x 5 columns]"
      ]
     },
     "execution_count": 41,
     "metadata": {},
     "output_type": "execute_result"
    }
   ],
   "source": [
    "new_metric_df"
   ]
  },
  {
   "cell_type": "code",
   "execution_count": 42,
   "id": "yXHZANW7kp4f",
   "metadata": {
    "colab": {
     "base_uri": "https://localhost:8080/",
     "height": 535
    },
    "executionInfo": {
     "elapsed": 2519,
     "status": "ok",
     "timestamp": 1668250284752,
     "user": {
      "displayName": "Javier Antich",
      "userId": "07400792213044689039"
     },
     "user_tz": -60
    },
    "id": "yXHZANW7kp4f",
    "outputId": "482dd3f6-4e65-43e5-f42d-20bd2ceac582"
   },
   "outputs": [
    {
     "data": {
      "text/plain": [
       "Text(0.5, 1.0, 'CPU and memory utilization outliers detected by DBSCAN in SD-WAN devices')"
      ]
     },
     "execution_count": 42,
     "metadata": {},
     "output_type": "execute_result"
    },
    {
     "data": {
      "image/png": "[encoded data removed]",
      "text/plain": [
       "<Figure size 864x576 with 1 Axes>"
      ]
     },
     "metadata": {},
     "output_type": "display_data"
    }
   ],
   "source": [
    "sns.set(rc={'figure.figsize':(12,8)})\n",
    "sns.scatterplot(data=new_metric_df,x='cpu_utilization', y='mem_utilization',hue='outlier_dbscan')\n",
    "plt.title('CPU and memory utilization outliers detected by DBSCAN in SD-WAN devices')"
   ]
  },
  {
   "cell_type": "code",
   "execution_count": null,
   "id": "4e217090",
   "metadata": {},
   "outputs": [],
   "source": []
  }
 ],
 "metadata": {
  "colab": {
   "provenance": [
    {
     "file_id": "1NXeAHZ_8xd0_KopyXaAnkpQMi0Sx54Qs",
     "timestamp": 1668179877689
    },
    {
     "file_id": "17b-86MhtHHRjH5dny85MflJdlgFhDkG_",
     "timestamp": 1668104079000
    }
   ]
  },
  "kernelspec": {
   "display_name": "Python 3 (ipykernel)",
   "language": "python",
   "name": "python3"
  },
  "language_info": {
   "codemirror_mode": {
    "name": "ipython",
    "version": 3
   },
   "file_extension": ".py",
   "mimetype": "text/x-python",
   "name": "python",
   "nbconvert_exporter": "python",
   "pygments_lexer": "ipython3",
   "version": "3.10.12"
  }
 },
 "nbformat": 4,
 "nbformat_minor": 5
}
