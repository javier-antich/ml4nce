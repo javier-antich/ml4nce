{
 "cells": [
  {
   "cell_type": "markdown",
   "id": "D34dnTQI0bkN",
   "metadata": {
    "id": "D34dnTQI0bkN"
   },
   "source": [
    "# Extra libraries to install"
   ]
  },
  {
   "cell_type": "code",
   "execution_count": 1,
   "id": "1c0d1c1d",
   "metadata": {
    "colab": {
     "base_uri": "https://localhost:8080/"
    },
    "executionInfo": {
     "elapsed": 14870,
     "status": "ok",
     "timestamp": 1671093749004,
     "user": {
      "displayName": "Javier Antich",
      "userId": "07400792213044689039"
     },
     "user_tz": -60
    },
    "id": "1c0d1c1d",
    "outputId": "209539d5-17f2-4ace-c331-ed3bb6c14581"
   },
   "outputs": [
    {
     "name": "stdout",
     "output_type": "stream",
     "text": [
      "Defaulting to user installation because normal site-packages is not writeable\n",
      "Requirement already satisfied: pyod in /home/gpaasch/.local/lib/python3.10/site-packages (1.1.3)\n",
      "Requirement already satisfied: numba>=0.51 in /home/gpaasch/.local/lib/python3.10/site-packages (from pyod) (0.59.1)\n",
      "Requirement already satisfied: numpy>=1.19 in /home/gpaasch/.local/lib/python3.10/site-packages (from pyod) (1.24.3)\n",
      "Requirement already satisfied: six in /usr/lib/python3/dist-packages (from pyod) (1.16.0)\n",
      "Requirement already satisfied: scikit-learn>=0.22.0 in /home/gpaasch/.local/lib/python3.10/site-packages (from pyod) (1.4.2)\n",
      "Requirement already satisfied: scipy>=1.5.1 in /usr/lib/python3/dist-packages (from pyod) (1.8.0)\n",
      "Requirement already satisfied: joblib in /home/gpaasch/.local/lib/python3.10/site-packages (from pyod) (1.4.2)\n",
      "Requirement already satisfied: matplotlib in /usr/lib/python3/dist-packages (from pyod) (3.5.1)\n",
      "Requirement already satisfied: llvmlite<0.43,>=0.42.0dev0 in /home/gpaasch/.local/lib/python3.10/site-packages (from numba>=0.51->pyod) (0.42.0)\n",
      "Requirement already satisfied: threadpoolctl>=2.0.0 in /home/gpaasch/.local/lib/python3.10/site-packages (from scikit-learn>=0.22.0->pyod) (3.5.0)\n",
      "Note: you may need to restart the kernel to use updated packages.\n"
     ]
    }
   ],
   "source": [
    "%pip install pyod"
   ]
  },
  {
   "cell_type": "markdown",
   "id": "XkxyH7oW0gGU",
   "metadata": {
    "id": "XkxyH7oW0gGU"
   },
   "source": [
    "# Drive connection and file paths definition"
   ]
  },
  {
   "cell_type": "code",
   "execution_count": 2,
   "id": "tRFF14OYh2Ws",
   "metadata": {
    "id": "tRFF14OYh2Ws"
   },
   "outputs": [],
   "source": [
    "import sys\n",
    "sys.path.insert(0, '/home/gpaasch/ml4nce')\n",
    "path_files ='/home/gpaasch/ml4nce/UC2/'"
   ]
  },
  {
   "cell_type": "markdown",
   "id": "ljh07QCP0mmm",
   "metadata": {
    "id": "ljh07QCP0mmm"
   },
   "source": [
    "# Import libraries"
   ]
  },
  {
   "cell_type": "code",
   "execution_count": 3,
   "id": "5bcc0754",
   "metadata": {
    "id": "5bcc0754"
   },
   "outputs": [
    {
     "name": "stderr",
     "output_type": "stream",
     "text": [
      "2024-05-24 19:47:19.687098: I tensorflow/core/platform/cpu_feature_guard.cc:210] This TensorFlow binary is optimized to use available CPU instructions in performance-critical operations.\n",
      "To enable the following instructions: AVX2 FMA, in other operations, rebuild TensorFlow with the appropriate compiler flags.\n",
      "2024-05-24 19:47:20.567277: W tensorflow/compiler/tf2tensorrt/utils/py_utils.cc:38] TF-TRT Warning: Could not find TensorRT\n"
     ]
    }
   ],
   "source": [
    "from prophet import Prophet\n",
    "import pandas as pd\n",
    "import numpy as np\n",
    "import matplotlib.pyplot as plt\n",
    "import seaborn as sns\n",
    "from sklearn.metrics import mean_absolute_error,mean_absolute_percentage_error\n",
    "import time\n",
    "from calendar import timegm, monthrange\n",
    "from datetime import datetime, timedelta\n",
    "import math\n",
    "from SANDS import sands\n",
    "from sklearn.preprocessing import MinMaxScaler, StandardScaler\n",
    "import tensorflow as tf\n",
    "from tensorflow import keras\n",
    "from os import listdir\n",
    "from os.path import isfile, join\n",
    "from tensorflow.keras import layers\n",
    "from tensorflow.keras.layers import Embedding, LSTM, Dense, Bidirectional\n",
    "from tensorflow.keras.preprocessing.text import Tokenizer\n",
    "from tensorflow.keras.models import Sequential\n",
    "from tensorflow.keras.optimizers import Adam\n",
    "from tensorflow.keras.callbacks import ModelCheckpoint\n",
    "from tensorflow.keras.metrics import CategoricalAccuracy,Accuracy,BinaryAccuracy\n",
    "\n",
    "\n",
    "from pyod.models.lof import LOF"
   ]
  },
  {
   "cell_type": "markdown",
   "id": "0cVGFPXS00ew",
   "metadata": {
    "id": "0cVGFPXS00ew"
   },
   "source": [
    "# Data Generation"
   ]
  },
  {
   "cell_type": "markdown",
   "id": "bX2TzWeL05CD",
   "metadata": {
    "id": "bX2TzWeL05CD"
   },
   "source": [
    "IF you want to generate new data run the next four cells, otherwise skip them and load the saved file"
   ]
  },
  {
   "cell_type": "code",
   "execution_count": 4,
   "id": "49f6e483",
   "metadata": {
    "id": "49f6e483"
   },
   "outputs": [],
   "source": [
    "parameters1 = {\n",
    "        'time_delta':5\n",
    "    }"
   ]
  },
  {
   "cell_type": "code",
   "execution_count": 5,
   "id": "iqUSed6pFLiX",
   "metadata": {
    "id": "iqUSed6pFLiX"
   },
   "outputs": [],
   "source": [
    "device_filter = {\n",
    "    'vendor':'Versa'\n",
    "}"
   ]
  },
  {
   "cell_type": "code",
   "execution_count": 6,
   "id": "f79b760e",
   "metadata": {
    "id": "f79b760e"
   },
   "outputs": [],
   "source": [
    "metric_df = sands.generate_device_metric_time_range(datetime.now(),datetime.now()+timedelta(minutes=4),parameters1,\"none\",['mem_utilization'],device_filter)\n"
   ]
  },
  {
   "cell_type": "code",
   "execution_count": 7,
   "id": "Q8KyVu6RJgiJ",
   "metadata": {
    "id": "Q8KyVu6RJgiJ"
   },
   "outputs": [],
   "source": [
    "metric_df.to_csv(join(path_files,'mem_utilization_sdwan_metric.csv'))"
   ]
  },
  {
   "cell_type": "markdown",
   "id": "JabwfEoy1DYH",
   "metadata": {
    "id": "JabwfEoy1DYH"
   },
   "source": [
    "Load the saved dataset:"
   ]
  },
  {
   "cell_type": "code",
   "execution_count": 8,
   "id": "4iu-zhHcJuib",
   "metadata": {
    "id": "4iu-zhHcJuib"
   },
   "outputs": [],
   "source": [
    "metric_df=pd.read_csv(join(path_files,'mem_utilization_sdwan_metric.csv'),index_col=0)"
   ]
  },
  {
   "cell_type": "code",
   "execution_count": 9,
   "id": "819b6b01",
   "metadata": {
    "colab": {
     "base_uri": "https://localhost:8080/",
     "height": 424
    },
    "executionInfo": {
     "elapsed": 351,
     "status": "ok",
     "timestamp": 1671093904113,
     "user": {
      "displayName": "Javier Antich",
      "userId": "07400792213044689039"
     },
     "user_tz": -60
    },
    "id": "819b6b01",
    "outputId": "ccb9684f-c46f-4328-a9d1-19722fb9e127"
   },
   "outputs": [
    {
     "data": {
      "text/html": [
       "<div>\n",
       "<style scoped>\n",
       "    .dataframe tbody tr th:only-of-type {\n",
       "        vertical-align: middle;\n",
       "    }\n",
       "\n",
       "    .dataframe tbody tr th {\n",
       "        vertical-align: top;\n",
       "    }\n",
       "\n",
       "    .dataframe thead th {\n",
       "        text-align: right;\n",
       "    }\n",
       "</style>\n",
       "<table border=\"1\" class=\"dataframe\">\n",
       "  <thead>\n",
       "    <tr style=\"text-align: right;\">\n",
       "      <th></th>\n",
       "      <th>timestamp</th>\n",
       "      <th>mem_utilization</th>\n",
       "      <th>device_name</th>\n",
       "      <th>vendor</th>\n",
       "      <th>model</th>\n",
       "      <th>os</th>\n",
       "      <th>version</th>\n",
       "      <th>hw_revision</th>\n",
       "      <th>role</th>\n",
       "      <th>ip_address</th>\n",
       "    </tr>\n",
       "  </thead>\n",
       "  <tbody>\n",
       "    <tr>\n",
       "      <th>0</th>\n",
       "      <td>1716580063</td>\n",
       "      <td>34</td>\n",
       "      <td>E-1-1</td>\n",
       "      <td>Versa</td>\n",
       "      <td>versa_1</td>\n",
       "      <td>VOS</td>\n",
       "      <td>21.1.0</td>\n",
       "      <td>hw-versa-0001</td>\n",
       "      <td>vedge_hub</td>\n",
       "      <td>10.3.1.1</td>\n",
       "    </tr>\n",
       "    <tr>\n",
       "      <th>1</th>\n",
       "      <td>1716580063</td>\n",
       "      <td>30</td>\n",
       "      <td>E-1-2</td>\n",
       "      <td>Versa</td>\n",
       "      <td>versa_1</td>\n",
       "      <td>VOS</td>\n",
       "      <td>21.1.0</td>\n",
       "      <td>hw-versa-0001</td>\n",
       "      <td>vedge_hub</td>\n",
       "      <td>10.3.1.2</td>\n",
       "    </tr>\n",
       "    <tr>\n",
       "      <th>2</th>\n",
       "      <td>1716580063</td>\n",
       "      <td>31</td>\n",
       "      <td>E-2-1</td>\n",
       "      <td>Versa</td>\n",
       "      <td>versa_1</td>\n",
       "      <td>VOS</td>\n",
       "      <td>21.1.0</td>\n",
       "      <td>hw-versa-0001</td>\n",
       "      <td>vedge_branch</td>\n",
       "      <td>10.3.2.1</td>\n",
       "    </tr>\n",
       "    <tr>\n",
       "      <th>3</th>\n",
       "      <td>1716580063</td>\n",
       "      <td>33</td>\n",
       "      <td>E-2-2</td>\n",
       "      <td>Versa</td>\n",
       "      <td>versa_1</td>\n",
       "      <td>VOS</td>\n",
       "      <td>21.1.0</td>\n",
       "      <td>hw-versa-0001</td>\n",
       "      <td>vedge_branch</td>\n",
       "      <td>10.3.2.2</td>\n",
       "    </tr>\n",
       "    <tr>\n",
       "      <th>4</th>\n",
       "      <td>1716580063</td>\n",
       "      <td>30</td>\n",
       "      <td>E-3-1</td>\n",
       "      <td>Versa</td>\n",
       "      <td>versa_1</td>\n",
       "      <td>VOS</td>\n",
       "      <td>21.1.0</td>\n",
       "      <td>hw-versa-0001</td>\n",
       "      <td>vedge_branch</td>\n",
       "      <td>10.3.3.1</td>\n",
       "    </tr>\n",
       "    <tr>\n",
       "      <th>...</th>\n",
       "      <td>...</td>\n",
       "      <td>...</td>\n",
       "      <td>...</td>\n",
       "      <td>...</td>\n",
       "      <td>...</td>\n",
       "      <td>...</td>\n",
       "      <td>...</td>\n",
       "      <td>...</td>\n",
       "      <td>...</td>\n",
       "      <td>...</td>\n",
       "    </tr>\n",
       "    <tr>\n",
       "      <th>195</th>\n",
       "      <td>1716580063</td>\n",
       "      <td>34</td>\n",
       "      <td>E-98-2</td>\n",
       "      <td>Versa</td>\n",
       "      <td>versa_2</td>\n",
       "      <td>VOS</td>\n",
       "      <td>21.1.1</td>\n",
       "      <td>hw-versa-0001</td>\n",
       "      <td>vedge_branch</td>\n",
       "      <td>10.3.98.2</td>\n",
       "    </tr>\n",
       "    <tr>\n",
       "      <th>196</th>\n",
       "      <td>1716580063</td>\n",
       "      <td>33</td>\n",
       "      <td>E-99-1</td>\n",
       "      <td>Versa</td>\n",
       "      <td>versa_2</td>\n",
       "      <td>VOS</td>\n",
       "      <td>21.1.1</td>\n",
       "      <td>hw-versa-0001</td>\n",
       "      <td>vedge_branch</td>\n",
       "      <td>10.3.99.1</td>\n",
       "    </tr>\n",
       "    <tr>\n",
       "      <th>197</th>\n",
       "      <td>1716580063</td>\n",
       "      <td>34</td>\n",
       "      <td>E-99-2</td>\n",
       "      <td>Versa</td>\n",
       "      <td>versa_2</td>\n",
       "      <td>VOS</td>\n",
       "      <td>21.1.1</td>\n",
       "      <td>hw-versa-0001</td>\n",
       "      <td>vedge_branch</td>\n",
       "      <td>10.3.99.2</td>\n",
       "    </tr>\n",
       "    <tr>\n",
       "      <th>198</th>\n",
       "      <td>1716580063</td>\n",
       "      <td>77</td>\n",
       "      <td>E-100-1</td>\n",
       "      <td>Versa</td>\n",
       "      <td>versa_2</td>\n",
       "      <td>VOS</td>\n",
       "      <td>21.1.0</td>\n",
       "      <td>hw-versa-0002</td>\n",
       "      <td>vedge_hub</td>\n",
       "      <td>10.3.100.1</td>\n",
       "    </tr>\n",
       "    <tr>\n",
       "      <th>199</th>\n",
       "      <td>1716580063</td>\n",
       "      <td>78</td>\n",
       "      <td>E-100-2</td>\n",
       "      <td>Versa</td>\n",
       "      <td>versa_2</td>\n",
       "      <td>VOS</td>\n",
       "      <td>21.1.0</td>\n",
       "      <td>hw-versa-0002</td>\n",
       "      <td>vedge_hub</td>\n",
       "      <td>10.3.100.2</td>\n",
       "    </tr>\n",
       "  </tbody>\n",
       "</table>\n",
       "<p>200 rows × 10 columns</p>\n",
       "</div>"
      ],
      "text/plain": [
       "      timestamp  mem_utilization device_name vendor    model   os version  \\\n",
       "0    1716580063               34       E-1-1  Versa  versa_1  VOS  21.1.0   \n",
       "1    1716580063               30       E-1-2  Versa  versa_1  VOS  21.1.0   \n",
       "2    1716580063               31       E-2-1  Versa  versa_1  VOS  21.1.0   \n",
       "3    1716580063               33       E-2-2  Versa  versa_1  VOS  21.1.0   \n",
       "4    1716580063               30       E-3-1  Versa  versa_1  VOS  21.1.0   \n",
       "..          ...              ...         ...    ...      ...  ...     ...   \n",
       "195  1716580063               34      E-98-2  Versa  versa_2  VOS  21.1.1   \n",
       "196  1716580063               33      E-99-1  Versa  versa_2  VOS  21.1.1   \n",
       "197  1716580063               34      E-99-2  Versa  versa_2  VOS  21.1.1   \n",
       "198  1716580063               77     E-100-1  Versa  versa_2  VOS  21.1.0   \n",
       "199  1716580063               78     E-100-2  Versa  versa_2  VOS  21.1.0   \n",
       "\n",
       "       hw_revision          role  ip_address  \n",
       "0    hw-versa-0001     vedge_hub    10.3.1.1  \n",
       "1    hw-versa-0001     vedge_hub    10.3.1.2  \n",
       "2    hw-versa-0001  vedge_branch    10.3.2.1  \n",
       "3    hw-versa-0001  vedge_branch    10.3.2.2  \n",
       "4    hw-versa-0001  vedge_branch    10.3.3.1  \n",
       "..             ...           ...         ...  \n",
       "195  hw-versa-0001  vedge_branch   10.3.98.2  \n",
       "196  hw-versa-0001  vedge_branch   10.3.99.1  \n",
       "197  hw-versa-0001  vedge_branch   10.3.99.2  \n",
       "198  hw-versa-0002     vedge_hub  10.3.100.1  \n",
       "199  hw-versa-0002     vedge_hub  10.3.100.2  \n",
       "\n",
       "[200 rows x 10 columns]"
      ]
     },
     "execution_count": 9,
     "metadata": {},
     "output_type": "execute_result"
    }
   ],
   "source": [
    "metric_df"
   ]
  },
  {
   "cell_type": "markdown",
   "id": "4ny0D4TsJy1Z",
   "metadata": {
    "id": "4ny0D4TsJy1Z"
   },
   "source": [
    "timestamp is not relevant in this use case, we will focus on the memory utilization column, and the device_name columns. All other columns will be ignored for the moment."
   ]
  },
  {
   "cell_type": "code",
   "execution_count": 10,
   "id": "mRpBzGbsJ7As",
   "metadata": {
    "colab": {
     "base_uri": "https://localhost:8080/",
     "height": 519
    },
    "executionInfo": {
     "elapsed": 1020,
     "status": "ok",
     "timestamp": 1671093990875,
     "user": {
      "displayName": "Javier Antich",
      "userId": "07400792213044689039"
     },
     "user_tz": -60
    },
    "id": "mRpBzGbsJ7As",
    "outputId": "4cb32e68-302e-4a89-9fcc-f3926400c062"
   },
   "outputs": [
    {
     "data": {
      "text/plain": [
       "<matplotlib.legend.Legend at 0x7f869bd905b0>"
      ]
     },
     "execution_count": 10,
     "metadata": {},
     "output_type": "execute_result"
    },
    {
     "data": {
      "image/png": "[encoded data removed]",
      "text/plain": [
       "<Figure size 864x576 with 1 Axes>"
      ]
     },
     "metadata": {},
     "output_type": "display_data"
    }
   ],
   "source": [
    "sns.set(rc={'figure.figsize':(12,8)})\n",
    "sns.histplot(data=metric_df,x='mem_utilization', bins=50)\n",
    "plt.legend(['Memory utilization in SD-WAN devices'])"
   ]
  },
  {
   "cell_type": "markdown",
   "id": "sc7emUEY1K81",
   "metadata": {
    "id": "sc7emUEY1K81"
   },
   "source": [
    "# Z-score based outlier detection"
   ]
  },
  {
   "cell_type": "code",
   "execution_count": 11,
   "id": "xgAfKt6eVZQ7",
   "metadata": {
    "id": "xgAfKt6eVZQ7"
   },
   "outputs": [],
   "source": [
    "\n",
    "THRESHOLD = 3\n",
    "def identify_outliers(input_data,target_column,threshold = THRESHOLD):\n",
    "  outliers=[]\n",
    "  median=np.median(input_data[target_column])\n",
    "  std=np.std(input_data[target_column])\n",
    "  for i,entry in input_data.iterrows():\n",
    "    zscore=np.abs((entry[target_column]-median)/std)\n",
    "    if zscore > threshold:\n",
    "      outliers.append(i)\n",
    "  return outliers\n"
   ]
  },
  {
   "cell_type": "code",
   "execution_count": 13,
   "id": "RzToxTs3W2cB",
   "metadata": {
    "colab": {
     "base_uri": "https://localhost:8080/"
    },
    "executionInfo": {
     "elapsed": 363,
     "status": "ok",
     "timestamp": 1671093998281,
     "user": {
      "displayName": "Javier Antich",
      "userId": "07400792213044689039"
     },
     "user_tz": -60
    },
    "id": "RzToxTs3W2cB",
    "outputId": "1c3653d2-0f1e-48e0-fb86-d699af5ffbbd"
   },
   "outputs": [
    {
     "name": "stdout",
     "output_type": "stream",
     "text": [
      "Outlier list:\n",
      "    device_name  mem_utilization\n",
      "198     E-100-1               77\n",
      "199     E-100-2               78\n"
     ]
    }
   ],
   "source": [
    "outlier_list = identify_outliers(metric_df,'mem_utilization',THRESHOLD)\n",
    "print('Outlier list:')\n",
    "print(metric_df.loc[outlier_list,['device_name','mem_utilization']])"
   ]
  },
  {
   "cell_type": "markdown",
   "id": "5WQ5i1gc1SXb",
   "metadata": {
    "id": "5WQ5i1gc1SXb"
   },
   "source": [
    "# Local Outlier Factor algorithm"
   ]
  },
  {
   "cell_type": "code",
   "execution_count": 14,
   "id": "CF4yzc4nb778",
   "metadata": {
    "id": "CF4yzc4nb778"
   },
   "outputs": [],
   "source": [
    "X_train = metric_df['mem_utilization'].values.reshape(-1,1)\n",
    "X_test = X_train"
   ]
  },
  {
   "cell_type": "code",
   "execution_count": 15,
   "id": "PmGyp73_blLG",
   "metadata": {
    "id": "PmGyp73_blLG"
   },
   "outputs": [],
   "source": [
    "lof = LOF(contamination=0.05)\n"
   ]
  },
  {
   "cell_type": "code",
   "execution_count": 16,
   "id": "rDKE58Lvbzjj",
   "metadata": {
    "colab": {
     "base_uri": "https://localhost:8080/"
    },
    "executionInfo": {
     "elapsed": 256,
     "status": "ok",
     "timestamp": 1671104901822,
     "user": {
      "displayName": "Javier Antich",
      "userId": "07400792213044689039"
     },
     "user_tz": -60
    },
    "id": "rDKE58Lvbzjj",
    "outputId": "6dd2ce00-a31d-4957-e880-1a35893d9b99"
   },
   "outputs": [
    {
     "name": "stdout",
     "output_type": "stream",
     "text": [
      "The training data: {0: 198, 1: 2}\n",
      "The threshold for the defined contanimation rate: 1.0\n"
     ]
    }
   ],
   "source": [
    "lof = LOF(contamination=0.05) \n",
    "lof.fit(X_train)\n",
    "\n",
    "# Training data\n",
    "y_train_scores = lof.decision_function(X_train)\n",
    "y_train_pred = lof.predict(X_train)\n",
    "\n",
    "# Test data\n",
    "y_test_scores = lof.decision_function(X_test)\n",
    "y_test_pred = lof.predict(X_test) # outlier labels (0 or 1)\n",
    "\n",
    "def count_stat(vector):\n",
    "    # Goal of this function is count how many 0 or 1s are in the vector. \n",
    "    unique, counts = np.unique(vector, return_counts=True)\n",
    "    return dict(zip(unique, counts))\n",
    "\n",
    "print(\"The training data:\", count_stat(y_train_pred))\n",
    "print(\"The threshold for the defined contanimation rate:\" , lof.threshold_)"
   ]
  },
  {
   "cell_type": "code",
   "execution_count": 17,
   "id": "6MKfYsg4d0Rn",
   "metadata": {
    "colab": {
     "base_uri": "https://localhost:8080/"
    },
    "executionInfo": {
     "elapsed": 458,
     "status": "ok",
     "timestamp": 1671094013148,
     "user": {
      "displayName": "Javier Antich",
      "userId": "07400792213044689039"
     },
     "user_tz": -60
    },
    "id": "6MKfYsg4d0Rn",
    "outputId": "27e10f86-2805-4162-a346-e9e7d1bd3b54"
   },
   "outputs": [
    {
     "data": {
      "text/plain": [
       "array([1.0000e+00, 1.0000e+00, 1.0000e+00, 1.0000e+00, 1.0000e+00,\n",
       "       1.0000e+00, 1.0000e+00, 1.0000e+00, 1.0000e+00, 1.0000e+00,\n",
       "       1.0000e+00, 1.0000e+00, 1.0000e+00, 1.0000e+00, 1.0000e+00,\n",
       "       1.0000e+00, 1.0000e+00, 1.0000e+00, 1.0000e+00, 1.0000e+00,\n",
       "       1.0000e+00, 1.0000e+00, 1.0000e+00, 1.0000e+00, 1.0000e+00,\n",
       "       1.0000e+00, 1.0000e+00, 1.0000e+00, 1.0000e+00, 1.0000e+00,\n",
       "       1.0000e+00, 1.0000e+00, 1.0000e+00, 1.0000e+00, 1.0000e+00,\n",
       "       1.0000e+00, 1.0000e+00, 1.0000e+00, 1.0000e+00, 1.0000e+00,\n",
       "       1.0000e+00, 1.0000e+00, 1.0000e+00, 1.0000e+00, 1.0000e+00,\n",
       "       1.0000e+00, 1.0000e+00, 1.0000e+00, 1.0000e+00, 1.0000e+00,\n",
       "       1.0000e+00, 1.0000e+00, 1.0000e+00, 1.0000e+00, 1.0000e+00,\n",
       "       1.0000e+00, 1.0000e+00, 1.0000e+00, 1.0000e+00, 1.0000e+00,\n",
       "       1.0000e+00, 1.0000e+00, 1.0000e+00, 1.0000e+00, 1.0000e+00,\n",
       "       1.0000e+00, 1.0000e+00, 1.0000e+00, 1.0000e+00, 1.0000e+00,\n",
       "       1.0000e+00, 1.0000e+00, 1.0000e+00, 1.0000e+00, 1.0000e+00,\n",
       "       1.0000e+00, 1.0000e+00, 1.0000e+00, 1.0000e+00, 1.0000e+00,\n",
       "       1.0000e+00, 1.0000e+00, 1.0000e+00, 1.0000e+00, 1.0000e+00,\n",
       "       1.0000e+00, 1.0000e+00, 1.0000e+00, 1.0000e+00, 1.0000e+00,\n",
       "       1.0000e+00, 1.0000e+00, 1.0000e+00, 1.0000e+00, 1.0000e+00,\n",
       "       1.0000e+00, 1.0000e+00, 1.0000e+00, 1.0000e+00, 1.0000e+00,\n",
       "       1.0000e+00, 1.0000e+00, 1.0000e+00, 1.0000e+00, 1.0000e+00,\n",
       "       1.0000e+00, 1.0000e+00, 1.0000e+00, 1.0000e+00, 1.0000e+00,\n",
       "       1.0000e+00, 1.0000e+00, 1.0000e+00, 1.0000e+00, 1.0000e+00,\n",
       "       1.0000e+00, 1.0000e+00, 1.0000e+00, 1.0000e+00, 1.0000e+00,\n",
       "       1.0000e+00, 1.0000e+00, 1.0000e+00, 1.0000e+00, 1.0000e+00,\n",
       "       1.0000e+00, 1.0000e+00, 1.0000e+00, 1.0000e+00, 1.0000e+00,\n",
       "       1.0000e+00, 1.0000e+00, 1.0000e+00, 1.0000e+00, 1.0000e+00,\n",
       "       1.0000e+00, 1.0000e+00, 1.0000e+00, 1.0000e+00, 1.0000e+00,\n",
       "       1.0000e+00, 1.0000e+00, 1.0000e+00, 1.0000e+00, 1.0000e+00,\n",
       "       1.0000e+00, 1.0000e+00, 1.0000e+00, 1.0000e+00, 1.0000e+00,\n",
       "       1.0000e+00, 1.0000e+00, 1.0000e+00, 1.0000e+00, 1.0000e+00,\n",
       "       1.0000e+00, 1.0000e+00, 1.0000e+00, 1.0000e+00, 1.0000e+00,\n",
       "       1.0000e+00, 1.0000e+00, 1.0000e+00, 1.0000e+00, 1.0000e+00,\n",
       "       1.0000e+00, 1.0000e+00, 1.0000e+00, 1.0000e+00, 1.0000e+00,\n",
       "       1.0000e+00, 1.0000e+00, 1.0000e+00, 1.0000e+00, 1.0000e+00,\n",
       "       1.0000e+00, 1.0000e+00, 1.0000e+00, 1.0000e+00, 1.0000e+00,\n",
       "       1.0000e+00, 1.0000e+00, 1.0000e+00, 1.0000e+00, 1.0000e+00,\n",
       "       1.0000e+00, 1.0000e+00, 1.0000e+00, 1.0000e+00, 1.0000e+00,\n",
       "       1.0000e+00, 1.0000e+00, 1.0000e+00, 1.0000e+00, 1.0000e+00,\n",
       "       1.0000e+00, 1.0000e+00, 1.0000e+00, 3.8745e+11, 3.9555e+11])"
      ]
     },
     "execution_count": 17,
     "metadata": {},
     "output_type": "execute_result"
    }
   ],
   "source": [
    "y_test_scores"
   ]
  },
  {
   "cell_type": "code",
   "execution_count": 18,
   "id": "yilnqLCmdtyK",
   "metadata": {
    "colab": {
     "base_uri": "https://localhost:8080/",
     "height": 515
    },
    "executionInfo": {
     "elapsed": 726,
     "status": "ok",
     "timestamp": 1671094016894,
     "user": {
      "displayName": "Javier Antich",
      "userId": "07400792213044689039"
     },
     "user_tz": -60
    },
    "id": "yilnqLCmdtyK",
    "outputId": "a79d93fa-dad2-4fd9-963a-6c9aa85800c9"
   },
   "outputs": [
    {
     "data": {
      "text/plain": [
       "<matplotlib.legend.Legend at 0x7f869be780a0>"
      ]
     },
     "execution_count": 18,
     "metadata": {},
     "output_type": "execute_result"
    },
    {
     "data": {
      "image/png": "[encoded data removed]",
      "text/plain": [
       "<Figure size 864x576 with 1 Axes>"
      ]
     },
     "metadata": {},
     "output_type": "display_data"
    }
   ],
   "source": [
    "sns.set(rc={'figure.figsize':(12,8)})\n",
    "sns.histplot(x=y_test_scores, bins=50,hue=y_test_pred)\n",
    "plt.legend(['Outlier score distribution'])"
   ]
  },
  {
   "cell_type": "code",
   "execution_count": 19,
   "id": "Eyrpa0vveVBB",
   "metadata": {
    "colab": {
     "base_uri": "https://localhost:8080/"
    },
    "executionInfo": {
     "elapsed": 244,
     "status": "ok",
     "timestamp": 1671094020077,
     "user": {
      "displayName": "Javier Antich",
      "userId": "07400792213044689039"
     },
     "user_tz": -60
    },
    "id": "Eyrpa0vveVBB",
    "outputId": "8cf30d05-0fb2-44bd-b771-c6cb97f47918"
   },
   "outputs": [
    {
     "name": "stdout",
     "output_type": "stream",
     "text": [
      "Outlier list:\n",
      "    device_name  mem_utilization\n",
      "198     E-100-1               77\n",
      "199     E-100-2               78\n"
     ]
    }
   ],
   "source": [
    "print('Outlier list:')\n",
    "print(metric_df.loc[y_test_pred==1,['device_name','mem_utilization']])"
   ]
  },
  {
   "cell_type": "code",
   "execution_count": null,
   "id": "14307853",
   "metadata": {},
   "outputs": [],
   "source": []
  }
 ],
 "metadata": {
  "colab": {
   "provenance": [
    {
     "file_id": "17b-86MhtHHRjH5dny85MflJdlgFhDkG_",
     "timestamp": 1668104079000
    }
   ]
  },
  "kernelspec": {
   "display_name": "Python 3 (ipykernel)",
   "language": "python",
   "name": "python3"
  },
  "language_info": {
   "codemirror_mode": {
    "name": "ipython",
    "version": 3
   },
   "file_extension": ".py",
   "mimetype": "text/x-python",
   "name": "python",
   "nbconvert_exporter": "python",
   "pygments_lexer": "ipython3",
   "version": "3.10.12"
  }
 },
 "nbformat": 4,
 "nbformat_minor": 5
}
